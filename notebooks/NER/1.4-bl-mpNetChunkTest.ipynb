{
 "cells": [
  {
   "cell_type": "code",
   "execution_count": 1,
   "id": "10f5dafb",
   "metadata": {},
   "outputs": [],
   "source": [
    "import re\n",
    "import os\n",
    "from tqdm.auto import tqdm\n",
    "from sentence_transformers import evaluation\n",
    "import torch \n",
    "from transformers import BertModel\n",
    "from transformers import BertTokenizer\n",
    "from datasets import Dataset\n",
    "import pandas as pd\n",
    "from transformers.optimization import get_linear_schedule_with_warmup\n",
    "import matplotlib.pyplot as plt \n",
    "import numpy as np\n",
    "import sklearn.model_selection\n",
    "import sklearn\n",
    "from sentence_transformers import SentenceTransformer, InputExample, losses, util"
   ]
  },
  {
   "cell_type": "code",
   "execution_count": 2,
   "id": "bfbe2c27",
   "metadata": {},
   "outputs": [],
   "source": [
    "#load data \n",
    "df = pd.read_csv(\"/shared/3/projects/benlitterer/localNews/NetworkMVP/enTrainData.csv\", sep=\"\\t\")\n",
    "df = df.loc[(df[\"url1_lang\"] == \"en\") & (df[\"url2_lang\"] == \"en\")]\n",
    "\n",
    "#put ground truth values into a list \n",
    "df[\"ground_truth\"] = df['Overall']\n"
   ]
  },
  {
   "cell_type": "code",
   "execution_count": 3,
   "id": "9c7b659b",
   "metadata": {},
   "outputs": [
    {
     "data": {
      "text/plain": [
       "Text(0, 0.5, 'count')"
      ]
     },
     "execution_count": 3,
     "metadata": {},
     "output_type": "execute_result"
    },
    {
     "data": {
      "image/png": "[encoded data removed]",
      "text/plain": [
       "<Figure size 504x360 with 1 Axes>"
      ]
     },
     "metadata": {
      "needs_background": "light"
     },
     "output_type": "display_data"
    }
   ],
   "source": [
    "fig, axs = plt.subplots(figsize=[7, 5])\n",
    "len1 = list(df.dropna()[\"text1\"].apply(lambda x: len(x.split())))\n",
    "len2 = list(df.dropna()[\"text2\"].apply(lambda x: len(x.split())))\n",
    "plt.hist(len1 + len2, bins=200)\n",
    "plt.axvline(384, color=\"red\")\n",
    "plt.xlim([0, 2000])\n",
    "plt.title(\"Length of News Articles\", size=16)\n",
    "plt.xlabel(\"tokens\", size=12)\n",
    "plt.ylabel(\"count\", size=12)"
   ]
  },
  {
   "cell_type": "code",
   "execution_count": 4,
   "id": "b005b807",
   "metadata": {},
   "outputs": [
    {
     "data": {
      "text/plain": [
       "4.0"
      ]
     },
     "execution_count": 4,
     "metadata": {},
     "output_type": "execute_result"
    },
    {
     "data": {
      "image/png": "[encoded data removed]",
      "text/plain": [
       "<Figure size 432x288 with 1 Axes>"
      ]
     },
     "metadata": {
      "needs_background": "light"
     },
     "output_type": "display_data"
    }
   ],
   "source": [
    "plt.hist(df[\"ground_truth\"])\n",
    "min(df[\"ground_truth\"])\n",
    "max(df[\"ground_truth\"])"
   ]
  },
  {
   "cell_type": "code",
   "execution_count": 5,
   "id": "f1411102",
   "metadata": {},
   "outputs": [
    {
     "name": "stdout",
     "output_type": "stream",
     "text": [
      "1.0\n"
     ]
    }
   ],
   "source": [
    "\n",
    "#TODO: do we need to make data tensors or does this happen when we call set_format() later on\n",
    "#df[\"ground_truth\"] = df[\"ground_truth\"].apply(torch.tensor)\n",
    "\n",
    "#[torch.tensor(gtList) for gtList in df[\"ground_truth\"]]\n",
    "\n",
    "#get only the columns we need \n",
    "#TODO: do we need \"pair_id\"? \n",
    "leanDf = df[[\"ground_truth\",  'text1', 'text2']].dropna()\n",
    "print(min(leanDf[\"ground_truth\"]))\n",
    "#rescale data from (0, 4): (0, 1)\n",
    "leanDf[\"ground_truth\"] = 1 - ((leanDf[\"ground_truth\"] - 1) / 3)\n"
   ]
  },
  {
   "cell_type": "code",
   "execution_count": 6,
   "id": "412771db",
   "metadata": {},
   "outputs": [
    {
     "data": {
      "text/plain": [
       "(array([593., 189., 113., 139.,  75.,  98., 110.,  71.,  91., 197.]),\n",
       " array([0. , 0.1, 0.2, 0.3, 0.4, 0.5, 0.6, 0.7, 0.8, 0.9, 1. ]),\n",
       " <a list of 10 Patch objects>)"
      ]
     },
     "execution_count": 6,
     "metadata": {},
     "output_type": "execute_result"
    },
    {
     "data": {
      "image/png": "[encoded data removed]",
      "text/plain": [
       "<Figure size 432x288 with 1 Axes>"
      ]
     },
     "metadata": {
      "needs_background": "light"
     },
     "output_type": "display_data"
    }
   ],
   "source": [
    "plt.hist(leanDf[\"ground_truth\"])"
   ]
  },
  {
   "cell_type": "code",
   "execution_count": 7,
   "id": "c8ac7ca4",
   "metadata": {},
   "outputs": [
    {
     "data": {
      "text/plain": [
       "1.0"
      ]
     },
     "execution_count": 7,
     "metadata": {},
     "output_type": "execute_result"
    }
   ],
   "source": [
    "max(leanDf[\"ground_truth\"])"
   ]
  },
  {
   "cell_type": "code",
   "execution_count": 8,
   "id": "4941c3b0",
   "metadata": {},
   "outputs": [
    {
     "name": "stdout",
     "output_type": "stream",
     "text": [
      "torch.cuda.memory_allocated: 0.000000GB\n",
      "torch.cuda.memory_reserved: 0.000000GB\n",
      "torch.cuda.memory_free: 0.000000GB\n",
      "torch.cuda.max_memory_reserved: 0.000000GB\n",
      "Train Rows: 1257\n",
      "Validation Rows: 419\n"
     ]
    }
   ],
   "source": [
    "deviceNum = 4\n",
    "def check_mem():\n",
    "    torch.cuda.empty_cache()\n",
    "    a = torch.cuda.memory_allocated(deviceNum)/1024/1024/1024\n",
    "    r = torch.cuda.memory_reserved(deviceNum)/1024/1024/1024\n",
    "    print(\"torch.cuda.memory_allocated: %fGB\"%a)\n",
    "    print(\"torch.cuda.memory_reserved: %fGB\"%r)\n",
    "    print(\"torch.cuda.memory_free: %fGB\"%(r-a))\n",
    "    print(\"torch.cuda.max_memory_reserved: %fGB\"%(torch.cuda.max_memory_reserved(deviceNum)/1024/1024/1024))\n",
    "check_mem()\n",
    "\n",
    "#split data \n",
    "trainDf, validDf = sklearn.model_selection.train_test_split(leanDf, train_size=.75, test_size=.25)\n",
    "trainDf = trainDf.reset_index(drop=True)\n",
    "trainDf.head(2)\n",
    "\n",
    "print(\"Train Rows: \" + str(trainDf.shape[0]))\n",
    "print(\"Validation Rows: \"  + str(validDf.shape[0]))"
   ]
  },
  {
   "cell_type": "code",
   "execution_count": 9,
   "id": "0429c9e9",
   "metadata": {},
   "outputs": [
    {
     "name": "stdout",
     "output_type": "stream",
     "text": [
      "[\"Hello everyone!!!? How's it going? Yep... Here we are.?\"]\n"
     ]
    }
   ],
   "source": [
    "#TODO: figure out how to keep punctuation after splitting \n",
    "#TODO: also it seems broken... \n",
    "MAX_LEN = 384\n",
    "def splitText(inStr): \n",
    "    #matches combinations of punctuation of any length (e.g. !??..??! would match)\n",
    "    #sents = re.split(\"[.!?]+\", inStr)\n",
    "    sents = re.findall(\".*?[.!?]+\", inStr)\n",
    "    trainExamples = []\n",
    "    chunkIter = 0\n",
    "    currLen = 0 \n",
    "    currText = \"\"\n",
    "    #print(sents)\n",
    "    while chunkIter < len(sents): \n",
    "        \n",
    "        #Add the chunk/sentence to the current training example we are making \n",
    "        #current chunk/sentence we want to add \n",
    "        currChunk = sents[chunkIter]\n",
    "        #print(\"------------------------------\")\n",
    "        #print(currChunk)\n",
    "        #check how long our string would be if we added this chunk \n",
    "        potLen = currLen + len(currChunk.split())\n",
    "        #print(potLen)\n",
    "        if potLen < MAX_LEN: \n",
    "            #print(\"less than\")\n",
    "            #add the sentance to the current string (training example)\n",
    "            #print(\"added \" + currChunk + \" to \" + currText)\n",
    "            currText += currChunk\n",
    "            \n",
    "        else: \n",
    "            #add the current training string to the list of train examples and then set\n",
    "            #it to an empty string again \n",
    "            #print(str(potLen) + \" > \" + str(MAX_LEN))\n",
    "            trainExamples.append(currText)\n",
    "            currText = currChunk\n",
    "            \n",
    "        #get the current length of our training example \n",
    "        currLen = len(currText.split())\n",
    "        \n",
    "        #always want to move to the next chunk \n",
    "        chunkIter += 1\n",
    "    \n",
    "    #the last portion won't get added so we add it here \n",
    "    trainExamples.append(currText)\n",
    "    #print(trainExamples)\n",
    "    return trainExamples \n",
    "\n",
    "testExample = \"Hello everyone!!!? How's it going? Yep... Here we are.? \"\n",
    "print(splitText(testExample))"
   ]
  },
  {
   "cell_type": "code",
   "execution_count": 10,
   "id": "3eb8b356",
   "metadata": {},
   "outputs": [],
   "source": [
    "#we want to create chunked and unchunked versions of the validation data\n",
    "#chunked version of training first \n",
    "validChunked = validDf.copy(deep=True)\n",
    "validChunked[\"text1\"] = validChunked[\"text1\"].apply(splitText)\n",
    "validChunked = validChunked.explode(column=\"text1\")\n",
    "\n",
    "validChunked[\"text2\"] = validChunked[\"text2\"].apply(splitText)\n",
    "validChunked = validChunked.explode(column=\"text2\")"
   ]
  },
  {
   "cell_type": "code",
   "execution_count": 11,
   "id": "874651f6",
   "metadata": {},
   "outputs": [
    {
     "name": "stdout",
     "output_type": "stream",
     "text": [
      "Train Proportion: 0.43106995884773663\n",
      "Validation Proportion: 0.5689300411522633\n"
     ]
    }
   ],
   "source": [
    "trainProp = len(trainDf) / (len(trainDf) + len(validChunked))\n",
    "print(\"Train Proportion: \" + str(trainProp))\n",
    "print(\"Validation Proportion: \" + str(1 - trainProp))"
   ]
  },
  {
   "cell_type": "code",
   "execution_count": 12,
   "id": "7d6293d0",
   "metadata": {},
   "outputs": [],
   "source": [
    "trainExamples = []\n",
    "for row in trainDf.itertuples(): \n",
    "    trainExamples.append(InputExample(texts =[row[2], row[3]], label=row[1]))"
   ]
  },
  {
   "cell_type": "code",
   "execution_count": 13,
   "id": "49e109d5",
   "metadata": {},
   "outputs": [
    {
     "data": {
      "text/plain": [
       "1257"
      ]
     },
     "execution_count": 13,
     "metadata": {},
     "output_type": "execute_result"
    }
   ],
   "source": [
    "len(trainExamples)"
   ]
  },
  {
   "cell_type": "code",
   "execution_count": 14,
   "id": "ebb01d48",
   "metadata": {},
   "outputs": [
    {
     "name": "stdout",
     "output_type": "stream",
     "text": [
      "torch.cuda.memory_allocated: 0.000000GB\n",
      "torch.cuda.memory_reserved: 0.000000GB\n",
      "torch.cuda.memory_free: 0.000000GB\n",
      "torch.cuda.max_memory_reserved: 0.000000GB\n",
      "torch.cuda.memory_allocated: 0.000000GB\n",
      "torch.cuda.memory_reserved: 0.000000GB\n",
      "torch.cuda.memory_free: 0.000000GB\n",
      "torch.cuda.max_memory_reserved: 0.000000GB\n"
     ]
    },
    {
     "data": {
      "application/vnd.jupyter.widget-view+json": {
       "model_id": "a39376fbe5de461bbbfe3fa83d49e12c",
       "version_major": 2,
       "version_minor": 0
      },
      "text/plain": [
       "Epoch:   0%|          | 0/2 [00:00<?, ?it/s]"
      ]
     },
     "metadata": {},
     "output_type": "display_data"
    },
    {
     "data": {
      "application/vnd.jupyter.widget-view+json": {
       "model_id": "f957f5725eae4324b4359b373027f6ec",
       "version_major": 2,
       "version_minor": 0
      },
      "text/plain": [
       "Iteration:   0%|          | 0/158 [00:00<?, ?it/s]"
      ]
     },
     "metadata": {},
     "output_type": "display_data"
    },
    {
     "data": {
      "application/vnd.jupyter.widget-view+json": {
       "model_id": "ec2410fe2eed4d67b29e0a4be61293fa",
       "version_major": 2,
       "version_minor": 0
      },
      "text/plain": [
       "Iteration:   0%|          | 0/158 [00:00<?, ?it/s]"
      ]
     },
     "metadata": {},
     "output_type": "display_data"
    }
   ],
   "source": [
    "#fit model!\n",
    "torch.cuda.empty_cache()\n",
    "\n",
    "#del model\n",
    "#os.rmdir(\"/home/blitt/projects/localNews/models/sentEmbeddings/0.1-mpNetCosSimChunked/output\")\n",
    "#os.rmdir(\"/home/blitt/projects/localNews/models/sentEmbeddings/0.1-mpNetCosSimChunked/checkpoint\")\n",
    "check_mem()\n",
    "\n",
    "model = SentenceTransformer('all-mpnet-base-v2', device=\"cuda:\" + str(deviceNum))\n",
    "\n",
    "#Define your train examples. You need more than just two examples...\n",
    "#train_examples = [InputExample(texts=['My first sentence', 'My second sentence'], label=0.8),\n",
    "#    InputExample(texts=['Another pair', 'Unrelated sentence'], label=0.3)]\n",
    "\n",
    "#Define your train dataset, the dataloader and the train loss\n",
    "train_dataloader = torch.utils.data.DataLoader(trainExamples, shuffle=True, batch_size=8)\n",
    "\n",
    "#works OK \n",
    "#train_loss = losses.MultipleNegativesRankingLoss(model)\n",
    "\n",
    "train_loss = losses.CosineSimilarityLoss(model)\n",
    "\n",
    "evaluator = evaluation.EmbeddingSimilarityEvaluator(list(validChunked[\"text1\"]), list(validChunked[\"text2\"]), list(validChunked[\"ground_truth\"]))\n",
    "\n",
    "check_mem()\n",
    "\n",
    "#Tune the model\n",
    "#\"/shared/3/projects/benlitterer/localNews/NetworkMVP/SBERTstockEval\"\n",
    "output_path = \"/home/blitt/projects/localNews/models/sentEmbeddings/0.2-mpNetCosSimTestChunked/output\"\n",
    "checkpoint_path = \"/home/blitt/projects/localNews/models/sentEmbeddings/0.2-mpNetCosSimTestChunked/checkpoint\"\n",
    "evaluation_steps = 25\n",
    "model.fit(train_objectives=[(train_dataloader, train_loss)], epochs=2, warmup_steps=75, evaluator=evaluator, evaluation_steps = evaluation_steps, output_path=output_path, checkpoint_path=checkpoint_path, save_best_model=True)"
   ]
  },
  {
   "cell_type": "code",
   "execution_count": 15,
   "id": "abe30d21",
   "metadata": {},
   "outputs": [
    {
     "ename": "FileNotFoundError",
     "evalue": "[Errno 2] No such file or directory: '/home/blitt/projects/localNews/models/sentEmbeddings/0.2-mpNetCosSimTest/output/eval/similarity_evaluation_results.csv'",
     "output_type": "error",
     "traceback": [
      "\u001b[0;31m---------------------------------------------------------------------------\u001b[0m",
      "\u001b[0;31mFileNotFoundError\u001b[0m                         Traceback (most recent call last)",
      "\u001b[0;32m<ipython-input-15-4f1ebe8074f2>\u001b[0m in \u001b[0;36m<module>\u001b[0;34m\u001b[0m\n\u001b[0;32m----> 1\u001b[0;31m \u001b[0mevalData\u001b[0m \u001b[0;34m=\u001b[0m \u001b[0mpd\u001b[0m\u001b[0;34m.\u001b[0m\u001b[0mread_csv\u001b[0m\u001b[0;34m(\u001b[0m\u001b[0;34m\"/home/blitt/projects/localNews/models/sentEmbeddings/0.2-mpNetCosSimTest/output/eval/similarity_evaluation_results.csv\"\u001b[0m\u001b[0;34m)\u001b[0m\u001b[0;34m\u001b[0m\u001b[0;34m\u001b[0m\u001b[0m\n\u001b[0m",
      "\u001b[0;32m/opt/anaconda/lib/python3.8/site-packages/pandas/io/parsers.py\u001b[0m in \u001b[0;36mread_csv\u001b[0;34m(filepath_or_buffer, sep, delimiter, header, names, index_col, usecols, squeeze, prefix, mangle_dupe_cols, dtype, engine, converters, true_values, false_values, skipinitialspace, skiprows, skipfooter, nrows, na_values, keep_default_na, na_filter, verbose, skip_blank_lines, parse_dates, infer_datetime_format, keep_date_col, date_parser, dayfirst, cache_dates, iterator, chunksize, compression, thousands, decimal, lineterminator, quotechar, quoting, doublequote, escapechar, comment, encoding, dialect, error_bad_lines, warn_bad_lines, delim_whitespace, low_memory, memory_map, float_precision)\u001b[0m\n\u001b[1;32m    686\u001b[0m     )\n\u001b[1;32m    687\u001b[0m \u001b[0;34m\u001b[0m\u001b[0m\n\u001b[0;32m--> 688\u001b[0;31m     \u001b[0;32mreturn\u001b[0m \u001b[0m_read\u001b[0m\u001b[0;34m(\u001b[0m\u001b[0mfilepath_or_buffer\u001b[0m\u001b[0;34m,\u001b[0m \u001b[0mkwds\u001b[0m\u001b[0;34m)\u001b[0m\u001b[0;34m\u001b[0m\u001b[0;34m\u001b[0m\u001b[0m\n\u001b[0m\u001b[1;32m    689\u001b[0m \u001b[0;34m\u001b[0m\u001b[0m\n\u001b[1;32m    690\u001b[0m \u001b[0;34m\u001b[0m\u001b[0m\n",
      "\u001b[0;32m/opt/anaconda/lib/python3.8/site-packages/pandas/io/parsers.py\u001b[0m in \u001b[0;36m_read\u001b[0;34m(filepath_or_buffer, kwds)\u001b[0m\n\u001b[1;32m    452\u001b[0m \u001b[0;34m\u001b[0m\u001b[0m\n\u001b[1;32m    453\u001b[0m     \u001b[0;31m# Create the parser.\u001b[0m\u001b[0;34m\u001b[0m\u001b[0;34m\u001b[0m\u001b[0;34m\u001b[0m\u001b[0m\n\u001b[0;32m--> 454\u001b[0;31m     \u001b[0mparser\u001b[0m \u001b[0;34m=\u001b[0m \u001b[0mTextFileReader\u001b[0m\u001b[0;34m(\u001b[0m\u001b[0mfp_or_buf\u001b[0m\u001b[0;34m,\u001b[0m \u001b[0;34m**\u001b[0m\u001b[0mkwds\u001b[0m\u001b[0;34m)\u001b[0m\u001b[0;34m\u001b[0m\u001b[0;34m\u001b[0m\u001b[0m\n\u001b[0m\u001b[1;32m    455\u001b[0m \u001b[0;34m\u001b[0m\u001b[0m\n\u001b[1;32m    456\u001b[0m     \u001b[0;32mif\u001b[0m \u001b[0mchunksize\u001b[0m \u001b[0;32mor\u001b[0m \u001b[0miterator\u001b[0m\u001b[0;34m:\u001b[0m\u001b[0;34m\u001b[0m\u001b[0;34m\u001b[0m\u001b[0m\n",
      "\u001b[0;32m/opt/anaconda/lib/python3.8/site-packages/pandas/io/parsers.py\u001b[0m in \u001b[0;36m__init__\u001b[0;34m(self, f, engine, **kwds)\u001b[0m\n\u001b[1;32m    946\u001b[0m             \u001b[0mself\u001b[0m\u001b[0;34m.\u001b[0m\u001b[0moptions\u001b[0m\u001b[0;34m[\u001b[0m\u001b[0;34m\"has_index_names\"\u001b[0m\u001b[0;34m]\u001b[0m \u001b[0;34m=\u001b[0m \u001b[0mkwds\u001b[0m\u001b[0;34m[\u001b[0m\u001b[0;34m\"has_index_names\"\u001b[0m\u001b[0;34m]\u001b[0m\u001b[0;34m\u001b[0m\u001b[0;34m\u001b[0m\u001b[0m\n\u001b[1;32m    947\u001b[0m \u001b[0;34m\u001b[0m\u001b[0m\n\u001b[0;32m--> 948\u001b[0;31m         \u001b[0mself\u001b[0m\u001b[0;34m.\u001b[0m\u001b[0m_make_engine\u001b[0m\u001b[0;34m(\u001b[0m\u001b[0mself\u001b[0m\u001b[0;34m.\u001b[0m\u001b[0mengine\u001b[0m\u001b[0;34m)\u001b[0m\u001b[0;34m\u001b[0m\u001b[0;34m\u001b[0m\u001b[0m\n\u001b[0m\u001b[1;32m    949\u001b[0m \u001b[0;34m\u001b[0m\u001b[0m\n\u001b[1;32m    950\u001b[0m     \u001b[0;32mdef\u001b[0m \u001b[0mclose\u001b[0m\u001b[0;34m(\u001b[0m\u001b[0mself\u001b[0m\u001b[0;34m)\u001b[0m\u001b[0;34m:\u001b[0m\u001b[0;34m\u001b[0m\u001b[0;34m\u001b[0m\u001b[0m\n",
      "\u001b[0;32m/opt/anaconda/lib/python3.8/site-packages/pandas/io/parsers.py\u001b[0m in \u001b[0;36m_make_engine\u001b[0;34m(self, engine)\u001b[0m\n\u001b[1;32m   1178\u001b[0m     \u001b[0;32mdef\u001b[0m \u001b[0m_make_engine\u001b[0m\u001b[0;34m(\u001b[0m\u001b[0mself\u001b[0m\u001b[0;34m,\u001b[0m \u001b[0mengine\u001b[0m\u001b[0;34m=\u001b[0m\u001b[0;34m\"c\"\u001b[0m\u001b[0;34m)\u001b[0m\u001b[0;34m:\u001b[0m\u001b[0;34m\u001b[0m\u001b[0;34m\u001b[0m\u001b[0m\n\u001b[1;32m   1179\u001b[0m         \u001b[0;32mif\u001b[0m \u001b[0mengine\u001b[0m \u001b[0;34m==\u001b[0m \u001b[0;34m\"c\"\u001b[0m\u001b[0;34m:\u001b[0m\u001b[0;34m\u001b[0m\u001b[0;34m\u001b[0m\u001b[0m\n\u001b[0;32m-> 1180\u001b[0;31m             \u001b[0mself\u001b[0m\u001b[0;34m.\u001b[0m\u001b[0m_engine\u001b[0m \u001b[0;34m=\u001b[0m \u001b[0mCParserWrapper\u001b[0m\u001b[0;34m(\u001b[0m\u001b[0mself\u001b[0m\u001b[0;34m.\u001b[0m\u001b[0mf\u001b[0m\u001b[0;34m,\u001b[0m \u001b[0;34m**\u001b[0m\u001b[0mself\u001b[0m\u001b[0;34m.\u001b[0m\u001b[0moptions\u001b[0m\u001b[0;34m)\u001b[0m\u001b[0;34m\u001b[0m\u001b[0;34m\u001b[0m\u001b[0m\n\u001b[0m\u001b[1;32m   1181\u001b[0m         \u001b[0;32melse\u001b[0m\u001b[0;34m:\u001b[0m\u001b[0;34m\u001b[0m\u001b[0;34m\u001b[0m\u001b[0m\n\u001b[1;32m   1182\u001b[0m             \u001b[0;32mif\u001b[0m \u001b[0mengine\u001b[0m \u001b[0;34m==\u001b[0m \u001b[0;34m\"python\"\u001b[0m\u001b[0;34m:\u001b[0m\u001b[0;34m\u001b[0m\u001b[0;34m\u001b[0m\u001b[0m\n",
      "\u001b[0;32m/opt/anaconda/lib/python3.8/site-packages/pandas/io/parsers.py\u001b[0m in \u001b[0;36m__init__\u001b[0;34m(self, src, **kwds)\u001b[0m\n\u001b[1;32m   2008\u001b[0m         \u001b[0mkwds\u001b[0m\u001b[0;34m[\u001b[0m\u001b[0;34m\"usecols\"\u001b[0m\u001b[0;34m]\u001b[0m \u001b[0;34m=\u001b[0m \u001b[0mself\u001b[0m\u001b[0;34m.\u001b[0m\u001b[0musecols\u001b[0m\u001b[0;34m\u001b[0m\u001b[0;34m\u001b[0m\u001b[0m\n\u001b[1;32m   2009\u001b[0m \u001b[0;34m\u001b[0m\u001b[0m\n\u001b[0;32m-> 2010\u001b[0;31m         \u001b[0mself\u001b[0m\u001b[0;34m.\u001b[0m\u001b[0m_reader\u001b[0m \u001b[0;34m=\u001b[0m \u001b[0mparsers\u001b[0m\u001b[0;34m.\u001b[0m\u001b[0mTextReader\u001b[0m\u001b[0;34m(\u001b[0m\u001b[0msrc\u001b[0m\u001b[0;34m,\u001b[0m \u001b[0;34m**\u001b[0m\u001b[0mkwds\u001b[0m\u001b[0;34m)\u001b[0m\u001b[0;34m\u001b[0m\u001b[0;34m\u001b[0m\u001b[0m\n\u001b[0m\u001b[1;32m   2011\u001b[0m         \u001b[0mself\u001b[0m\u001b[0;34m.\u001b[0m\u001b[0munnamed_cols\u001b[0m \u001b[0;34m=\u001b[0m \u001b[0mself\u001b[0m\u001b[0;34m.\u001b[0m\u001b[0m_reader\u001b[0m\u001b[0;34m.\u001b[0m\u001b[0munnamed_cols\u001b[0m\u001b[0;34m\u001b[0m\u001b[0;34m\u001b[0m\u001b[0m\n\u001b[1;32m   2012\u001b[0m \u001b[0;34m\u001b[0m\u001b[0m\n",
      "\u001b[0;32mpandas/_libs/parsers.pyx\u001b[0m in \u001b[0;36mpandas._libs.parsers.TextReader.__cinit__\u001b[0;34m()\u001b[0m\n",
      "\u001b[0;32mpandas/_libs/parsers.pyx\u001b[0m in \u001b[0;36mpandas._libs.parsers.TextReader._setup_parser_source\u001b[0;34m()\u001b[0m\n",
      "\u001b[0;31mFileNotFoundError\u001b[0m: [Errno 2] No such file or directory: '/home/blitt/projects/localNews/models/sentEmbeddings/0.2-mpNetCosSimTest/output/eval/similarity_evaluation_results.csv'"
     ]
    }
   ],
   "source": [
    "evalData = pd.read_csv(\"/home/blitt/projects/localNews/models/sentEmbeddings/0.2-mpNetCosSimTest/output/eval/similarity_evaluation_results.csv\")"
   ]
  },
  {
   "cell_type": "code",
   "execution_count": null,
   "id": "8065a6e3",
   "metadata": {},
   "outputs": [],
   "source": [
    "evalData"
   ]
  },
  {
   "cell_type": "code",
   "execution_count": null,
   "id": "e951cb6b",
   "metadata": {},
   "outputs": [],
   "source": [
    "#TODO: change output path so we don't get this. Create whole new folder for this model..? "
   ]
  },
  {
   "cell_type": "code",
   "execution_count": null,
   "id": "e61588ce",
   "metadata": {},
   "outputs": [],
   "source": [
    "plotDat"
   ]
  },
  {
   "cell_type": "code",
   "execution_count": null,
   "id": "39df3883",
   "metadata": {},
   "outputs": [],
   "source": [
    "EPOCH_SIZE = 561\n",
    "EVALUATION_STEPS = evaluation_steps \n",
    "\n",
    "#format the data in dataframe \n",
    "plotData = evalData[evalData[\"steps\"] != -1]\n",
    "currStep = 0 \n",
    "totalSteps = (plotData[\"steps\"] / EPOCH_SIZE) + plotData[\"epoch\"]\n",
    "\n",
    "    \n",
    "plotData[\"totalSteps\"] = totalSteps\n",
    "\n",
    "#plot eval \n",
    "plt.rcParams['figure.dpi'] = 500\n",
    "plt.plot(plotData[\"totalSteps\"], plotData[\"cosine_pearson\"])\n",
    "plt.title(\"Article Similarity - Validation Set\", size=18)\n",
    "plt.xlabel(\"epoch\", size=15)\n",
    "plt.ylabel(\"Pearson Correlation\", size=15)"
   ]
  },
  {
   "cell_type": "code",
   "execution_count": null,
   "id": "fb70e0f9",
   "metadata": {},
   "outputs": [],
   "source": [
    "plotData"
   ]
  },
  {
   "cell_type": "code",
   "execution_count": null,
   "id": "f5462714",
   "metadata": {},
   "outputs": [],
   "source": [
    "#get test data \n",
    "#testRow = validDf.reset_index(drop=True).iloc[0,:]\n",
    "#testExample = InputExample(texts = [testRow[1], testRow[2]], label=testRow[0])\n",
    "testDf = pd.read_csv(\"/shared/3/projects/benlitterer/localNews/NetworkMVP/enTestData.csv\", sep=\"\\t\")\n",
    "testDf.head(1)\n",
    "print(testDf.shape)"
   ]
  },
  {
   "cell_type": "code",
   "execution_count": null,
   "id": "8b9702fb",
   "metadata": {},
   "outputs": [],
   "source": [
    "#chunk our test data \n",
    "testChunked = testDf[[\"text1\", \"text2\", \"Overall\"]]\n",
    "testChunked[\"text1\"] = testChunked[\"text1\"].apply(splitText)\n",
    "testChunked = testChunked.explode(column=\"text1\")\n",
    "testChunked[\"text2\"] = testChunked[\"text2\"].apply(splitText)\n",
    "testChunked = testChunked.explode(column=\"text2\")"
   ]
  },
  {
   "cell_type": "code",
   "execution_count": null,
   "id": "210d0ec1",
   "metadata": {},
   "outputs": [],
   "source": [
    "testChunked[\"len1\"] = testChunked[\"text1\"].apply(lambda x: len(x.split()))\n",
    "testChunked[\"len2\"] = testChunked[\"text2\"].apply(lambda x: len(x.split()))\n"
   ]
  },
  {
   "cell_type": "code",
   "execution_count": null,
   "id": "c5dcc7fa",
   "metadata": {},
   "outputs": [],
   "source": [
    "testDf[\"len1\"] = testDf[\"text1\"].apply(lambda x: len(x.split()))\n",
    "testDf[\"len2\"] = testDf[\"text2\"].apply(lambda x: len(x.split()))\n"
   ]
  },
  {
   "cell_type": "code",
   "execution_count": null,
   "id": "58cb5c67",
   "metadata": {},
   "outputs": [],
   "source": [
    "fig, axs = plt.subplots(nrows=2, ncols=1, figsize=[5, 4], sharex=True)\n",
    "axs[0].hist(list(testDf[\"len1\"]) + list(testDf[\"len2\"]))\n",
    "axs[0].axvline(384, color=\"red\")\n",
    "axs[0].set_title(\"Test Input Length Before Chunking\", size=14)\n",
    "axs[0].set_ylabel(\"count\", size=12)\n",
    "axs[1].hist(list(testChunked[\"len1\"]) + list(testChunked[\"len2\"]))\n",
    "axs[1].axvline(384, color=\"red\")\n",
    "axs[1].set_title(\"Test Input Length After Chunking\", size=14)\n",
    "axs[1].set_ylabel(\"count\", size=12)\n",
    "axs[1].set_xlabel(\"tokens\", size=12)\n",
    "plt.tight_layout()"
   ]
  },
  {
   "cell_type": "code",
   "execution_count": null,
   "id": "3cc041fc",
   "metadata": {},
   "outputs": [],
   "source": [
    "plt.subplots(figsize=[6, 3])\n",
    "plt.hist(list(testChunked[\"len1\"]) + list(testChunked[\"len2\"]))\n",
    "plt.axvline(384, color=\"red\")\n",
    "plt.title(\"Test Input Length After Chunking\", size=14)\n",
    "plt.ylabel(\"count\", size=12)\n",
    "plt.xlabel(\"tokens\", size=12)"
   ]
  },
  {
   "cell_type": "code",
   "execution_count": null,
   "id": "6924d961",
   "metadata": {},
   "outputs": [],
   "source": [
    "testChunked"
   ]
  },
  {
   "cell_type": "code",
   "execution_count": null,
   "id": "90220f10",
   "metadata": {},
   "outputs": [],
   "source": [
    "#load model\n",
    "modelPath = \"/home/blitt/projects/localNews/models/sentEmbeddings/0.1-mpNetCosSimChunked/output\"\n",
    "model = SentenceTransformer(modelPath)\n",
    "\n",
    "#compute embeddings for the test data and get correlation with ground truth \n",
    "text1 = list(testChunked[\"text1\"])\n",
    "text2 = list(testChunked[\"text2\"])\n",
    "\n",
    "#embed test text \n",
    "embed1 = model.encode(text1)\n",
    "embed2 = model.encode(text2)\n",
    "\n",
    "#get our cosine sims \n",
    "cos_scores = [] \n",
    "for i in range(len(embed1)): \n",
    "    cos_scores.append(util.cos_sim(embed1[i], embed2[i]))\n",
    "cos_scores[:2]\n",
    "\n",
    "#rescale ground truth \n",
    "preds = [float(item) for item in cos_scores]\n",
    "gt = (5 - testChunked[\"Overall\"]) / 4\n",
    "print(np.corrcoef([preds, gt]))\n",
    "\n",
    "#to dataframe \n",
    "comparisonMat = pd.DataFrame({\"gt\":gt, \"preds\":preds})\n"
   ]
  },
  {
   "cell_type": "code",
   "execution_count": null,
   "id": "46ef818d",
   "metadata": {},
   "outputs": [],
   "source": [
    "testChunked[\"gt\"] = gt\n",
    "testChunked[\"preds\"] = preds"
   ]
  },
  {
   "cell_type": "code",
   "execution_count": null,
   "id": "ad94340a",
   "metadata": {},
   "outputs": [],
   "source": [
    "chunkingResults = testChunked.reset_index().groupby(\"index\").agg(list)\n",
    "chunkingResults[\"avgPred\"] = chunkingResults[\"preds\"].apply(np.mean)\n",
    "chunkingResults[\"maxPred\"] = chunkingResults[\"preds\"].apply(max)\n",
    "chunkingResults[\"minPred\"] = chunkingResults[\"preds\"].apply(min)\n",
    "chunkingResults[\"medianPred\"] = chunkingResults[\"preds\"].apply(np.median)"
   ]
  },
  {
   "cell_type": "code",
   "execution_count": null,
   "id": "1f2d3646",
   "metadata": {},
   "outputs": [],
   "source": [
    "chunkingResults[\"gt\"] = chunkingResults[\"gt\"].apply(lambda x: x[0])"
   ]
  },
  {
   "cell_type": "code",
   "execution_count": null,
   "id": "85fe5621",
   "metadata": {},
   "outputs": [],
   "source": [
    "for colName in [\"avgPred\", \"maxPred\", \"minPred\", \"medianPred\"]:\n",
    "    print(colName)\n",
    "    print(np.corrcoef([list(chunkingResults[colName]), chunkingResults[\"gt\"]]))"
   ]
  },
  {
   "cell_type": "code",
   "execution_count": null,
   "id": "3f12e723",
   "metadata": {},
   "outputs": [],
   "source": [
    "#compare ground truth on x axis to predictions on the y \n",
    "plt.scatter(chunkingResults[\"gt\"], chunkingResults[\"maxPred\"], alpha = .2)\n",
    "plt.xlabel(\"Ground Truth Similarity\")\n",
    "plt.ylabel(\"Predicted Similarity\")\n",
    "plt.title(\"Max Similarity Aggregation\")"
   ]
  },
  {
   "cell_type": "code",
   "execution_count": null,
   "id": "6f01701c",
   "metadata": {},
   "outputs": [],
   "source": [
    "chunkingResults.head(3)"
   ]
  },
  {
   "cell_type": "code",
   "execution_count": null,
   "id": "7afd385f",
   "metadata": {},
   "outputs": [],
   "source": [
    "#conf = sklearn.metrics.confusion_matrix(comparisonMat[\"gtIsSame\"], comparisonMat[\"predIsSame\"])\n",
    "bGt = [int(item) for item in chunkingResults[\"gt\"] >= .8]\n",
    "bPred = [int(item) for item in chunkingResults[\"maxPred\"] >= .8]\n",
    "precision, recall, fbeta, support = sklearn.metrics.precision_recall_fscore_support(bGt, bPred, average=\"binary\")\n",
    "print(precision)\n",
    "print(recall)\n",
    "print(fbeta)"
   ]
  },
  {
   "cell_type": "code",
   "execution_count": null,
   "id": "107fcede",
   "metadata": {},
   "outputs": [],
   "source": [
    "#create cutoff and get predictions/gt for binary classification problem \n",
    "cutoff = .6\n",
    "\n",
    "comparisonMat[\"gtIsSame\"] = comparisonMat[\"gt\"] >= .8\n",
    "comparisonMat[\"gtIsSame\"] = comparisonMat[\"gtIsSame\"].astype(int)\n",
    "\n",
    "comparisonMat[\"predIsSame\"] = comparisonMat[\"preds\"] >= .8\n",
    "comparisonMat[\"predIsSame\"] = comparisonMat[\"predIsSame\"].astype(int)\n",
    "comparisonMat"
   ]
  },
  {
   "cell_type": "code",
   "execution_count": null,
   "id": "f6a4a9fe",
   "metadata": {},
   "outputs": [],
   "source": [
    "#TODO/NOTE: we can find cutoffs where precision and recall are very good. How do we think of a best value to pick..? "
   ]
  },
  {
   "cell_type": "code",
   "execution_count": null,
   "id": "70508a28",
   "metadata": {},
   "outputs": [],
   "source": [
    "#confusion matrix \n",
    "conf = sklearn.metrics.confusion_matrix(comparisonMat[\"gtIsSame\"], comparisonMat[\"predIsSame\"])\n",
    "\n",
    "#unpack conf matrix. Get accuracy \n",
    "acc = (conf[0,0] + conf[1, 1] ) / (len(comparisonMat))\n",
    "tn, fp, fn, tp = conf.ravel()\n",
    "\n",
    "#get precision, recall, f1\n",
    "precision = (tp) / (tp + fp)\n",
    "print(\"precision: \" + str(precision))\n",
    "recall = (tp) / (tp + fn)\n",
    "print(\"recall: \" + str(recall))\n",
    "f1 = 2 * (precision * recall) / (precision + recall)\n",
    "print(\"f1: \" + str(f1))"
   ]
  }
 ],
 "metadata": {
  "kernelspec": {
   "display_name": "Python 3",
   "language": "python",
   "name": "python3"
  },
  "language_info": {
   "codemirror_mode": {
    "name": "ipython",
    "version": 3
   },
   "file_extension": ".py",
   "mimetype": "text/x-python",
   "name": "python",
   "nbconvert_exporter": "python",
   "pygments_lexer": "ipython3",
   "version": "3.8.5"
  }
 },
 "nbformat": 4,
 "nbformat_minor": 5
}
