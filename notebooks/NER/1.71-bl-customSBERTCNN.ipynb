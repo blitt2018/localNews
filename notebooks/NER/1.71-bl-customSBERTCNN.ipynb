{
 "cells": [
  {
   "cell_type": "code",
   "execution_count": 1,
   "metadata": {},
   "outputs": [],
   "source": [
    "from tqdm.auto import tqdm\n",
    "import torch \n",
    "from transformers import DistilBertModel\n",
    "from transformers import DistilBertTokenizer\n",
    "from transformers import PreTrainedTokenizer\n",
    "from sentence_transformers import SentenceTransformer, SentencesDataset, InputExample, losses\n",
    "from datasets import Dataset\n",
    "import pandas as pd\n",
    "from transformers.optimization import get_linear_schedule_with_warmup\n",
    "import matplotlib.pyplot as plt \n",
    "import numpy as np\n",
    "from sentence_transformers import SentenceTransformer\n",
    "from transformers import AutoTokenizer, AutoModel\n",
    "from torch.nn import CosineEmbeddingLoss\n",
    "import sklearn\n",
    "import spacy\n",
    "from torch import nn\n",
    "#Build up to SBERT model "
   ]
  },
  {
   "cell_type": "code",
   "execution_count": 2,
   "metadata": {},
   "outputs": [
    {
     "name": "stdout",
     "output_type": "stream",
     "text": [
      "torch.cuda.memory_allocated: 0.000000GB\n",
      "torch.cuda.memory_reserved: 0.000000GB\n",
      "torch.cuda.memory_free: 0.000000GB\n",
      "torch.cuda.max_memory_reserved: 0.000000GB\n"
     ]
    }
   ],
   "source": [
    "deviceNum = 1\n",
    "\n",
    "device = torch.device(\"cuda:\" + str(deviceNum) if torch.cuda.is_available() else \"cpu\")\n",
    "\n",
    "def check_mem():\n",
    "    torch.cuda.empty_cache()\n",
    "    a = torch.cuda.memory_allocated(deviceNum)/1024/1024/1024\n",
    "    r = torch.cuda.memory_reserved(deviceNum)/1024/1024/1024\n",
    "    print(\"torch.cuda.memory_allocated: %fGB\"%a)\n",
    "    print(\"torch.cuda.memory_reserved: %fGB\"%r)\n",
    "    print(\"torch.cuda.memory_free: %fGB\"%(r-a))\n",
    "    print(\"torch.cuda.max_memory_reserved: %fGB\"%(torch.cuda.max_memory_reserved(deviceNum)/1024/1024/1024))\n",
    "check_mem()\n",
    "\n",
    "\n",
    "torch.manual_seed(0)\n",
    "\n",
    "df = pd.read_csv(\"/shared/3/projects/benlitterer/localNews/NetworkMVP/enTrainData.csv\", sep=\"\\t\")\n",
    "df = df.loc[(df[\"url1_lang\"] == \"en\") & (df[\"url2_lang\"] == \"en\")]\n",
    "\n",
    "#put ground truth values into a list \n",
    "df[\"ground_truth\"] = df['Overall']\n",
    "\n",
    "#get only the columns we need \n",
    "#TODO: do we need \"pair_id\"? \n",
    "leanDf = df[[\"ground_truth\",  'text1', 'text2']].dropna()\n",
    "\n",
    "#rescale data from (0, 4): (0, 1)\n",
    "leanDf[\"ground_truth\"] = 1 - ((leanDf[\"ground_truth\"] - 1) / 3)"
   ]
  },
  {
   "cell_type": "code",
   "execution_count": 3,
   "metadata": {},
   "outputs": [],
   "source": [
    "class CustomSentListDataset(Dataset): \n",
    "    def __init__(self, inDf): \n",
    "        self.inDf = inDf \n",
    "        \n",
    "    def __len__(self): \n",
    "        return len(self.inDf)\n",
    "    \n",
    "    def __getitem__(self, idx):\n",
    "        return list(self.inDf.iloc[idx])"
   ]
  },
  {
   "cell_type": "code",
   "execution_count": 4,
   "metadata": {},
   "outputs": [
    {
     "data": {
      "application/vnd.jupyter.widget-view+json": {
       "model_id": "2c5a5ee11aaf4faf9dff2f2ee9bf0813",
       "version_major": 2,
       "version_minor": 0
      },
      "text/plain": [
       "0it [00:00, ?it/s]"
      ]
     },
     "metadata": {},
     "output_type": "display_data"
    },
    {
     "data": {
      "application/vnd.jupyter.widget-view+json": {
       "model_id": "db205d9a3c8c4a0489828bb89dce815c",
       "version_major": 2,
       "version_minor": 0
      },
      "text/plain": [
       "0it [00:00, ?it/s]"
      ]
     },
     "metadata": {},
     "output_type": "display_data"
    },
    {
     "data": {
      "application/vnd.jupyter.widget-view+json": {
       "model_id": "a11579aa6fb348df9d97d69601f10d18",
       "version_major": 2,
       "version_minor": 0
      },
      "text/plain": [
       "0it [00:00, ?it/s]"
      ]
     },
     "metadata": {},
     "output_type": "display_data"
    },
    {
     "data": {
      "application/vnd.jupyter.widget-view+json": {
       "model_id": "bd7f25771120443f90b8e613e96ea7e5",
       "version_major": 2,
       "version_minor": 0
      },
      "text/plain": [
       "0it [00:00, ?it/s]"
      ]
     },
     "metadata": {},
     "output_type": "display_data"
    }
   ],
   "source": [
    "#nlp = spacy.load(\"en_core_web_sm\", disable=[\"tok2vec\", \"tagger\", \"parser\", \"attribute_ruler\", \"lemmatizer\", \"ner\"])\n",
    "#nlp.enable_pipe(\"senter\")\n",
    "nlp = spacy.blank(\"en\")\n",
    "nlp.add_pipe(\"sentencizer\")\n",
    "\n",
    "def extractSents(inList): \n",
    "    separator = nlp.pipe(inList, n_process=8)\n",
    "    textList = []\n",
    "    for text in tqdm(separator): \n",
    "        sentList = [str(sent) for sent in text.sents if len(sent) > 3]\n",
    "        textList.append(sentList)\n",
    "    return textList\n",
    "\n",
    "#split data \n",
    "trainDf, validDf = sklearn.model_selection.train_test_split(leanDf, train_size=.9, test_size=.1)\n",
    "trainDf = trainDf.reset_index(drop=True)\n",
    "validDf = validDf.reset_index(drop=True)\n",
    "\n",
    "trainDf[\"text1\"] = extractSents(trainDf[\"text1\"])\n",
    "trainDf[\"text2\"] = extractSents(trainDf[\"text2\"])\n",
    "validDf[\"text1\"] = extractSents(validDf[\"text1\"])\n",
    "validDf[\"text2\"] = extractSents(validDf[\"text2\"])\n",
    "\n"
   ]
  },
  {
   "cell_type": "code",
   "execution_count": 5,
   "metadata": {},
   "outputs": [],
   "source": [
    "sentCutoff = 60\n",
    " \n",
    "trainDf[\"text1\"] = trainDf[\"text1\"].apply(lambda x: x[:sentCutoff])\n",
    "trainDf[\"text2\"] = trainDf[\"text2\"].apply(lambda x: x[:sentCutoff])\n",
    "\n",
    "validDf[\"text1\"] = validDf[\"text1\"].apply(lambda x: x[:sentCutoff])\n",
    "validDf[\"text2\"] = validDf[\"text2\"].apply(lambda x: x[:sentCutoff])\n"
   ]
  },
  {
   "cell_type": "code",
   "execution_count": 6,
   "metadata": {},
   "outputs": [],
   "source": [
    "tokenizer = AutoTokenizer.from_pretrained('sentence-transformers/all-mpnet-base-v2')\n",
    "\n",
    "def getLoader(inDf, batchSize): \n",
    "    inDf[\"text1\"] = inDf[\"text1\"].apply(lambda x: tokenizer.batch_encode_plus(x, max_length=60, padding=\"max_length\", truncation=True, return_tensors=\"pt\"))\n",
    "    inDf[\"text2\"] = inDf[\"text2\"].apply(lambda x: tokenizer.batch_encode_plus(x, max_length=60, padding=\"max_length\", truncation=True, return_tensors=\"pt\"))\n",
    "    \n",
    "    inDf[\"text1_input_ids\"] = inDf[\"text1\"].apply(lambda x: x[\"input_ids\"])\n",
    "    inDf[\"text2_input_ids\"] = inDf[\"text2\"].apply(lambda x: x[\"input_ids\"])\n",
    "    \n",
    "    inDf[\"text1_attention_mask\"] = inDf[\"text1\"].apply(lambda x: x[\"attention_mask\"])\n",
    "    inDf[\"text2_attention_mask\"] = inDf[\"text2\"].apply(lambda x: x[\"attention_mask\"])\n",
    "    \n",
    "    #inDf[\"ground_truth\"] = inDf[\"ground_truth\"].apply(lambda x: x))\n",
    "    \n",
    "    dataset = CustomSentListDataset(inDf[[\"ground_truth\", \"text1_input_ids\", \"text1_attention_mask\",\"text2_input_ids\", \"text2_attention_mask\"]])\n",
    "    \n",
    "    # convert dataset features to PyTorch tensors\n",
    "    #dataset.set_format(type='torch', columns=inDf.columns())\n",
    "    loader = torch.utils.data.DataLoader(dataset, batch_size=batchSize, shuffle=True)\n",
    "    return [dataset, loader]\n",
    "\n",
    "trainData, trainLoader = getLoader(trainDf, 1)\n",
    "validData, validLoader = getLoader(validDf, 1)\n"
   ]
  },
  {
   "cell_type": "code",
   "execution_count": 7,
   "metadata": {},
   "outputs": [
    {
     "data": {
      "text/plain": [
       "tensor(0.)"
      ]
     },
     "execution_count": 7,
     "metadata": {},
     "output_type": "execute_result"
    }
   ],
   "source": [
    "cos = torch.nn.CosineSimilarity(dim=0, eps=1e-6)\n",
    "cos(torch.Tensor([0]), torch.Tensor([0]))"
   ]
  },
  {
   "cell_type": "code",
   "execution_count": 8,
   "metadata": {},
   "outputs": [],
   "source": [
    "#NOTE: originally universal sentence encoder was fed in as well as mp-net encoding. That's why \n",
    "#they have dimension of two going into the network \n",
    "class BigModel(nn.Module): \n",
    "    def __init__(self, sentCutoff, dropout): \n",
    "        super(BigModel, self).__init__()\n",
    "        \n",
    "        #need encoder first \n",
    "        self.model = AutoModel.from_pretrained('sentence-transformers/all-mpnet-base-v2')\n",
    "        self.cos = torch.nn.CosineSimilarity(dim=0, eps=1e-6)\n",
    "        self.sentCutoff = sentCutoff\n",
    "        self.loss_func = torch.nn.MSELoss(reduction=\"mean\")\n",
    "        \n",
    "        N_UNITS = 5\n",
    "        self.in_1 = SimCnnSubPart(kernel_size=5, dropout=dropout)\n",
    "        self.in_2 = SimCnnSubPart(kernel_size=7, dropout=dropout)\n",
    "        self.in_3 = SimCnnSubPart(kernel_size=10, dropout=dropout)\n",
    "        self.in_4 = SimCnnSubPart(kernel_size=12, dropout=dropout)\n",
    "        self.in_5 = SimCnnSubPart(kernel_size=15, dropout=dropout)\n",
    "        \n",
    "        self.out = nn.Sequential(\n",
    "            nn.Flatten(),\n",
    "            nn.Linear(in_features=128*N_UNITS, out_features=128*(N_UNITS-2)),\n",
    "            nn.ReLU6(),\n",
    "            nn.Linear(in_features=128*(N_UNITS-2), out_features=128*(N_UNITS-3)),\n",
    "            nn.Dropout(dropout),\n",
    "            nn.ReLU6(),\n",
    "            nn.Linear(in_features=128*(N_UNITS-3), out_features=128*(N_UNITS-4)),\n",
    "            nn.ReLU6(),\n",
    "            nn.Linear(in_features=128*(N_UNITS-4), out_features=64),\n",
    "            nn.Dropout(dropout),\n",
    "            nn.ReLU6(),\n",
    "            nn.Linear(in_features=64, out_features=32),\n",
    "            nn.ReLU6(),\n",
    "            nn.Linear(in_features=32, out_features=1),\n",
    "        )\n",
    "        \n",
    "        \"\"\"\n",
    "        self.out = nn.Sequential(\n",
    "            nn.Flatten(),\n",
    "            nn.Linear(in_features=128, out_features=int(128/3)),\n",
    "            nn.ReLU6(),\n",
    "            nn.Linear(in_features=int(128/3), out_features=int(128/6)),\n",
    "            nn.Dropout(dropout),\n",
    "            nn.ReLU6(),\n",
    "            nn.Linear(in_features=int(128/6), out_features=int(128/8)),\n",
    "            nn.ReLU6(),\n",
    "            nn.Linear(in_features=int(128/8), out_features=1)\n",
    "        )\n",
    "        \"\"\"\n",
    "    def forward(self, inputs_ids_a, attention_a, inputs_ids_b, attention_b, gt):\n",
    "        u = self.model(inputs_ids_a, attention_mask=attention_a)[0]  # all token embeddings B\n",
    "\n",
    "        #try to clear up memory and keep only the sentence embeddings \n",
    "        del inputs_ids_a\n",
    "\n",
    "        sents_u = self.mean_pooling(u, attention_a)\n",
    "        del attention_a\n",
    "        del u \n",
    "\n",
    "        v = self.model(inputs_ids_b, attention_mask=attention_b)[0]  # all token embeddings B\n",
    "        del inputs_ids_b\n",
    "\n",
    "        sents_v = self.mean_pooling(v, attention_b)\n",
    "        del attention_b\n",
    "        del v\n",
    "\n",
    "        #print(\"creating matrix\")\n",
    "        #get similarity matrix for sentences between the documents \n",
    "        sims = np.empty([self.sentCutoff, self.sentCutoff])\n",
    "        for i in range(self.sentCutoff):\n",
    "            uSent = torch.Tensor([0]).to(device)\n",
    "            if i < len(sents_u): \n",
    "                uSent = sents_u[i]\n",
    "            for j in range(self.sentCutoff):\n",
    "                vSent = torch.Tensor([0]).to(device)\n",
    "                if j < len(sents_v):\n",
    "                    vSent = sents_v[j]\n",
    "                sims[i, j] = self.cos(uSent, vSent)\n",
    "\n",
    "        sims = torch.Tensor(np.array([sims])).to(device).unsqueeze(1)\n",
    "        del sents_u\n",
    "        del sents_v \n",
    "\n",
    "        #print(sims.shape)\n",
    "        x_1 = self.in_1(sims)\n",
    "        #print(x_1.shape)\n",
    "        x_2 = self.in_2(sims)\n",
    "        x_3 = self.in_3(sims)\n",
    "        x_4 = self.in_4(sims)\n",
    "        x_5 = self.in_5(sims)\n",
    "        x_cat = torch.cat([x_1, x_2, x_3, x_4, x_5], dim=1)\n",
    "        #x_cat = x_3 \n",
    "        #print(x_cat.shape)\n",
    "        \n",
    "        pred = self.out(x_cat)\n",
    "        \n",
    "        gt = gt.unsqueeze(1)\n",
    "            \n",
    "        loss = self.loss_func(pred, gt)\n",
    "        \n",
    "        return [loss, pred, gt] \n",
    "\n",
    "    \n",
    "    def mean_pooling(self, token_embeddings, attention_mask): \n",
    "        input_mask_expanded = attention_mask.unsqueeze(-1).expand(token_embeddings.size()).float()\n",
    "        return torch.sum(token_embeddings * input_mask_expanded, 1) / torch.clamp(input_mask_expanded.sum(1), min=1e-9)\n",
    "\n",
    "class MaxOverTimePooling(nn.Module):\n",
    "\n",
    "    def __init__(self):\n",
    "        super(MaxOverTimePooling, self).__init__()\n",
    "\n",
    "    def forward(self, x):\n",
    "        pool = nn.MaxPool2d(kernel_size=(x.size()[2], x.size()[3]))\n",
    "        return pool(x)\n",
    "    \n",
    "#perform convolutions with a given kernel_size and flatten down to 128 features \n",
    "#note we do feature extraction, dropout, and pooling here  \n",
    "class SimCnnSubPart(nn.Module):\n",
    "    def __init__(self, kernel_size: int, dropout: float):\n",
    "        super(SimCnnSubPart, self).__init__()\n",
    "        \n",
    "        \n",
    "        self.network_1 = nn.Sequential(\n",
    "            #NOTE: chaning this to 1 but maybe should be 2? \n",
    "            CnnBlock(in_channels=1, out_channels=32, kernel_size=kernel_size, dropout=(dropout / 2.0)),\n",
    "            nn.Dropout(dropout / 2),\n",
    "            CnnBlock(in_channels=32, out_channels=64, kernel_size=kernel_size, dropout=(dropout / 2.0)),\n",
    "            #used to be 60 \n",
    "            nn.Conv2d(in_channels=64, out_channels=128, kernel_size=kernel_size),\n",
    "            nn.BatchNorm2d(128),\n",
    "            nn.ReLU6(),\n",
    "            MaxOverTimePooling(),\n",
    "            nn.Flatten(),\n",
    "            nn.Linear(in_features=128, out_features=128),\n",
    "            nn.Dropout(dropout),\n",
    "            nn.ReLU6(),\n",
    "        )\n",
    "\n",
    "    def forward(self, x):\n",
    "        return self.network_1(x)\n",
    "        # x = self.n_2(x)\n",
    "        # return x\n",
    "\n",
    "#create a block of convolutions in a row. Doesn't pool though so just feature extraction basically \n",
    "class CnnBlock(nn.Module):\n",
    "    def __init__(self, in_channels: int, out_channels: int, kernel_size, dropout: int):\n",
    "        super(CnnBlock, self).__init__()\n",
    "\n",
    "        self.c1 = nn.Sequential(\n",
    "            nn.Conv2d(in_channels=in_channels, out_channels=out_channels, kernel_size=kernel_size, padding='same'),\n",
    "            nn.ReLU6(),\n",
    "            nn.BatchNorm2d(out_channels),\n",
    "            nn.Conv2d(in_channels=out_channels, out_channels=out_channels, kernel_size=kernel_size, padding='same'),\n",
    "            nn.ReLU6(),\n",
    "            nn.BatchNorm2d(out_channels),\n",
    "            nn.Dropout(dropout),\n",
    "            nn.Conv2d(in_channels=out_channels, out_channels=out_channels, kernel_size=kernel_size, padding='same'),\n",
    "            nn.ReLU6(),\n",
    "            nn.BatchNorm2d(out_channels),\n",
    "            nn.Conv2d(in_channels=out_channels, out_channels=out_channels, kernel_size=kernel_size, padding='same'),\n",
    "            nn.ReLU6(),\n",
    "            nn.BatchNorm2d(out_channels),\n",
    "            nn.Dropout(dropout),\n",
    "            nn.Conv2d(in_channels=out_channels, out_channels=out_channels, kernel_size=kernel_size, padding='same'),\n",
    "            nn.ReLU6(),\n",
    "            nn.BatchNorm2d(out_channels)\n",
    "        )\n",
    "\n",
    "    def forward(self, x):\n",
    "        return self.c1(x)"
   ]
  },
  {
   "cell_type": "code",
   "execution_count": 9,
   "metadata": {},
   "outputs": [],
   "source": [
    "\n",
    "class MyModel(nn.Module):\n",
    "    def __init__(self, sentCutoff):\n",
    "        #do all the stuff from the inhereted method \n",
    "        super(MyModel,self).__init__()\n",
    "        \n",
    "        #need encoder first \n",
    "        self.model = AutoModel.from_pretrained('sentence-transformers/all-mpnet-base-v2')\n",
    "        self.cos = torch.nn.CosineSimilarity(dim=0, eps=1e-6)\n",
    "        self.sentCutoff = sentCutoff\n",
    "        \n",
    "        #Now start CNN\n",
    "        #layer1 \n",
    "        self.conv1 = nn.Conv2d(in_channels=1, out_channels=100, kernel_size=11, stride = 1, padding=5)\n",
    "        self.pool1 = nn.MaxPool2d(kernel_size=2, stride=2)\n",
    "        self.ReLU1 = nn.ReLU()\n",
    "        \n",
    "        #layer2\n",
    "        self.conv2 = nn.Conv2d(in_channels=100, out_channels=50, kernel_size=5, stride = 1, padding=2)\n",
    "        self.pool2 = nn.MaxPool2d(kernel_size=2, stride=2)\n",
    "        self.ReLU2 = nn.ReLU()\n",
    "        \n",
    "        #layer 3 \n",
    "        self.conv3 = nn.Conv2d(in_channels=50, out_channels=10, kernel_size=5, stride = 1, padding=0)\n",
    "        self.pool3 = nn.MaxPool2d(kernel_size=2, stride=2)\n",
    "        self.ReLU3 = nn.ReLU()\n",
    "        \n",
    "        #layer 4\n",
    "        self.l1 = nn.Linear(250, 50)\n",
    "        self.ReLU4 = nn.ReLU()\n",
    "        \n",
    "        #layer 5 \n",
    "        self.l2 = nn.Linear(50, 1)\n",
    "        \n",
    "        self.loss_func = torch.nn.MSELoss(reduction=\"mean\")\n",
    "        \n",
    "    def mean_pooling(self, token_embeddings, attention_mask): \n",
    "        input_mask_expanded = attention_mask.unsqueeze(-1).expand(token_embeddings.size()).float()\n",
    "        return torch.sum(token_embeddings * input_mask_expanded, 1) / torch.clamp(input_mask_expanded.sum(1), min=1e-9)\n",
    "\n",
    "    def forward(self, inputs_ids_a, attention_a, inputs_ids_b, attention_b, gt): \n",
    "        \n",
    "        #out = out.view(out.size(0), -1)\n",
    "        \n",
    "        u = self.model(inputs_ids_a, attention_mask=attention_a)[0]  # all token embeddings B\n",
    "        #try to clear up memory and keep only the sentence embeddings \n",
    "        del inputs_ids_a\n",
    "\n",
    "        sents_u = self.mean_pooling(u, attention_a)\n",
    "        del attention_a\n",
    "        del u \n",
    "        \n",
    "        v = self.model(inputs_ids_b, attention_mask=attention_b)[0]  # all token embeddings B\n",
    "        del inputs_ids_b\n",
    "\n",
    "        sents_v = self.mean_pooling(v, attention_b)\n",
    "        del attention_b\n",
    "        del v\n",
    "     \n",
    "        #print(\"creating matrix\")\n",
    "        #get similarity matrix for sentences between the documents \n",
    "        sims = np.empty([self.sentCutoff, self.sentCutoff])\n",
    "        for i in range(self.sentCutoff):\n",
    "            uSent = torch.Tensor([0]).to(device)\n",
    "            if i < len(sents_u): \n",
    "                uSent = sents_u[i]\n",
    "            for j in range(self.sentCutoff):\n",
    "                vSent = torch.Tensor([0]).to(device)\n",
    "                if j < len(sents_v):\n",
    "                    vSent = sents_v[j]\n",
    "                sims[i, j] = self.cos(uSent, vSent)\n",
    "\n",
    "        sims = torch.Tensor(np.array([sims])).to(device)\n",
    "        del sents_u\n",
    "        del sents_v \n",
    "\n",
    "        #print(sims.shape)\n",
    "        #print(\"created matrix\")\n",
    "        #first attempt is a single linear layer\n",
    "        #maybe linear combination of output is sufficient? \n",
    "        #go from 4000 > 500 > 1\n",
    "        out = self.conv1(sims)\n",
    "        out = self.pool1(out)\n",
    "        out = self.ReLU1(out)\n",
    "        \n",
    "        #print(out.shape)\n",
    "        #print(\"l1 finished\")\n",
    "        out = self.conv2(out)\n",
    "        out = self.pool2(out)\n",
    "        out = self.ReLU2(out)\n",
    "        \n",
    "        #print(out.shape)\n",
    "        #print(\"l2 finished\")\n",
    "        out = self.conv3(out)\n",
    "        out = self.pool3(out)\n",
    "        out = self.ReLU3(out)\n",
    "        #print(out.shape)\n",
    "        #print(out)\n",
    "        out = out.view(1, out.shape[0]*out.shape[1]*out.shape[2])\n",
    "        \n",
    "        #print(out.shape)\n",
    "        #print(\"l3 finished\")\n",
    "        out = self.l1(out)\n",
    "        out = self.ReLU4(out)\n",
    "        \n",
    "        #print(\"l4 finished\")\n",
    "        pred = self.l2(out)\n",
    "        \n",
    "        #since the first dimension is supposed to represent number of batches, we add \n",
    "        # a dimension to the prediction to indicate batch size of 1\n",
    "        gt = gt.unsqueeze(1)\n",
    "       \n",
    "        #print(pred.shape)\n",
    "        #print(gt.shape)\n",
    "        \n",
    "        loss = self.loss_func(pred, gt)\n",
    "        \n",
    "        return [loss, pred, gt] \n"
   ]
  },
  {
   "cell_type": "code",
   "execution_count": 10,
   "metadata": {},
   "outputs": [],
   "source": [
    "x = torch.Tensor(np.empty([10, 5, 5]))\n",
    "x = x.view(1, x.shape[0]*x.shape[1]*x.shape[2])\n"
   ]
  },
  {
   "cell_type": "code",
   "execution_count": 11,
   "metadata": {},
   "outputs": [],
   "source": [
    "model = BigModel(50, .5).to(device)\n",
    "\n",
    "trainBatch = 1\n",
    "\n",
    "# we would initialize everything first\n",
    "optim = torch.optim.Adam(model.parameters(), lr=2e-5)\n",
    "\n",
    "# and setup a warmup for the first ~10% steps\n",
    "total_steps = int(len(trainData) / trainBatch)\n",
    "warmup_steps = int(0.1 * total_steps)\n",
    "scheduler = get_linear_schedule_with_warmup(optim, num_warmup_steps=warmup_steps, num_training_steps=total_steps - warmup_steps)"
   ]
  },
  {
   "cell_type": "code",
   "execution_count": 12,
   "metadata": {},
   "outputs": [],
   "source": [
    "def validation(): \n",
    "    model.eval()\n",
    "    lossList = []\n",
    "    preds = []\n",
    "    gts = []\n",
    "\n",
    "    vLoop = tqdm(validLoader, leave=True)\n",
    "    for j, vBatch in enumerate(vLoop): \n",
    "        # prepare batches and more all to the active device\n",
    "        inputs_ids_a = vBatch[1][0].to(device)\n",
    "        attention_a = vBatch[2][0].to(device)\n",
    "        inputs_ids_b = vBatch[3][0].to(device)\n",
    "        attention_b = vBatch[4][0].to(device)\n",
    "        gt = vBatch[0].float().to(device)\n",
    "        \n",
    "        #get outputs from model \n",
    "        loss, pred, gt = model(inputs_ids_a, attention_a, inputs_ids_b, attention_b, gt)\n",
    "        \n",
    "        #get predictions and ground truth to compute training metrics with \n",
    "        lossList.append(float(loss))\n",
    "        preds.append(float(pred))\n",
    "        gts.append(float(gt))\n",
    "        \n",
    "    #print(vGT)\n",
    "    return [lossList, preds, gts]\n",
    "        "
   ]
  },
  {
   "cell_type": "code",
   "execution_count": 13,
   "metadata": {},
   "outputs": [
    {
     "data": {
      "application/vnd.jupyter.widget-view+json": {
       "model_id": "7a239513dc3348f8abac9a459526eb31",
       "version_major": 2,
       "version_minor": 0
      },
      "text/plain": [
       "  0%|          | 0/1508 [00:00<?, ?it/s]"
      ]
     },
     "metadata": {},
     "output_type": "display_data"
    },
    {
     "name": "stderr",
     "output_type": "stream",
     "text": [
      "/opt/anaconda/lib/python3.8/site-packages/torch/nn/modules/conv.py:443: UserWarning: Using padding='same' with even kernel lengths and odd dilation may require a zero-padded copy of the input be created (Triggered internally at  ../aten/src/ATen/native/Convolution.cpp:744.)\n",
      "  return F.conv2d(input, weight, bias, self.stride,\n"
     ]
    },
    {
     "data": {
      "application/vnd.jupyter.widget-view+json": {
       "model_id": "048f1ad03d1c48eeb18b9828130b2418",
       "version_major": 2,
       "version_minor": 0
      },
      "text/plain": [
       "  0%|          | 0/168 [00:00<?, ?it/s]"
      ]
     },
     "metadata": {},
     "output_type": "display_data"
    },
    {
     "name": "stdout",
     "output_type": "stream",
     "text": [
      "validated\n"
     ]
    },
    {
     "data": {
      "application/vnd.jupyter.widget-view+json": {
       "model_id": "9770cf6fd2684fd59094467b6c49ec93",
       "version_major": 2,
       "version_minor": 0
      },
      "text/plain": [
       "  0%|          | 0/168 [00:00<?, ?it/s]"
      ]
     },
     "metadata": {},
     "output_type": "display_data"
    },
    {
     "name": "stdout",
     "output_type": "stream",
     "text": [
      "validated\n"
     ]
    },
    {
     "data": {
      "application/vnd.jupyter.widget-view+json": {
       "model_id": "f51603ceb7884e12af5573db8cf5e905",
       "version_major": 2,
       "version_minor": 0
      },
      "text/plain": [
       "  0%|          | 0/168 [00:00<?, ?it/s]"
      ]
     },
     "metadata": {},
     "output_type": "display_data"
    },
    {
     "name": "stdout",
     "output_type": "stream",
     "text": [
      "validated\n"
     ]
    },
    {
     "data": {
      "application/vnd.jupyter.widget-view+json": {
       "model_id": "c84ca9f4d2844c95a8107d7e1212d39b",
       "version_major": 2,
       "version_minor": 0
      },
      "text/plain": [
       "  0%|          | 0/168 [00:00<?, ?it/s]"
      ]
     },
     "metadata": {},
     "output_type": "display_data"
    },
    {
     "name": "stdout",
     "output_type": "stream",
     "text": [
      "validated\n"
     ]
    }
   ],
   "source": [
    "lossSmoothing = 20\n",
    "validationFreq = 500\n",
    "\n",
    "#TODO: implement a cutoff on how many sentences of the article we can consider \n",
    "#TODO: put model in seperate class? How to make sure the params are updating \n",
    "trainDict = {}\n",
    "lossList = []\n",
    "subLossList = []\n",
    "validMetrics = []\n",
    "# increase from 1 epoch if need be \n",
    "for epoch in range(1):\n",
    "    \n",
    "    model.train()  # make sure model is in training mode\n",
    "    \n",
    "    # initialize the dataloader loop with tqdm (tqdm == progress bar)\n",
    "    loop = tqdm(trainLoader, leave=True)\n",
    "    \n",
    "    for i, batch in enumerate(loop): \n",
    "        # zero all gradients on each new step\n",
    "        optim.zero_grad()\n",
    "        \n",
    "        #in practice this doesn't seem to usually actually help but worth adding? \n",
    "        #torch.cuda.empty_cache()\n",
    "\n",
    "        #get model inputs from batch \n",
    "        inputs_ids_a = batch[1][0].to(device)\n",
    "        attention_a = batch[2][0].to(device)\n",
    "        inputs_ids_b = batch[3][0].to(device)\n",
    "        attention_b = batch[4][0].to(device)\n",
    "        gt = batch[0].float().to(device)\n",
    "\n",
    "        #get outputs from model \n",
    "        loss, pred, gt = model(inputs_ids_a, attention_a, inputs_ids_b, attention_b, gt)\n",
    "        \n",
    "        subLossList.append(loss.item())\n",
    "        if i % lossSmoothing == 0: \n",
    "            lossList.append(np.median(subLossList))\n",
    "            subLossList = []\n",
    "            \n",
    "        #update weights \n",
    "        loss.backward()\n",
    "        \n",
    "        #validation if at correct step \n",
    "        if i % validationFreq == 0: \n",
    "            validMetrics.append(validation())\n",
    "            model.train()\n",
    "            print(\"validated\")\n",
    "            \n",
    "        optim.step()\n",
    "        scheduler.step()"
   ]
  },
  {
   "cell_type": "code",
   "execution_count": 14,
   "metadata": {},
   "outputs": [
    {
     "data": {
      "text/plain": [
       "[<matplotlib.lines.Line2D at 0x7fa8d6c325e0>]"
      ]
     },
     "execution_count": 14,
     "metadata": {},
     "output_type": "execute_result"
    },
    {
     "data": {
      "image/png": "[encoded data removed]",
      "text/plain": [
       "<Figure size 432x288 with 1 Axes>"
      ]
     },
     "metadata": {
      "needs_background": "light"
     },
     "output_type": "display_data"
    }
   ],
   "source": [
    "plt.plot(lossList)\n"
   ]
  },
  {
   "cell_type": "code",
   "execution_count": 15,
   "metadata": {},
   "outputs": [
    {
     "data": {
      "text/plain": [
       "Text(0.5, 1.0, 'Loss')"
      ]
     },
     "execution_count": 15,
     "metadata": {},
     "output_type": "execute_result"
    },
    {
     "data": {
      "image/png": "[encoded data removed]",
      "text/plain": [
       "<Figure size 432x288 with 1 Axes>"
      ]
     },
     "metadata": {
      "needs_background": "light"
     },
     "output_type": "display_data"
    }
   ],
   "source": [
    "lossIndex = [i * lossSmoothing for i in range(len(lossList))]\n",
    "plt.plot(lossIndex, lossList)\n",
    "plt.xlabel(\"batch num\")\n",
    "plt.ylabel(\"loss\")\n",
    "plt.title(\"Loss\")"
   ]
  },
  {
   "cell_type": "code",
   "execution_count": 16,
   "metadata": {},
   "outputs": [
    {
     "data": {
      "text/plain": [
       "(4, 3, 168)"
      ]
     },
     "execution_count": 16,
     "metadata": {},
     "output_type": "execute_result"
    }
   ],
   "source": [
    "np.array(validMetrics).shape"
   ]
  },
  {
   "cell_type": "code",
   "execution_count": 17,
   "metadata": {},
   "outputs": [],
   "source": [
    "validDf = pd.DataFrame({\"loss\":[], \"pred\":[], \"true\":[], \"iter\":[]})\n",
    "validArr = np.array(validMetrics)\n",
    "\n",
    "iterNum = 0\n",
    "corrList = []\n",
    "iterList = []\n",
    "for i in range(validArr.shape[0]): \n",
    "    subDf = pd.DataFrame(validArr[i].T)\n",
    "    subDf.columns = [\"loss\", \"pred\", \"true\"]\n",
    "    subDf[\"iter\"] = [iterNum for i in range(len(subDf))]\n",
    "    iterList.append(iterNum)\n",
    "    iterNum += validationFreq\n",
    "    validDf = pd.concat([validDf, subDf])\n",
    "    corr = np.corrcoef(subDf[\"pred\"], subDf[\"true\"])\n",
    "    corrList.append(corr[0, 1])"
   ]
  },
  {
   "cell_type": "code",
   "execution_count": 18,
   "metadata": {},
   "outputs": [
    {
     "data": {
      "text/plain": [
       "Text(0.5, 1.0, 'validation correlation')"
      ]
     },
     "execution_count": 18,
     "metadata": {},
     "output_type": "execute_result"
    },
    {
     "data": {
      "image/png": "[encoded data removed]",
      "text/plain": [
       "<Figure size 432x288 with 1 Axes>"
      ]
     },
     "metadata": {
      "needs_background": "light"
     },
     "output_type": "display_data"
    }
   ],
   "source": [
    "plt.plot(iterList, corrList)\n",
    "plt.xlabel(\"batch num\")\n",
    "plt.ylabel(\"pearson correlation\")\n",
    "plt.title(\"validation correlation\")"
   ]
  },
  {
   "cell_type": "code",
   "execution_count": 19,
   "metadata": {},
   "outputs": [
    {
     "name": "stdout",
     "output_type": "stream",
     "text": [
      "[[1.         0.04018502]\n",
      " [0.04018502 1.        ]]\n",
      "[[1.         0.51613282]\n",
      " [0.51613282 1.        ]]\n",
      "[[1.         0.51774791]\n",
      " [0.51774791 1.        ]]\n",
      "[[1.         0.49099183]\n",
      " [0.49099183 1.        ]]\n"
     ]
    },
    {
     "data": {
      "text/plain": [
       "<matplotlib.collections.PathCollection at 0x7fa8d6cd8790>"
      ]
     },
     "execution_count": 19,
     "metadata": {},
     "output_type": "execute_result"
    },
    {
     "data": {
      "image/png": "[encoded data removed]",
      "text/plain": [
       "<Figure size 432x288 with 1 Axes>"
      ]
     },
     "metadata": {
      "needs_background": "light"
     },
     "output_type": "display_data"
    }
   ],
   "source": [
    "\n",
    "#print(validArr.shape)\n",
    "\n",
    "test = validArr[1,:,:]\n",
    "#np.corrcoef(test[1], test[2])\n",
    "\n",
    "#go through each validation step\n",
    "for i in range(validArr.shape[0]): \n",
    "    subDf = pd.DataFrame(validArr[i].T)\n",
    "    subDf.columns = [\"loss\", \"pred\", \"true\"]\n",
    "    corr = np.corrcoef(subDf[\"pred\"], subDf[\"true\"])\n",
    "    print(corr)\n",
    "    \n",
    "plt.scatter(subDf[\"true\"], subDf[\"pred\"], alpha=.2)"
   ]
  },
  {
   "cell_type": "code",
   "execution_count": 20,
   "metadata": {},
   "outputs": [
    {
     "data": {
      "text/plain": [
       "array([[ 6.98223070e-04,  8.37797582e-01,  1.05354607e+00,\n",
       "         1.89158861e-02,  1.05354607e+00,  3.38700145e-01,\n",
       "         6.98222837e-04,  6.98223244e-04,  1.05354607e+00,\n",
       "         6.98222779e-04,  8.37797582e-01,  6.98223128e-04,\n",
       "         6.98223070e-04,  6.98223070e-04,  6.46740317e-01,\n",
       "         6.98223070e-04,  6.98222953e-04,  1.89158823e-02,\n",
       "         4.80374604e-01,  6.18249178e-02,  6.98223128e-04,\n",
       "         1.20466547e-02,  1.05354607e+00,  1.29425272e-01,\n",
       "         2.21717000e-01,  6.98223070e-04,  6.98223070e-04,\n",
       "         6.98222953e-04,  1.89158786e-02,  8.37797463e-01,\n",
       "         1.05354607e+00,  3.38700145e-01,  1.29425302e-01,\n",
       "         6.46740437e-01,  6.98223128e-04,  6.98223419e-04,\n",
       "         1.89158823e-02,  3.72839756e-02,  1.89158861e-02,\n",
       "         8.37797582e-01,  8.37797582e-01,  6.98223128e-04,\n",
       "         3.38700145e-01,  1.05354607e+00,  1.29425272e-01,\n",
       "         6.98223361e-04,  1.05354607e+00,  6.46740437e-01,\n",
       "         6.98223128e-04,  1.89158823e-02,  6.46740437e-01,\n",
       "         6.98223361e-04,  1.89158861e-02,  1.05354607e+00,\n",
       "         1.89158823e-02,  1.89158861e-02,  1.89158861e-02,\n",
       "         3.38700145e-01,  1.05354607e+00,  3.38700145e-01,\n",
       "         6.98223535e-04,  1.29425272e-01,  1.29425272e-01,\n",
       "         3.72839756e-02,  6.98223128e-04,  1.29425272e-01,\n",
       "         1.29425272e-01,  1.89158823e-02,  6.18248954e-02,\n",
       "         7.39182532e-01,  1.29425272e-01,  6.98223070e-04,\n",
       "         1.05354607e+00,  2.21717000e-01,  1.05354607e+00,\n",
       "         6.98223128e-04,  1.89158861e-02,  6.98222371e-04,\n",
       "         1.29425302e-01,  6.98222546e-04,  1.05354607e+00,\n",
       "         6.98222779e-04,  1.05354607e+00,  6.98223128e-04,\n",
       "         6.98222779e-04,  1.29425272e-01,  4.80374604e-01,\n",
       "         1.05354607e+00,  3.38700145e-01,  6.18249029e-02,\n",
       "         3.38700145e-01,  1.89158823e-02,  1.05354607e+00,\n",
       "         1.29425272e-01,  4.80374604e-01,  1.89158823e-02,\n",
       "         6.98223128e-04,  6.98222953e-04,  6.98222953e-04,\n",
       "         1.05354607e+00,  6.98223128e-04,  1.29425272e-01,\n",
       "         6.98222953e-04,  6.98223070e-04,  1.89158823e-02,\n",
       "         6.98223244e-04,  1.05354607e+00,  6.98223652e-04,\n",
       "         6.98222953e-04,  6.98223128e-04,  1.89158861e-02,\n",
       "         2.21717000e-01,  6.98222837e-04,  1.29425272e-01,\n",
       "         4.80374604e-01,  3.38700145e-01,  4.80374604e-01,\n",
       "         6.46740437e-01,  6.98222953e-04,  1.89158823e-02,\n",
       "         6.98222953e-04,  6.18249029e-02,  6.98223128e-04,\n",
       "         3.38700145e-01,  6.18249029e-02,  1.89158861e-02,\n",
       "         3.38700145e-01,  6.98223535e-04,  1.89158823e-02,\n",
       "         1.89158823e-02,  3.38700145e-01,  1.89158823e-02,\n",
       "         6.18248954e-02,  6.98223128e-04,  2.77122170e-01,\n",
       "         1.89158823e-02,  6.98222837e-04,  8.66585597e-03,\n",
       "         2.21717000e-01,  3.38700086e-01,  4.80374604e-01,\n",
       "         6.98223361e-04,  6.98223361e-04,  6.98223535e-04,\n",
       "         6.98222953e-04,  6.98223128e-04,  6.18249029e-02,\n",
       "         1.89158823e-02,  1.89158861e-02,  6.98222546e-04,\n",
       "         6.98223070e-04,  1.05354607e+00,  6.46740437e-01,\n",
       "         6.98223128e-04,  6.46740437e-01,  1.05354607e+00,\n",
       "         6.98223070e-04,  4.80374604e-01,  6.18249029e-02,\n",
       "         1.05354607e+00,  2.21717000e-01,  6.98223361e-04,\n",
       "         1.05354607e+00,  8.66585597e-03,  4.80374604e-01,\n",
       "         6.18248954e-02,  6.98223535e-04,  6.98223128e-04],\n",
       "       [-2.64239106e-02, -2.64239125e-02, -2.64239125e-02,\n",
       "        -2.64239199e-02, -2.64239106e-02, -2.64239032e-02,\n",
       "        -2.64239069e-02, -2.64239144e-02, -2.64239199e-02,\n",
       "        -2.64239050e-02, -2.64239125e-02, -2.64239125e-02,\n",
       "        -2.64239106e-02, -2.64239106e-02, -2.64238939e-02,\n",
       "        -2.64239106e-02, -2.64239088e-02, -2.64239125e-02,\n",
       "        -2.64239088e-02, -2.64239386e-02, -2.64239125e-02,\n",
       "        -2.64239162e-02, -2.64239088e-02, -2.64239106e-02,\n",
       "        -2.64239144e-02, -2.64239106e-02, -2.64239106e-02,\n",
       "        -2.64239088e-02, -2.64239013e-02, -2.64238939e-02,\n",
       "        -2.64239013e-02, -2.64239199e-02, -2.64239199e-02,\n",
       "        -2.64239274e-02, -2.64239125e-02, -2.64239181e-02,\n",
       "        -2.64239088e-02, -2.64239237e-02, -2.64239181e-02,\n",
       "        -2.64239088e-02, -2.64239181e-02, -2.64239125e-02,\n",
       "        -2.64239088e-02, -2.64239013e-02, -2.64239088e-02,\n",
       "        -2.64239162e-02, -2.64239255e-02, -2.64239106e-02,\n",
       "        -2.64239125e-02, -2.64239088e-02, -2.64239088e-02,\n",
       "        -2.64239162e-02, -2.64239218e-02, -2.64239162e-02,\n",
       "        -2.64239125e-02, -2.64239181e-02, -2.64239199e-02,\n",
       "        -2.64239330e-02, -2.64239088e-02, -2.64239162e-02,\n",
       "        -2.64239199e-02, -2.64238976e-02, -2.64238901e-02,\n",
       "        -2.64239125e-02, -2.64239125e-02, -2.64239106e-02,\n",
       "        -2.64239106e-02, -2.64239032e-02, -2.64239050e-02,\n",
       "        -2.64239199e-02, -2.64239069e-02, -2.64239106e-02,\n",
       "        -2.64239125e-02, -2.64239088e-02, -2.64239088e-02,\n",
       "        -2.64239125e-02, -2.64239162e-02, -2.64238976e-02,\n",
       "        -2.64239218e-02, -2.64239013e-02, -2.64238995e-02,\n",
       "        -2.64239050e-02, -2.64239106e-02, -2.64239125e-02,\n",
       "        -2.64239050e-02, -2.64239144e-02, -2.64239144e-02,\n",
       "        -2.64239162e-02, -2.64239181e-02, -2.64239088e-02,\n",
       "        -2.64239162e-02, -2.64239088e-02, -2.64239050e-02,\n",
       "        -2.64239088e-02, -2.64239125e-02, -2.64239125e-02,\n",
       "        -2.64239125e-02, -2.64239088e-02, -2.64239088e-02,\n",
       "        -2.64239032e-02, -2.64239125e-02, -2.64239088e-02,\n",
       "        -2.64239088e-02, -2.64239106e-02, -2.64239050e-02,\n",
       "        -2.64239144e-02, -2.64239125e-02, -2.64239218e-02,\n",
       "        -2.64239088e-02, -2.64239125e-02, -2.64239162e-02,\n",
       "        -2.64239032e-02, -2.64239069e-02, -2.64238976e-02,\n",
       "        -2.64239088e-02, -2.64239144e-02, -2.64239162e-02,\n",
       "        -2.64239181e-02, -2.64239088e-02, -2.64239125e-02,\n",
       "        -2.64239088e-02, -2.64239125e-02, -2.64239125e-02,\n",
       "        -2.64239069e-02, -2.64239125e-02, -2.64239199e-02,\n",
       "        -2.64239144e-02, -2.64239199e-02, -2.64239144e-02,\n",
       "        -2.64239032e-02, -2.64239088e-02, -2.64239125e-02,\n",
       "        -2.64239069e-02, -2.64239125e-02, -2.64239125e-02,\n",
       "        -2.64239125e-02, -2.64239069e-02, -2.64239069e-02,\n",
       "        -2.64239032e-02, -2.64238976e-02, -2.64239125e-02,\n",
       "        -2.64239162e-02, -2.64239162e-02, -2.64239199e-02,\n",
       "        -2.64239088e-02, -2.64239125e-02, -2.64239181e-02,\n",
       "        -2.64239106e-02, -2.64239181e-02, -2.64239013e-02,\n",
       "        -2.64239106e-02, -2.64239088e-02, -2.64239125e-02,\n",
       "        -2.64239125e-02, -2.64239050e-02, -2.64239144e-02,\n",
       "        -2.64239106e-02, -2.64239181e-02, -2.64239144e-02,\n",
       "        -2.64239162e-02, -2.64239088e-02, -2.64239162e-02,\n",
       "        -2.64239125e-02, -2.64239069e-02, -2.64239162e-02,\n",
       "        -2.64239069e-02, -2.64239199e-02, -2.64239125e-02],\n",
       "       [ 0.00000000e+00,  8.88888896e-01,  1.00000000e+00,\n",
       "         1.11111112e-01,  1.00000000e+00,  5.55555582e-01,\n",
       "         0.00000000e+00,  0.00000000e+00,  1.00000000e+00,\n",
       "         0.00000000e+00,  8.88888896e-01,  0.00000000e+00,\n",
       "         0.00000000e+00,  0.00000000e+00,  7.77777791e-01,\n",
       "         0.00000000e+00,  0.00000000e+00,  1.11111112e-01,\n",
       "         6.66666687e-01,  2.22222224e-01,  0.00000000e+00,\n",
       "         8.33333358e-02,  1.00000000e+00,  3.33333343e-01,\n",
       "         4.44444448e-01,  0.00000000e+00,  0.00000000e+00,\n",
       "         0.00000000e+00,  1.11111112e-01,  8.88888896e-01,\n",
       "         1.00000000e+00,  5.55555582e-01,  3.33333343e-01,\n",
       "         7.77777791e-01,  0.00000000e+00,  0.00000000e+00,\n",
       "         1.11111112e-01,  1.66666672e-01,  1.11111112e-01,\n",
       "         8.88888896e-01,  8.88888896e-01,  0.00000000e+00,\n",
       "         5.55555582e-01,  1.00000000e+00,  3.33333343e-01,\n",
       "         0.00000000e+00,  1.00000000e+00,  7.77777791e-01,\n",
       "         0.00000000e+00,  1.11111112e-01,  7.77777791e-01,\n",
       "         0.00000000e+00,  1.11111112e-01,  1.00000000e+00,\n",
       "         1.11111112e-01,  1.11111112e-01,  1.11111112e-01,\n",
       "         5.55555582e-01,  1.00000000e+00,  5.55555582e-01,\n",
       "         0.00000000e+00,  3.33333343e-01,  3.33333343e-01,\n",
       "         1.66666672e-01,  0.00000000e+00,  3.33333343e-01,\n",
       "         3.33333343e-01,  1.11111112e-01,  2.22222224e-01,\n",
       "         8.33333313e-01,  3.33333343e-01,  0.00000000e+00,\n",
       "         1.00000000e+00,  4.44444448e-01,  1.00000000e+00,\n",
       "         0.00000000e+00,  1.11111112e-01,  0.00000000e+00,\n",
       "         3.33333343e-01,  0.00000000e+00,  1.00000000e+00,\n",
       "         0.00000000e+00,  1.00000000e+00,  0.00000000e+00,\n",
       "         0.00000000e+00,  3.33333343e-01,  6.66666687e-01,\n",
       "         1.00000000e+00,  5.55555582e-01,  2.22222224e-01,\n",
       "         5.55555582e-01,  1.11111112e-01,  1.00000000e+00,\n",
       "         3.33333343e-01,  6.66666687e-01,  1.11111112e-01,\n",
       "         0.00000000e+00,  0.00000000e+00,  0.00000000e+00,\n",
       "         1.00000000e+00,  0.00000000e+00,  3.33333343e-01,\n",
       "         0.00000000e+00,  0.00000000e+00,  1.11111112e-01,\n",
       "         0.00000000e+00,  1.00000000e+00,  0.00000000e+00,\n",
       "         0.00000000e+00,  0.00000000e+00,  1.11111112e-01,\n",
       "         4.44444448e-01,  0.00000000e+00,  3.33333343e-01,\n",
       "         6.66666687e-01,  5.55555582e-01,  6.66666687e-01,\n",
       "         7.77777791e-01,  0.00000000e+00,  1.11111112e-01,\n",
       "         0.00000000e+00,  2.22222224e-01,  0.00000000e+00,\n",
       "         5.55555582e-01,  2.22222224e-01,  1.11111112e-01,\n",
       "         5.55555582e-01,  0.00000000e+00,  1.11111112e-01,\n",
       "         1.11111112e-01,  5.55555582e-01,  1.11111112e-01,\n",
       "         2.22222224e-01,  0.00000000e+00,  5.00000000e-01,\n",
       "         1.11111112e-01,  0.00000000e+00,  6.66666701e-02,\n",
       "         4.44444448e-01,  5.55555582e-01,  6.66666687e-01,\n",
       "         0.00000000e+00,  0.00000000e+00,  0.00000000e+00,\n",
       "         0.00000000e+00,  0.00000000e+00,  2.22222224e-01,\n",
       "         1.11111112e-01,  1.11111112e-01,  0.00000000e+00,\n",
       "         0.00000000e+00,  1.00000000e+00,  7.77777791e-01,\n",
       "         0.00000000e+00,  7.77777791e-01,  1.00000000e+00,\n",
       "         0.00000000e+00,  6.66666687e-01,  2.22222224e-01,\n",
       "         1.00000000e+00,  4.44444448e-01,  0.00000000e+00,\n",
       "         1.00000000e+00,  6.66666701e-02,  6.66666687e-01,\n",
       "         2.22222224e-01,  0.00000000e+00,  0.00000000e+00]])"
      ]
     },
     "execution_count": 20,
     "metadata": {},
     "output_type": "execute_result"
    }
   ],
   "source": [
    "validArr[0]"
   ]
  },
  {
   "cell_type": "code",
   "execution_count": 21,
   "metadata": {},
   "outputs": [
    {
     "data": {
      "text/plain": [
       "Series([], Name: true, dtype: float64)"
      ]
     },
     "execution_count": 21,
     "metadata": {},
     "output_type": "execute_result"
    }
   ],
   "source": [
    "validDf.loc[validDf[\"iter\"] == 1400, \"true\"]"
   ]
  },
  {
   "cell_type": "code",
   "execution_count": 22,
   "metadata": {},
   "outputs": [
    {
     "ename": "RuntimeError",
     "evalue": "Invalid device argument.",
     "output_type": "error",
     "traceback": [
      "\u001b[0;31m---------------------------------------------------------------------------\u001b[0m",
      "\u001b[0;31mRuntimeError\u001b[0m                              Traceback (most recent call last)",
      "\u001b[0;32m<ipython-input-22-a84585a66f02>\u001b[0m in \u001b[0;36m<module>\u001b[0;34m\u001b[0m\n\u001b[1;32m      2\u001b[0m \u001b[0mt\u001b[0m \u001b[0;34m=\u001b[0m \u001b[0mtorch\u001b[0m\u001b[0;34m.\u001b[0m\u001b[0mcuda\u001b[0m\u001b[0;34m.\u001b[0m\u001b[0mmem_get_info\u001b[0m\u001b[0;34m(\u001b[0m\u001b[0;34m)\u001b[0m\u001b[0;34m\u001b[0m\u001b[0;34m\u001b[0m\u001b[0m\n\u001b[1;32m      3\u001b[0m \u001b[0;34m\u001b[0m\u001b[0m\n\u001b[0;32m----> 4\u001b[0;31m \u001b[0mused\u001b[0m \u001b[0;34m=\u001b[0m \u001b[0mtorch\u001b[0m\u001b[0;34m.\u001b[0m\u001b[0mcuda\u001b[0m\u001b[0;34m.\u001b[0m\u001b[0mmemory_allocated\u001b[0m\u001b[0;34m(\u001b[0m\u001b[0mdevice\u001b[0m\u001b[0;34m=\u001b[0m\u001b[0;34m\"cuda:4\"\u001b[0m\u001b[0;34m)\u001b[0m\u001b[0;34m\u001b[0m\u001b[0;34m\u001b[0m\u001b[0m\n\u001b[0m\u001b[1;32m      5\u001b[0m \u001b[0;31m#proportion of free memory\u001b[0m\u001b[0;34m\u001b[0m\u001b[0;34m\u001b[0m\u001b[0;34m\u001b[0m\u001b[0m\n\u001b[1;32m      6\u001b[0m \u001b[0;31m#print(\"used: \" used / t[1])\u001b[0m\u001b[0;34m\u001b[0m\u001b[0;34m\u001b[0m\u001b[0;34m\u001b[0m\u001b[0m\n",
      "\u001b[0;32m/opt/anaconda/lib/python3.8/site-packages/torch/cuda/memory.py\u001b[0m in \u001b[0;36mmemory_allocated\u001b[0;34m(device)\u001b[0m\n\u001b[1;32m    317\u001b[0m         \u001b[0mdetails\u001b[0m \u001b[0mabout\u001b[0m \u001b[0mGPU\u001b[0m \u001b[0mmemory\u001b[0m \u001b[0mmanagement\u001b[0m\u001b[0;34m.\u001b[0m\u001b[0;34m\u001b[0m\u001b[0;34m\u001b[0m\u001b[0m\n\u001b[1;32m    318\u001b[0m     \"\"\"\n\u001b[0;32m--> 319\u001b[0;31m     \u001b[0;32mreturn\u001b[0m \u001b[0mmemory_stats\u001b[0m\u001b[0;34m(\u001b[0m\u001b[0mdevice\u001b[0m\u001b[0;34m=\u001b[0m\u001b[0mdevice\u001b[0m\u001b[0;34m)\u001b[0m\u001b[0;34m.\u001b[0m\u001b[0mget\u001b[0m\u001b[0;34m(\u001b[0m\u001b[0;34m\"allocated_bytes.all.current\"\u001b[0m\u001b[0;34m,\u001b[0m \u001b[0;36m0\u001b[0m\u001b[0;34m)\u001b[0m\u001b[0;34m\u001b[0m\u001b[0;34m\u001b[0m\u001b[0m\n\u001b[0m\u001b[1;32m    320\u001b[0m \u001b[0;34m\u001b[0m\u001b[0m\n\u001b[1;32m    321\u001b[0m \u001b[0;34m\u001b[0m\u001b[0m\n",
      "\u001b[0;32m/opt/anaconda/lib/python3.8/site-packages/torch/cuda/memory.py\u001b[0m in \u001b[0;36mmemory_stats\u001b[0;34m(device)\u001b[0m\n\u001b[1;32m    196\u001b[0m             \u001b[0mresult\u001b[0m\u001b[0;34m.\u001b[0m\u001b[0mappend\u001b[0m\u001b[0;34m(\u001b[0m\u001b[0;34m(\u001b[0m\u001b[0mprefix\u001b[0m\u001b[0;34m,\u001b[0m \u001b[0mobj\u001b[0m\u001b[0;34m)\u001b[0m\u001b[0;34m)\u001b[0m\u001b[0;34m\u001b[0m\u001b[0;34m\u001b[0m\u001b[0m\n\u001b[1;32m    197\u001b[0m \u001b[0;34m\u001b[0m\u001b[0m\n\u001b[0;32m--> 198\u001b[0;31m     \u001b[0mstats\u001b[0m \u001b[0;34m=\u001b[0m \u001b[0mmemory_stats_as_nested_dict\u001b[0m\u001b[0;34m(\u001b[0m\u001b[0mdevice\u001b[0m\u001b[0;34m=\u001b[0m\u001b[0mdevice\u001b[0m\u001b[0;34m)\u001b[0m\u001b[0;34m\u001b[0m\u001b[0;34m\u001b[0m\u001b[0m\n\u001b[0m\u001b[1;32m    199\u001b[0m     \u001b[0m_recurse_add_to_result\u001b[0m\u001b[0;34m(\u001b[0m\u001b[0;34m\"\"\u001b[0m\u001b[0;34m,\u001b[0m \u001b[0mstats\u001b[0m\u001b[0;34m)\u001b[0m\u001b[0;34m\u001b[0m\u001b[0;34m\u001b[0m\u001b[0m\n\u001b[1;32m    200\u001b[0m     \u001b[0mresult\u001b[0m\u001b[0;34m.\u001b[0m\u001b[0msort\u001b[0m\u001b[0;34m(\u001b[0m\u001b[0;34m)\u001b[0m\u001b[0;34m\u001b[0m\u001b[0;34m\u001b[0m\u001b[0m\n",
      "\u001b[0;32m/opt/anaconda/lib/python3.8/site-packages/torch/cuda/memory.py\u001b[0m in \u001b[0;36mmemory_stats_as_nested_dict\u001b[0;34m(device)\u001b[0m\n\u001b[1;32m    208\u001b[0m         \u001b[0;32mreturn\u001b[0m \u001b[0;34m{\u001b[0m\u001b[0;34m}\u001b[0m\u001b[0;34m\u001b[0m\u001b[0;34m\u001b[0m\u001b[0m\n\u001b[1;32m    209\u001b[0m     \u001b[0mdevice\u001b[0m \u001b[0;34m=\u001b[0m \u001b[0m_get_device_index\u001b[0m\u001b[0;34m(\u001b[0m\u001b[0mdevice\u001b[0m\u001b[0;34m,\u001b[0m \u001b[0moptional\u001b[0m\u001b[0;34m=\u001b[0m\u001b[0;32mTrue\u001b[0m\u001b[0;34m)\u001b[0m\u001b[0;34m\u001b[0m\u001b[0;34m\u001b[0m\u001b[0m\n\u001b[0;32m--> 210\u001b[0;31m     \u001b[0;32mreturn\u001b[0m \u001b[0mtorch\u001b[0m\u001b[0;34m.\u001b[0m\u001b[0m_C\u001b[0m\u001b[0;34m.\u001b[0m\u001b[0m_cuda_memoryStats\u001b[0m\u001b[0;34m(\u001b[0m\u001b[0mdevice\u001b[0m\u001b[0;34m)\u001b[0m\u001b[0;34m\u001b[0m\u001b[0;34m\u001b[0m\u001b[0m\n\u001b[0m\u001b[1;32m    211\u001b[0m \u001b[0;34m\u001b[0m\u001b[0m\n\u001b[1;32m    212\u001b[0m \u001b[0;34m\u001b[0m\u001b[0m\n",
      "\u001b[0;31mRuntimeError\u001b[0m: Invalid device argument."
     ]
    }
   ],
   "source": [
    "#check memory \n",
    "t = torch.cuda.mem_get_info()\n",
    "\n",
    "used = torch.cuda.memory_allocated(device=\"cuda:4\")\n",
    "#proportion of free memory \n",
    "#print(\"used: \" used / t[1])\n",
    "print(\"used: \" + str(t[0]/t[1]))"
   ]
  }
 ],
 "metadata": {
  "kernelspec": {
   "display_name": "Python 3",
   "language": "python",
   "name": "python3"
  },
  "language_info": {
   "codemirror_mode": {
    "name": "ipython",
    "version": 3
   },
   "file_extension": ".py",
   "mimetype": "text/x-python",
   "name": "python",
   "nbconvert_exporter": "python",
   "pygments_lexer": "ipython3",
   "version": "3.8.5"
  }
 },
 "nbformat": 4,
 "nbformat_minor": 4
}
