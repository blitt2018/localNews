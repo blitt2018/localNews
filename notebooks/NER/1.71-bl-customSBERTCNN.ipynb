{
 "cells": [
  {
   "cell_type": "code",
   "execution_count": 1,
   "metadata": {},
   "outputs": [],
   "source": [
    "from tqdm.auto import tqdm\n",
    "import torch \n",
    "from transformers import DistilBertModel\n",
    "from transformers import DistilBertTokenizer\n",
    "from transformers import PreTrainedTokenizer\n",
    "from sentence_transformers import SentenceTransformer, SentencesDataset, InputExample, losses\n",
    "from datasets import Dataset\n",
    "import pandas as pd\n",
    "from transformers.optimization import get_linear_schedule_with_warmup\n",
    "import matplotlib.pyplot as plt \n",
    "import numpy as np\n",
    "from sentence_transformers import SentenceTransformer\n",
    "from transformers import AutoTokenizer, AutoModel\n",
    "from torch.nn import CosineEmbeddingLoss\n",
    "import sklearn\n",
    "import spacy\n",
    "from torch import nn\n",
    "#Build up to SBERT model "
   ]
  },
  {
   "cell_type": "code",
   "execution_count": 2,
   "metadata": {},
   "outputs": [
    {
     "name": "stdout",
     "output_type": "stream",
     "text": [
      "torch.cuda.memory_allocated: 0.000000GB\n",
      "torch.cuda.memory_reserved: 0.000000GB\n",
      "torch.cuda.memory_free: 0.000000GB\n",
      "torch.cuda.max_memory_reserved: 0.000000GB\n"
     ]
    }
   ],
   "source": [
    "deviceNum = 1\n",
    "\n",
    "device = torch.device(\"cuda:\" + str(deviceNum) if torch.cuda.is_available() else \"cpu\")\n",
    "\n",
    "def check_mem():\n",
    "    torch.cuda.empty_cache()\n",
    "    a = torch.cuda.memory_allocated(deviceNum)/1024/1024/1024\n",
    "    r = torch.cuda.memory_reserved(deviceNum)/1024/1024/1024\n",
    "    print(\"torch.cuda.memory_allocated: %fGB\"%a)\n",
    "    print(\"torch.cuda.memory_reserved: %fGB\"%r)\n",
    "    print(\"torch.cuda.memory_free: %fGB\"%(r-a))\n",
    "    print(\"torch.cuda.max_memory_reserved: %fGB\"%(torch.cuda.max_memory_reserved(deviceNum)/1024/1024/1024))\n",
    "check_mem()\n",
    "\n",
    "\n",
    "torch.manual_seed(0)\n",
    "\n",
    "df = pd.read_csv(\"/shared/3/projects/benlitterer/localNews/NetworkMVP/enTrainData.csv\", sep=\"\\t\")\n",
    "df = df.loc[(df[\"url1_lang\"] == \"en\") & (df[\"url2_lang\"] == \"en\")]\n",
    "\n",
    "#put ground truth values into a list \n",
    "df[\"ground_truth\"] = df['Overall']\n",
    "\n",
    "#get only the columns we need \n",
    "#TODO: do we need \"pair_id\"? \n",
    "leanDf = df[[\"ground_truth\",  'text1', 'text2']].dropna()\n",
    "\n",
    "#rescale data from (0, 4): (0, 1)\n",
    "leanDf[\"ground_truth\"] = 1 - ((leanDf[\"ground_truth\"] - 1) / 3)"
   ]
  },
  {
   "cell_type": "code",
   "execution_count": 3,
   "metadata": {},
   "outputs": [],
   "source": [
    "class CustomSentListDataset(Dataset): \n",
    "    def __init__(self, inDf): \n",
    "        self.inDf = inDf \n",
    "        \n",
    "    def __len__(self): \n",
    "        return len(self.inDf)\n",
    "    \n",
    "    def __getitem__(self, idx):\n",
    "        return list(self.inDf.iloc[idx])"
   ]
  },
  {
   "cell_type": "code",
   "execution_count": 4,
   "metadata": {},
   "outputs": [
    {
     "data": {
      "application/vnd.jupyter.widget-view+json": {
       "model_id": "d8b1a0f478fa41e59edfcb3bce4a14b1",
       "version_major": 2,
       "version_minor": 0
      },
      "text/plain": [
       "0it [00:00, ?it/s]"
      ]
     },
     "metadata": {},
     "output_type": "display_data"
    },
    {
     "data": {
      "application/vnd.jupyter.widget-view+json": {
       "model_id": "31144a3c50504424bf9e53580b777a5d",
       "version_major": 2,
       "version_minor": 0
      },
      "text/plain": [
       "0it [00:00, ?it/s]"
      ]
     },
     "metadata": {},
     "output_type": "display_data"
    },
    {
     "data": {
      "application/vnd.jupyter.widget-view+json": {
       "model_id": "8a0c04d313214687a66904bc91ef1478",
       "version_major": 2,
       "version_minor": 0
      },
      "text/plain": [
       "0it [00:00, ?it/s]"
      ]
     },
     "metadata": {},
     "output_type": "display_data"
    },
    {
     "data": {
      "application/vnd.jupyter.widget-view+json": {
       "model_id": "eb1f2fc432604d6e85ddb406a2d626bb",
       "version_major": 2,
       "version_minor": 0
      },
      "text/plain": [
       "0it [00:00, ?it/s]"
      ]
     },
     "metadata": {},
     "output_type": "display_data"
    }
   ],
   "source": [
    "#nlp = spacy.load(\"en_core_web_sm\", disable=[\"tok2vec\", \"tagger\", \"parser\", \"attribute_ruler\", \"lemmatizer\", \"ner\"])\n",
    "#nlp.enable_pipe(\"senter\")\n",
    "nlp = spacy.blank(\"en\")\n",
    "nlp.add_pipe(\"sentencizer\")\n",
    "\n",
    "def extractSents(inList): \n",
    "    separator = nlp.pipe(inList, n_process=8)\n",
    "    textList = []\n",
    "    for text in tqdm(separator): \n",
    "        sentList = [str(sent) for sent in text.sents if len(sent) > 3]\n",
    "        textList.append(sentList)\n",
    "    return textList\n",
    "\n",
    "#split data \n",
    "trainDf, validDf = sklearn.model_selection.train_test_split(leanDf, train_size=.9, test_size=.1)\n",
    "trainDf = trainDf.reset_index(drop=True)\n",
    "validDf = validDf.reset_index(drop=True)\n",
    "\n",
    "trainDf[\"text1\"] = extractSents(trainDf[\"text1\"])\n",
    "trainDf[\"text2\"] = extractSents(trainDf[\"text2\"])\n",
    "validDf[\"text1\"] = extractSents(validDf[\"text1\"])\n",
    "validDf[\"text2\"] = extractSents(validDf[\"text2\"])\n",
    "\n"
   ]
  },
  {
   "cell_type": "code",
   "execution_count": 5,
   "metadata": {},
   "outputs": [],
   "source": [
    "sentCutoff = 60\n",
    " \n",
    "trainDf[\"text1\"] = trainDf[\"text1\"].apply(lambda x: x[:sentCutoff])\n",
    "trainDf[\"text2\"] = trainDf[\"text2\"].apply(lambda x: x[:sentCutoff])\n",
    "\n",
    "validDf[\"text1\"] = validDf[\"text1\"].apply(lambda x: x[:sentCutoff])\n",
    "validDf[\"text2\"] = validDf[\"text2\"].apply(lambda x: x[:sentCutoff])\n"
   ]
  },
  {
   "cell_type": "code",
   "execution_count": 6,
   "metadata": {},
   "outputs": [],
   "source": [
    "tokenizer = AutoTokenizer.from_pretrained('sentence-transformers/all-mpnet-base-v2')\n",
    "\n",
    "def getLoader(inDf, batchSize): \n",
    "    inDf[\"text1\"] = inDf[\"text1\"].apply(lambda x: tokenizer.batch_encode_plus(x, max_length=60, padding=\"max_length\", truncation=True, return_tensors=\"pt\"))\n",
    "    inDf[\"text2\"] = inDf[\"text2\"].apply(lambda x: tokenizer.batch_encode_plus(x, max_length=60, padding=\"max_length\", truncation=True, return_tensors=\"pt\"))\n",
    "    \n",
    "    inDf[\"text1_input_ids\"] = inDf[\"text1\"].apply(lambda x: x[\"input_ids\"])\n",
    "    inDf[\"text2_input_ids\"] = inDf[\"text2\"].apply(lambda x: x[\"input_ids\"])\n",
    "    \n",
    "    inDf[\"text1_attention_mask\"] = inDf[\"text1\"].apply(lambda x: x[\"attention_mask\"])\n",
    "    inDf[\"text2_attention_mask\"] = inDf[\"text2\"].apply(lambda x: x[\"attention_mask\"])\n",
    "    \n",
    "    #inDf[\"ground_truth\"] = inDf[\"ground_truth\"].apply(lambda x: x))\n",
    "    \n",
    "    dataset = CustomSentListDataset(inDf[[\"ground_truth\", \"text1_input_ids\", \"text1_attention_mask\",\"text2_input_ids\", \"text2_attention_mask\"]])\n",
    "    \n",
    "    # convert dataset features to PyTorch tensors\n",
    "    #dataset.set_format(type='torch', columns=inDf.columns())\n",
    "    loader = torch.utils.data.DataLoader(dataset, batch_size=batchSize, shuffle=True)\n",
    "    return [dataset, loader]\n",
    "\n",
    "trainData, trainLoader = getLoader(trainDf, 1)\n",
    "validData, validLoader = getLoader(validDf, 1)\n"
   ]
  },
  {
   "cell_type": "code",
   "execution_count": 7,
   "metadata": {},
   "outputs": [
    {
     "data": {
      "text/plain": [
       "tensor(0.)"
      ]
     },
     "execution_count": 7,
     "metadata": {},
     "output_type": "execute_result"
    }
   ],
   "source": [
    "cos = torch.nn.CosineSimilarity(dim=0, eps=1e-6)\n",
    "cos(torch.Tensor([0]), torch.Tensor([0]))"
   ]
  },
  {
   "cell_type": "code",
   "execution_count": 8,
   "metadata": {},
   "outputs": [],
   "source": [
    "\n",
    "class MyModel(nn.Module):\n",
    "    def __init__(self, sentCutoff):\n",
    "        #do all the stuff from the inhereted method \n",
    "        super(MyModel,self).__init__()\n",
    "        \n",
    "        #need encoder first \n",
    "        self.model = AutoModel.from_pretrained('sentence-transformers/all-mpnet-base-v2')\n",
    "        self.cos = torch.nn.CosineSimilarity(dim=0, eps=1e-6)\n",
    "        self.sentCutoff = sentCutoff\n",
    "        \n",
    "        #Now start CNN\n",
    "        #layer1 \n",
    "        self.conv1 = nn.Conv2d(in_channels=1, out_channels=100, kernel_size=11, stride = 1, padding=5)\n",
    "        self.pool1 = nn.MaxPool2d(kernel_size=2, stride=2)\n",
    "        self.ReLU1 = nn.ReLU()\n",
    "        \n",
    "        #layer2\n",
    "        self.conv2 = nn.Conv2d(in_channels=100, out_channels=50, kernel_size=5, stride = 1, padding=2)\n",
    "        self.pool2 = nn.MaxPool2d(kernel_size=2, stride=2)\n",
    "        self.ReLU2 = nn.ReLU()\n",
    "        \n",
    "        #layer 3 \n",
    "        self.conv3 = nn.Conv2d(in_channels=50, out_channels=10, kernel_size=5, stride = 1, padding=0)\n",
    "        self.pool3 = nn.MaxPool2d(kernel_size=2, stride=2)\n",
    "        self.ReLU3 = nn.ReLU()\n",
    "        \n",
    "        #layer 4\n",
    "        self.l1 = nn.Linear(250, 50)\n",
    "        self.ReLU4 = nn.ReLU()\n",
    "        \n",
    "        #layer 5 \n",
    "        self.l2 = nn.Linear(50, 1)\n",
    "        \n",
    "        self.loss_func = torch.nn.MSELoss(reduction=\"mean\")\n",
    "        \n",
    "    def mean_pooling(self, token_embeddings, attention_mask): \n",
    "        input_mask_expanded = attention_mask.unsqueeze(-1).expand(token_embeddings.size()).float()\n",
    "        return torch.sum(token_embeddings * input_mask_expanded, 1) / torch.clamp(input_mask_expanded.sum(1), min=1e-9)\n",
    "\n",
    "    def forward(self, inputs_ids_a, attention_a, inputs_ids_b, attention_b, gt): \n",
    "        \n",
    "        #out = out.view(out.size(0), -1)\n",
    "        \n",
    "        u = self.model(inputs_ids_a, attention_mask=attention_a)[0]  # all token embeddings B\n",
    "        #try to clear up memory and keep only the sentence embeddings \n",
    "        del inputs_ids_a\n",
    "\n",
    "        sents_u = self.mean_pooling(u, attention_a)\n",
    "        del attention_a\n",
    "        del u \n",
    "        \n",
    "        v = self.model(inputs_ids_b, attention_mask=attention_b)[0]  # all token embeddings B\n",
    "        del inputs_ids_b\n",
    "\n",
    "        sents_v = self.mean_pooling(v, attention_b)\n",
    "        del attention_b\n",
    "        del v\n",
    "     \n",
    "        #print(\"creating matrix\")\n",
    "        #get similarity matrix for sentences between the documents \n",
    "        sims = np.empty([self.sentCutoff, self.sentCutoff])\n",
    "        for i in range(self.sentCutoff):\n",
    "            uSent = torch.Tensor([0]).to(device)\n",
    "            if i < len(sents_u): \n",
    "                uSent = sents_u[i]\n",
    "            for j in range(self.sentCutoff):\n",
    "                vSent = torch.Tensor([0]).to(device)\n",
    "                if j < len(sents_v):\n",
    "                    vSent = sents_v[j]\n",
    "                sims[i, j] = self.cos(uSent, vSent)\n",
    "\n",
    "        sims = torch.Tensor(np.array([sims])).to(device)\n",
    "        del sents_u\n",
    "        del sents_v \n",
    "\n",
    "        #print(sims.shape)\n",
    "        #print(\"created matrix\")\n",
    "        #first attempt is a single linear layer\n",
    "        #maybe linear combination of output is sufficient? \n",
    "        #go from 4000 > 500 > 1\n",
    "        out = self.conv1(sims)\n",
    "        out = self.pool1(out)\n",
    "        out = self.ReLU1(out)\n",
    "        \n",
    "        #print(out.shape)\n",
    "        #print(\"l1 finished\")\n",
    "        out = self.conv2(out)\n",
    "        out = self.pool2(out)\n",
    "        out = self.ReLU2(out)\n",
    "        \n",
    "        #print(out.shape)\n",
    "        #print(\"l2 finished\")\n",
    "        out = self.conv3(out)\n",
    "        out = self.pool3(out)\n",
    "        out = self.ReLU3(out)\n",
    "        #print(out.shape)\n",
    "        #print(out)\n",
    "        out = out.view(1, out.shape[0]*out.shape[1]*out.shape[2])\n",
    "        \n",
    "        #print(out.shape)\n",
    "        #print(\"l3 finished\")\n",
    "        out = self.l1(out)\n",
    "        out = self.ReLU4(out)\n",
    "        \n",
    "        #print(\"l4 finished\")\n",
    "        pred = self.l2(out)\n",
    "        \n",
    "        #since the first dimension is supposed to represent number of batches, we add \n",
    "        # a dimension to the prediction to indicate batch size of 1\n",
    "        gt = gt.unsqueeze(1)\n",
    "       \n",
    "        #print(pred.shape)\n",
    "        #print(gt.shape)\n",
    "        \n",
    "        loss = self.loss_func(pred, gt)\n",
    "        \n",
    "        return [loss, pred, gt] \n"
   ]
  },
  {
   "cell_type": "code",
   "execution_count": 9,
   "metadata": {},
   "outputs": [],
   "source": [
    "x = torch.Tensor(np.empty([10, 5, 5]))\n",
    "x = x.view(1, x.shape[0]*x.shape[1]*x.shape[2])\n"
   ]
  },
  {
   "cell_type": "code",
   "execution_count": 10,
   "metadata": {},
   "outputs": [],
   "source": [
    "model = MyModel(60).to(device)\n",
    "\n",
    "trainBatch = 1\n",
    "\n",
    "# we would initialize everything first\n",
    "optim = torch.optim.Adam(model.parameters(), lr=2e-5)\n",
    "\n",
    "# and setup a warmup for the first ~10% steps\n",
    "total_steps = int(len(trainData) / trainBatch)\n",
    "warmup_steps = int(0.1 * total_steps)\n",
    "scheduler = get_linear_schedule_with_warmup(optim, num_warmup_steps=warmup_steps, num_training_steps=total_steps - warmup_steps)"
   ]
  },
  {
   "cell_type": "code",
   "execution_count": 11,
   "metadata": {},
   "outputs": [],
   "source": [
    "def validation(): \n",
    "    model.eval()\n",
    "    lossList = []\n",
    "    preds = []\n",
    "    gts = []\n",
    "\n",
    "    vLoop = tqdm(validLoader, leave=True)\n",
    "    for j, vBatch in enumerate(vLoop): \n",
    "        # prepare batches and more all to the active device\n",
    "        inputs_ids_a = vBatch[1][0].to(device)\n",
    "        attention_a = vBatch[2][0].to(device)\n",
    "        inputs_ids_b = vBatch[3][0].to(device)\n",
    "        attention_b = vBatch[4][0].to(device)\n",
    "        gt = vBatch[0].float().to(device)\n",
    "        \n",
    "        #get outputs from model \n",
    "        loss, pred, gt = model(inputs_ids_a, attention_a, inputs_ids_b, attention_b, gt)\n",
    "        \n",
    "        #get predictions and ground truth to compute training metrics with \n",
    "        lossList.append(float(loss))\n",
    "        preds.append(float(pred))\n",
    "        gts.append(float(gt))\n",
    "        \n",
    "    #print(vGT)\n",
    "    return [lossList, preds, gts]\n",
    "        "
   ]
  },
  {
   "cell_type": "code",
   "execution_count": 12,
   "metadata": {},
   "outputs": [
    {
     "data": {
      "application/vnd.jupyter.widget-view+json": {
       "model_id": "afd65e04de8d4ff5bde88619686fa4ca",
       "version_major": 2,
       "version_minor": 0
      },
      "text/plain": [
       "  0%|          | 0/1508 [00:00<?, ?it/s]"
      ]
     },
     "metadata": {},
     "output_type": "display_data"
    },
    {
     "data": {
      "application/vnd.jupyter.widget-view+json": {
       "model_id": "ea461ae27b044fd6a8457d619133c223",
       "version_major": 2,
       "version_minor": 0
      },
      "text/plain": [
       "  0%|          | 0/168 [00:00<?, ?it/s]"
      ]
     },
     "metadata": {},
     "output_type": "display_data"
    },
    {
     "ename": "KeyboardInterrupt",
     "evalue": "",
     "output_type": "error",
     "traceback": [
      "\u001b[0;31m---------------------------------------------------------------------------\u001b[0m",
      "\u001b[0;31mKeyboardInterrupt\u001b[0m                         Traceback (most recent call last)",
      "\u001b[0;32m<ipython-input-12-5393cae41453>\u001b[0m in \u001b[0;36m<module>\u001b[0;34m\u001b[0m\n\u001b[1;32m     43\u001b[0m         \u001b[0;31m#validation if at correct step\u001b[0m\u001b[0;34m\u001b[0m\u001b[0;34m\u001b[0m\u001b[0;34m\u001b[0m\u001b[0m\n\u001b[1;32m     44\u001b[0m         \u001b[0;32mif\u001b[0m \u001b[0mi\u001b[0m \u001b[0;34m%\u001b[0m \u001b[0mvalidationFreq\u001b[0m \u001b[0;34m==\u001b[0m \u001b[0;36m0\u001b[0m\u001b[0;34m:\u001b[0m\u001b[0;34m\u001b[0m\u001b[0;34m\u001b[0m\u001b[0m\n\u001b[0;32m---> 45\u001b[0;31m             \u001b[0mvalidMetrics\u001b[0m\u001b[0;34m.\u001b[0m\u001b[0mappend\u001b[0m\u001b[0;34m(\u001b[0m\u001b[0mvalidation\u001b[0m\u001b[0;34m(\u001b[0m\u001b[0;34m)\u001b[0m\u001b[0;34m)\u001b[0m\u001b[0;34m\u001b[0m\u001b[0;34m\u001b[0m\u001b[0m\n\u001b[0m\u001b[1;32m     46\u001b[0m             \u001b[0mmodel\u001b[0m\u001b[0;34m.\u001b[0m\u001b[0mtrain\u001b[0m\u001b[0;34m(\u001b[0m\u001b[0;34m)\u001b[0m\u001b[0;34m\u001b[0m\u001b[0;34m\u001b[0m\u001b[0m\n\u001b[1;32m     47\u001b[0m             \u001b[0mprint\u001b[0m\u001b[0;34m(\u001b[0m\u001b[0;34m\"validated\"\u001b[0m\u001b[0;34m)\u001b[0m\u001b[0;34m\u001b[0m\u001b[0;34m\u001b[0m\u001b[0m\n",
      "\u001b[0;32m<ipython-input-11-bdaafe909a7b>\u001b[0m in \u001b[0;36mvalidation\u001b[0;34m()\u001b[0m\n\u001b[1;32m     15\u001b[0m \u001b[0;34m\u001b[0m\u001b[0m\n\u001b[1;32m     16\u001b[0m         \u001b[0;31m#get outputs from model\u001b[0m\u001b[0;34m\u001b[0m\u001b[0;34m\u001b[0m\u001b[0;34m\u001b[0m\u001b[0m\n\u001b[0;32m---> 17\u001b[0;31m         \u001b[0mloss\u001b[0m\u001b[0;34m,\u001b[0m \u001b[0mpred\u001b[0m\u001b[0;34m,\u001b[0m \u001b[0mgt\u001b[0m \u001b[0;34m=\u001b[0m \u001b[0mmodel\u001b[0m\u001b[0;34m(\u001b[0m\u001b[0minputs_ids_a\u001b[0m\u001b[0;34m,\u001b[0m \u001b[0mattention_a\u001b[0m\u001b[0;34m,\u001b[0m \u001b[0minputs_ids_b\u001b[0m\u001b[0;34m,\u001b[0m \u001b[0mattention_b\u001b[0m\u001b[0;34m,\u001b[0m \u001b[0mgt\u001b[0m\u001b[0;34m)\u001b[0m\u001b[0;34m\u001b[0m\u001b[0;34m\u001b[0m\u001b[0m\n\u001b[0m\u001b[1;32m     18\u001b[0m \u001b[0;34m\u001b[0m\u001b[0m\n\u001b[1;32m     19\u001b[0m         \u001b[0;31m#get predictions and ground truth to compute training metrics with\u001b[0m\u001b[0;34m\u001b[0m\u001b[0;34m\u001b[0m\u001b[0;34m\u001b[0m\u001b[0m\n",
      "\u001b[0;32m/opt/anaconda/lib/python3.8/site-packages/torch/nn/modules/module.py\u001b[0m in \u001b[0;36m_call_impl\u001b[0;34m(self, *input, **kwargs)\u001b[0m\n\u001b[1;32m   1108\u001b[0m         if not (self._backward_hooks or self._forward_hooks or self._forward_pre_hooks or _global_backward_hooks\n\u001b[1;32m   1109\u001b[0m                 or _global_forward_hooks or _global_forward_pre_hooks):\n\u001b[0;32m-> 1110\u001b[0;31m             \u001b[0;32mreturn\u001b[0m \u001b[0mforward_call\u001b[0m\u001b[0;34m(\u001b[0m\u001b[0;34m*\u001b[0m\u001b[0minput\u001b[0m\u001b[0;34m,\u001b[0m \u001b[0;34m**\u001b[0m\u001b[0mkwargs\u001b[0m\u001b[0;34m)\u001b[0m\u001b[0;34m\u001b[0m\u001b[0;34m\u001b[0m\u001b[0m\n\u001b[0m\u001b[1;32m   1111\u001b[0m         \u001b[0;31m# Do not call functions when jit is used\u001b[0m\u001b[0;34m\u001b[0m\u001b[0;34m\u001b[0m\u001b[0;34m\u001b[0m\u001b[0m\n\u001b[1;32m   1112\u001b[0m         \u001b[0mfull_backward_hooks\u001b[0m\u001b[0;34m,\u001b[0m \u001b[0mnon_full_backward_hooks\u001b[0m \u001b[0;34m=\u001b[0m \u001b[0;34m[\u001b[0m\u001b[0;34m]\u001b[0m\u001b[0;34m,\u001b[0m \u001b[0;34m[\u001b[0m\u001b[0;34m]\u001b[0m\u001b[0;34m\u001b[0m\u001b[0;34m\u001b[0m\u001b[0m\n",
      "\u001b[0;32m<ipython-input-8-d8a71da1c339>\u001b[0m in \u001b[0;36mforward\u001b[0;34m(***failed resolving arguments***)\u001b[0m\n\u001b[1;32m     68\u001b[0m                 \u001b[0;32mif\u001b[0m \u001b[0mj\u001b[0m \u001b[0;34m<\u001b[0m \u001b[0mlen\u001b[0m\u001b[0;34m(\u001b[0m\u001b[0msents_v\u001b[0m\u001b[0;34m)\u001b[0m\u001b[0;34m:\u001b[0m\u001b[0;34m\u001b[0m\u001b[0;34m\u001b[0m\u001b[0m\n\u001b[1;32m     69\u001b[0m                     \u001b[0mvSent\u001b[0m \u001b[0;34m=\u001b[0m \u001b[0msents_v\u001b[0m\u001b[0;34m[\u001b[0m\u001b[0mj\u001b[0m\u001b[0;34m]\u001b[0m\u001b[0;34m\u001b[0m\u001b[0;34m\u001b[0m\u001b[0m\n\u001b[0;32m---> 70\u001b[0;31m                 \u001b[0msims\u001b[0m\u001b[0;34m[\u001b[0m\u001b[0mi\u001b[0m\u001b[0;34m,\u001b[0m \u001b[0mj\u001b[0m\u001b[0;34m]\u001b[0m \u001b[0;34m=\u001b[0m \u001b[0mself\u001b[0m\u001b[0;34m.\u001b[0m\u001b[0mcos\u001b[0m\u001b[0;34m(\u001b[0m\u001b[0muSent\u001b[0m\u001b[0;34m,\u001b[0m \u001b[0mvSent\u001b[0m\u001b[0;34m)\u001b[0m\u001b[0;34m\u001b[0m\u001b[0;34m\u001b[0m\u001b[0m\n\u001b[0m\u001b[1;32m     71\u001b[0m \u001b[0;34m\u001b[0m\u001b[0m\n\u001b[1;32m     72\u001b[0m         \u001b[0msims\u001b[0m \u001b[0;34m=\u001b[0m \u001b[0mtorch\u001b[0m\u001b[0;34m.\u001b[0m\u001b[0mTensor\u001b[0m\u001b[0;34m(\u001b[0m\u001b[0mnp\u001b[0m\u001b[0;34m.\u001b[0m\u001b[0marray\u001b[0m\u001b[0;34m(\u001b[0m\u001b[0;34m[\u001b[0m\u001b[0msims\u001b[0m\u001b[0;34m]\u001b[0m\u001b[0;34m)\u001b[0m\u001b[0;34m)\u001b[0m\u001b[0;34m.\u001b[0m\u001b[0mto\u001b[0m\u001b[0;34m(\u001b[0m\u001b[0mdevice\u001b[0m\u001b[0;34m)\u001b[0m\u001b[0;34m\u001b[0m\u001b[0;34m\u001b[0m\u001b[0m\n",
      "\u001b[0;32m/opt/anaconda/lib/python3.8/site-packages/torch/nn/modules/module.py\u001b[0m in \u001b[0;36m_call_impl\u001b[0;34m(self, *input, **kwargs)\u001b[0m\n\u001b[1;32m   1108\u001b[0m         if not (self._backward_hooks or self._forward_hooks or self._forward_pre_hooks or _global_backward_hooks\n\u001b[1;32m   1109\u001b[0m                 or _global_forward_hooks or _global_forward_pre_hooks):\n\u001b[0;32m-> 1110\u001b[0;31m             \u001b[0;32mreturn\u001b[0m \u001b[0mforward_call\u001b[0m\u001b[0;34m(\u001b[0m\u001b[0;34m*\u001b[0m\u001b[0minput\u001b[0m\u001b[0;34m,\u001b[0m \u001b[0;34m**\u001b[0m\u001b[0mkwargs\u001b[0m\u001b[0;34m)\u001b[0m\u001b[0;34m\u001b[0m\u001b[0;34m\u001b[0m\u001b[0m\n\u001b[0m\u001b[1;32m   1111\u001b[0m         \u001b[0;31m# Do not call functions when jit is used\u001b[0m\u001b[0;34m\u001b[0m\u001b[0;34m\u001b[0m\u001b[0;34m\u001b[0m\u001b[0m\n\u001b[1;32m   1112\u001b[0m         \u001b[0mfull_backward_hooks\u001b[0m\u001b[0;34m,\u001b[0m \u001b[0mnon_full_backward_hooks\u001b[0m \u001b[0;34m=\u001b[0m \u001b[0;34m[\u001b[0m\u001b[0;34m]\u001b[0m\u001b[0;34m,\u001b[0m \u001b[0;34m[\u001b[0m\u001b[0;34m]\u001b[0m\u001b[0;34m\u001b[0m\u001b[0;34m\u001b[0m\u001b[0m\n",
      "\u001b[0;32m/opt/anaconda/lib/python3.8/site-packages/torch/nn/modules/distance.py\u001b[0m in \u001b[0;36mforward\u001b[0;34m(self, x1, x2)\u001b[0m\n\u001b[1;32m     75\u001b[0m \u001b[0;34m\u001b[0m\u001b[0m\n\u001b[1;32m     76\u001b[0m     \u001b[0;32mdef\u001b[0m \u001b[0mforward\u001b[0m\u001b[0;34m(\u001b[0m\u001b[0mself\u001b[0m\u001b[0;34m,\u001b[0m \u001b[0mx1\u001b[0m\u001b[0;34m:\u001b[0m \u001b[0mTensor\u001b[0m\u001b[0;34m,\u001b[0m \u001b[0mx2\u001b[0m\u001b[0;34m:\u001b[0m \u001b[0mTensor\u001b[0m\u001b[0;34m)\u001b[0m \u001b[0;34m->\u001b[0m \u001b[0mTensor\u001b[0m\u001b[0;34m:\u001b[0m\u001b[0;34m\u001b[0m\u001b[0;34m\u001b[0m\u001b[0m\n\u001b[0;32m---> 77\u001b[0;31m         \u001b[0;32mreturn\u001b[0m \u001b[0mF\u001b[0m\u001b[0;34m.\u001b[0m\u001b[0mcosine_similarity\u001b[0m\u001b[0;34m(\u001b[0m\u001b[0mx1\u001b[0m\u001b[0;34m,\u001b[0m \u001b[0mx2\u001b[0m\u001b[0;34m,\u001b[0m \u001b[0mself\u001b[0m\u001b[0;34m.\u001b[0m\u001b[0mdim\u001b[0m\u001b[0;34m,\u001b[0m \u001b[0mself\u001b[0m\u001b[0;34m.\u001b[0m\u001b[0meps\u001b[0m\u001b[0;34m)\u001b[0m\u001b[0;34m\u001b[0m\u001b[0;34m\u001b[0m\u001b[0m\n\u001b[0m",
      "\u001b[0;31mKeyboardInterrupt\u001b[0m: "
     ]
    }
   ],
   "source": [
    "lossSmoothing = 20\n",
    "validationFreq = 500\n",
    "\n",
    "#TODO: implement a cutoff on how many sentences of the article we can consider \n",
    "#TODO: put model in seperate class? How to make sure the params are updating \n",
    "trainDict = {}\n",
    "lossList = []\n",
    "subLossList = []\n",
    "validMetrics = []\n",
    "# increase from 1 epoch if need be \n",
    "for epoch in range(2):\n",
    "    \n",
    "    model.train()  # make sure model is in training mode\n",
    "    \n",
    "    # initialize the dataloader loop with tqdm (tqdm == progress bar)\n",
    "    loop = tqdm(trainLoader, leave=True)\n",
    "    \n",
    "    for i, batch in enumerate(loop): \n",
    "        # zero all gradients on each new step\n",
    "        optim.zero_grad()\n",
    "        \n",
    "        #in practice this doesn't seem to usually actually help but worth adding? \n",
    "        torch.cuda.empty_cache()\n",
    "\n",
    "        #get model inputs from batch \n",
    "        inputs_ids_a = batch[1][0].to(device)\n",
    "        attention_a = batch[2][0].to(device)\n",
    "        inputs_ids_b = batch[3][0].to(device)\n",
    "        attention_b = batch[4][0].to(device)\n",
    "        gt = batch[0].float().to(device)\n",
    "\n",
    "        #get outputs from model \n",
    "        loss, pred, gt = model(inputs_ids_a, attention_a, inputs_ids_b, attention_b, gt)\n",
    "        \n",
    "        subLossList.append(loss.item())\n",
    "        if i % lossSmoothing == 0: \n",
    "            lossList.append(np.median(subLossList))\n",
    "            subLossList = []\n",
    "            \n",
    "        #update weights \n",
    "        loss.backward()\n",
    "        \n",
    "        #validation if at correct step \n",
    "        if i % validationFreq == 0: \n",
    "            validMetrics.append(validation())\n",
    "            model.train()\n",
    "            print(\"validated\")\n",
    "            \n",
    "        optim.step()\n",
    "        scheduler.step()"
   ]
  },
  {
   "cell_type": "code",
   "execution_count": 13,
   "metadata": {},
   "outputs": [
    {
     "data": {
      "text/plain": [
       "[<matplotlib.lines.Line2D at 0x7f5e34be1910>]"
      ]
     },
     "execution_count": 13,
     "metadata": {},
     "output_type": "execute_result"
    },
    {
     "data": {
      "image/png": "[encoded data removed]",
      "text/plain": [
       "<Figure size 432x288 with 1 Axes>"
      ]
     },
     "metadata": {
      "needs_background": "light"
     },
     "output_type": "display_data"
    }
   ],
   "source": [
    "plt.plot(lossList)\n"
   ]
  },
  {
   "cell_type": "code",
   "execution_count": 14,
   "metadata": {},
   "outputs": [
    {
     "data": {
      "text/plain": [
       "Text(0.5, 1.0, 'Loss')"
      ]
     },
     "execution_count": 14,
     "metadata": {},
     "output_type": "execute_result"
    },
    {
     "data": {
      "image/png": "[encoded data removed]",
      "text/plain": [
       "<Figure size 432x288 with 1 Axes>"
      ]
     },
     "metadata": {
      "needs_background": "light"
     },
     "output_type": "display_data"
    }
   ],
   "source": [
    "lossIndex = [i * lossSmoothing for i in range(len(lossList))]\n",
    "plt.plot(lossIndex, lossList)\n",
    "plt.xlabel(\"batch num\")\n",
    "plt.ylabel(\"loss\")\n",
    "plt.title(\"Loss\")"
   ]
  },
  {
   "cell_type": "code",
   "execution_count": 15,
   "metadata": {},
   "outputs": [
    {
     "data": {
      "text/plain": [
       "(8, 3, 168)"
      ]
     },
     "execution_count": 15,
     "metadata": {},
     "output_type": "execute_result"
    }
   ],
   "source": [
    "np.array(validMetrics).shape"
   ]
  },
  {
   "cell_type": "code",
   "execution_count": 16,
   "metadata": {},
   "outputs": [],
   "source": [
    "validDf = pd.DataFrame({\"loss\":[], \"pred\":[], \"true\":[], \"iter\":[]})\n",
    "validArr = np.array(validMetrics)\n",
    "\n",
    "iterNum = 0\n",
    "corrList = []\n",
    "iterList = []\n",
    "for i in range(validArr.shape[0]): \n",
    "    subDf = pd.DataFrame(validArr[i].T)\n",
    "    subDf.columns = [\"loss\", \"pred\", \"true\"]\n",
    "    subDf[\"iter\"] = [iterNum for i in range(len(subDf))]\n",
    "    iterList.append(iterNum)\n",
    "    iterNum += validationFreq\n",
    "    validDf = pd.concat([validDf, subDf])\n",
    "    corr = np.corrcoef(subDf[\"pred\"], subDf[\"true\"])\n",
    "    corrList.append(corr[0, 1])"
   ]
  },
  {
   "cell_type": "code",
   "execution_count": 22,
   "metadata": {},
   "outputs": [
    {
     "data": {
      "text/plain": [
       "Text(0.5, 1.0, 'validation correlation')"
      ]
     },
     "execution_count": 22,
     "metadata": {},
     "output_type": "execute_result"
    },
    {
     "data": {
      "image/png": "[encoded data removed]",
      "text/plain": [
       "<Figure size 432x288 with 1 Axes>"
      ]
     },
     "metadata": {
      "needs_background": "light"
     },
     "output_type": "display_data"
    }
   ],
   "source": [
    "plt.plot(iterList, corrList)\n",
    "plt.xlabel(\"batch num\")\n",
    "plt.ylabel(\"pearson correlation\")\n",
    "plt.title(\"validation correlation\")"
   ]
  },
  {
   "cell_type": "code",
   "execution_count": 18,
   "metadata": {},
   "outputs": [
    {
     "name": "stdout",
     "output_type": "stream",
     "text": [
      "[[1.         0.33527444]\n",
      " [0.33527444 1.        ]]\n",
      "[[1.         0.36506336]\n",
      " [0.36506336 1.        ]]\n",
      "[[1.        0.4840072]\n",
      " [0.4840072 1.       ]]\n",
      "[[1.         0.53358919]\n",
      " [0.53358919 1.        ]]\n",
      "[[1.         0.53358919]\n",
      " [0.53358919 1.        ]]\n",
      "[[1.         0.53358919]\n",
      " [0.53358919 1.        ]]\n",
      "[[1.         0.53358919]\n",
      " [0.53358919 1.        ]]\n",
      "[[1.         0.53358919]\n",
      " [0.53358919 1.        ]]\n"
     ]
    },
    {
     "data": {
      "text/plain": [
       "<matplotlib.collections.PathCollection at 0x7f5e34ddad30>"
      ]
     },
     "execution_count": 18,
     "metadata": {},
     "output_type": "execute_result"
    },
    {
     "data": {
      "image/png": "[encoded data removed]",
      "text/plain": [
       "<Figure size 432x288 with 1 Axes>"
      ]
     },
     "metadata": {
      "needs_background": "light"
     },
     "output_type": "display_data"
    }
   ],
   "source": [
    "\n",
    "#print(validArr.shape)\n",
    "\n",
    "test = validArr[1,:,:]\n",
    "#np.corrcoef(test[1], test[2])\n",
    "\n",
    "#go through each validation step\n",
    "for i in range(validArr.shape[0]): \n",
    "    subDf = pd.DataFrame(validArr[i].T)\n",
    "    subDf.columns = [\"loss\", \"pred\", \"true\"]\n",
    "    corr = np.corrcoef(subDf[\"pred\"], subDf[\"true\"])\n",
    "    print(corr)\n",
    "    \n",
    "plt.scatter(subDf[\"true\"], subDf[\"pred\"], alpha=.2)"
   ]
  },
  {
   "cell_type": "code",
   "execution_count": 19,
   "metadata": {},
   "outputs": [
    {
     "data": {
      "text/plain": [
       "array([[1.53566413e-02, 9.50807985e-03, 1.54889831e-02, 8.11381757e-01,\n",
       "        2.05882236e-01, 3.21059436e-01, 9.67079494e-03, 5.55159114e-02,\n",
       "        9.70209111e-03, 1.18648387e-01, 1.04579898e-02, 6.25806808e-01,\n",
       "        1.73693610e-04, 9.57233552e-03, 1.49583686e-02, 1.17402956e-01,\n",
       "        1.37735580e-04, 9.65697225e-03, 8.12756300e-01, 1.63033445e-04,\n",
       "        1.73272623e-04, 9.61911958e-03, 9.61639266e-03, 1.53758554e-02,\n",
       "        1.52569124e-02, 9.07106046e-03, 8.15358520e-01, 9.69025120e-03,\n",
       "        9.91250202e-03, 5.39193034e-01, 1.53953293e-02, 1.61586271e-04,\n",
       "        9.70873702e-03, 9.59138200e-03, 8.12053978e-01, 1.59691408e-01,\n",
       "        9.99811199e-03, 1.11831025e-04, 5.49964011e-02, 3.22163552e-01,\n",
       "        2.44632625e-04, 2.32181948e-04, 9.88378469e-03, 1.48042222e-04,\n",
       "        1.51771475e-02, 9.67885181e-03, 5.50138503e-02, 9.75991227e-03,\n",
       "        2.08321229e-01, 8.09240222e-01, 2.09432885e-01, 1.60078168e-01,\n",
       "        9.58787464e-03, 4.62098509e-01, 2.32972518e-01, 9.93992295e-03,\n",
       "        9.63800400e-03, 5.50274588e-02, 4.60006118e-01, 5.40091246e-02,\n",
       "        6.23717546e-01, 5.39216399e-02, 5.51382676e-02, 9.68161505e-03,\n",
       "        9.80040431e-03, 6.23501599e-01, 4.59335268e-01, 8.02657127e-01,\n",
       "        2.08628133e-01, 5.41662425e-02, 9.65837762e-03, 9.80428979e-03,\n",
       "        3.04893404e-01, 9.81020555e-03, 3.20935488e-01, 9.56097990e-03,\n",
       "        1.19746491e-01, 9.56501067e-03, 1.62531063e-01, 9.59480740e-03,\n",
       "        9.56326071e-03, 9.91843268e-03, 9.61308647e-03, 1.68899001e-04,\n",
       "        9.62208491e-03, 9.60169081e-03, 3.22302461e-01, 8.10172617e-01,\n",
       "        9.54023842e-03, 1.51058222e-04, 5.44032007e-02, 9.45389643e-03,\n",
       "        9.60939471e-03, 4.40764893e-03, 6.23051345e-01, 9.57499724e-03,\n",
       "        1.71994921e-04, 6.23706281e-01, 9.62097291e-03, 9.58871283e-03,\n",
       "        9.85968579e-03, 8.10429811e-01, 8.14338267e-01, 1.54791689e-02,\n",
       "        1.01506235e-02, 1.77996058e-04, 8.11201930e-01, 9.56744328e-03,\n",
       "        9.87202115e-03, 4.66973707e-03, 4.59629178e-01, 8.08320999e-01,\n",
       "        9.70507413e-03, 9.94842686e-03, 1.76722417e-04, 3.19659829e-01,\n",
       "        1.42178716e-04, 9.79575515e-03, 9.89766791e-03, 3.21206570e-01,\n",
       "        2.07706198e-01, 9.65997018e-03, 9.59574152e-03, 9.75547731e-03,\n",
       "        9.72172339e-03, 5.45982271e-02, 1.43491590e-04, 1.52184376e-02,\n",
       "        8.10475111e-01, 6.25225186e-01, 9.64572374e-03, 9.55579802e-03,\n",
       "        1.60129573e-02, 6.27834380e-01, 9.55421012e-03, 5.61518334e-02,\n",
       "        6.22292340e-01, 9.69245937e-03, 9.58248321e-03, 9.64887720e-03,\n",
       "        9.62398387e-03, 9.63339955e-03, 6.23042405e-01, 5.44602089e-02,\n",
       "        9.55251977e-03, 9.65486560e-03, 2.08258286e-01, 1.19162776e-01,\n",
       "        8.07172477e-01, 9.64326784e-03, 1.17473073e-01, 1.56818070e-02,\n",
       "        9.58721805e-03, 1.71736669e-04, 9.59642325e-03, 3.22826236e-01,\n",
       "        9.56062507e-03, 9.79693420e-03, 6.23594344e-01, 8.10618401e-01,\n",
       "        1.53041547e-04, 7.25975096e-01, 1.54529652e-02, 8.11863899e-01,\n",
       "        9.49334167e-03, 1.54160270e-02, 9.60939471e-03, 2.08810478e-01],\n",
       "       [9.83003080e-02, 9.75093842e-02, 9.77674797e-02, 9.92326960e-02,\n",
       "        1.01813108e-01, 1.00045621e-01, 9.83401984e-02, 9.77151990e-02,\n",
       "        9.84991938e-02, 9.99907106e-02, 9.77356881e-02, 9.78093892e-02,\n",
       "        9.79318246e-02, 9.78383124e-02, 9.99178141e-02, 1.01803295e-01,\n",
       "        9.93750319e-02, 9.82698947e-02, 9.84700322e-02, 9.83426571e-02,\n",
       "        9.79478061e-02, 9.80771109e-02, 9.80632082e-02, 9.82228070e-02,\n",
       "        9.87033471e-02, 9.52421129e-02, 9.70279425e-02, 9.84390751e-02,\n",
       "        9.95615497e-02, 9.90356803e-02, 9.81443077e-02, 9.83994529e-02,\n",
       "        9.85329226e-02, 9.79356021e-02, 9.88596082e-02, 1.00385942e-01,\n",
       "        9.99905616e-02, 1.00536093e-01, 9.88202244e-02, 9.90721360e-02,\n",
       "        9.89740714e-02, 9.58735943e-02, 9.94172245e-02, 9.89438519e-02,\n",
       "        9.90266576e-02, 9.83811542e-02, 9.87830311e-02, 9.87922698e-02,\n",
       "        9.91333574e-02, 1.00422181e-01, 9.79172140e-02, 9.99023095e-02,\n",
       "        9.79176909e-02, 9.79995131e-02, 1.00661054e-01, 9.96991619e-02,\n",
       "        9.81733352e-02, 9.87540185e-02, 9.95403081e-02, 1.00934707e-01,\n",
       "        9.91310105e-02, 1.01123005e-01, 9.85179618e-02, 9.83951986e-02,\n",
       "        9.89969894e-02, 9.92677435e-02, 1.00034997e-01, 1.04088657e-01,\n",
       "        9.87972915e-02, 1.00596920e-01, 9.82770473e-02, 9.90166143e-02,\n",
       "        1.14495181e-01, 9.90464836e-02, 1.00155011e-01, 9.77802649e-02,\n",
       "        9.84003693e-02, 9.78008732e-02, 9.68485773e-02, 9.79530886e-02,\n",
       "        9.77919251e-02, 9.95913297e-02, 9.80463475e-02, 9.81149971e-02,\n",
       "        9.80922282e-02, 9.79882181e-02, 9.89497826e-02, 9.99041200e-02,\n",
       "        9.76741463e-02, 9.88205373e-02, 1.00088403e-01, 9.72311497e-02,\n",
       "        9.80275199e-02, 1.00276545e-01, 9.95528921e-02, 9.78519171e-02,\n",
       "        9.79964286e-02, 9.91381481e-02, 9.80865583e-02, 9.79219750e-02,\n",
       "        9.92959514e-02, 9.97612625e-02, 9.75930691e-02, 9.78069156e-02,\n",
       "        1.00750305e-01, 9.77695957e-02, 9.93324965e-02, 9.78133082e-02,\n",
       "        9.93580446e-02, 9.83311981e-02, 9.98181999e-02, 1.00933269e-01,\n",
       "        9.85143334e-02, 9.97418016e-02, 9.78174135e-02, 1.01281993e-01,\n",
       "        9.91872400e-02, 9.89735052e-02, 9.94870216e-02, 9.99157876e-02,\n",
       "        9.98076349e-02, 9.82851461e-02, 9.79578570e-02, 9.87698212e-02,\n",
       "        9.85988006e-02, 9.96707156e-02, 9.91323143e-02, 9.88591909e-02,\n",
       "        9.97360721e-02, 9.81770977e-02, 9.82126445e-02, 9.77537632e-02,\n",
       "        9.56799090e-02, 9.65288728e-02, 9.77456421e-02, 9.63695720e-02,\n",
       "        1.00033797e-01, 9.84502882e-02, 9.78901610e-02, 9.82287005e-02,\n",
       "        9.81019065e-02, 9.81498808e-02, 9.95585620e-02, 9.99662355e-02,\n",
       "        9.77369919e-02, 9.82591733e-02, 9.92023498e-02, 9.92448255e-02,\n",
       "        1.01572238e-01, 9.82001424e-02, 1.01700991e-01, 9.69952047e-02,\n",
       "        9.79143381e-02, 9.80062783e-02, 9.79613364e-02, 9.84886810e-02,\n",
       "        9.77784470e-02, 9.89794657e-02, 9.92090404e-02, 9.96564999e-02,\n",
       "        9.87401158e-02, 1.00339234e-01, 9.79122669e-02, 9.89651233e-02,\n",
       "        9.74337831e-02, 9.80609283e-02, 9.80275199e-02, 9.85977352e-02],\n",
       "       [2.22222224e-01, 0.00000000e+00, 2.22222224e-01, 1.00000000e+00,\n",
       "        5.55555582e-01, 6.66666687e-01, 0.00000000e+00, 3.33333343e-01,\n",
       "        0.00000000e+00, 4.44444448e-01, 2.00000003e-01, 8.88888896e-01,\n",
       "        1.11111112e-01, 0.00000000e+00, 2.22222224e-01, 4.44444448e-01,\n",
       "        1.11111112e-01, 0.00000000e+00, 1.00000000e+00, 1.11111112e-01,\n",
       "        1.11111112e-01, 0.00000000e+00, 0.00000000e+00, 2.22222224e-01,\n",
       "        2.22222224e-01, 0.00000000e+00, 1.00000000e+00, 0.00000000e+00,\n",
       "        0.00000000e+00, 8.33333313e-01, 2.22222224e-01, 1.11111112e-01,\n",
       "        0.00000000e+00, 0.00000000e+00, 1.00000000e+00, 5.00000000e-01,\n",
       "        0.00000000e+00, 1.11111112e-01, 3.33333343e-01, 6.66666687e-01,\n",
       "        8.33333358e-02, 1.11111112e-01, 0.00000000e+00, 1.11111112e-01,\n",
       "        2.22222224e-01, 0.00000000e+00, 3.33333343e-01, 0.00000000e+00,\n",
       "        5.55555582e-01, 1.00000000e+00, 5.55555582e-01, 5.00000000e-01,\n",
       "        0.00000000e+00, 7.77777791e-01, 5.83333313e-01, 0.00000000e+00,\n",
       "        0.00000000e+00, 3.33333343e-01, 7.77777791e-01, 3.33333343e-01,\n",
       "        8.88888896e-01, 3.33333343e-01, 3.33333343e-01, 0.00000000e+00,\n",
       "        0.00000000e+00, 8.88888896e-01, 7.77777791e-01, 1.00000000e+00,\n",
       "        5.55555582e-01, 3.33333343e-01, 0.00000000e+00, 0.00000000e+00,\n",
       "        6.66666687e-01, 0.00000000e+00, 6.66666687e-01, 0.00000000e+00,\n",
       "        4.44444448e-01, 0.00000000e+00, 5.00000000e-01, 0.00000000e+00,\n",
       "        0.00000000e+00, 0.00000000e+00, 0.00000000e+00, 1.11111112e-01,\n",
       "        0.00000000e+00, 0.00000000e+00, 6.66666687e-01, 1.00000000e+00,\n",
       "        0.00000000e+00, 1.11111112e-01, 3.33333343e-01, 0.00000000e+00,\n",
       "        0.00000000e+00, 1.66666672e-01, 8.88888896e-01, 0.00000000e+00,\n",
       "        1.11111112e-01, 8.88888896e-01, 0.00000000e+00, 0.00000000e+00,\n",
       "        0.00000000e+00, 1.00000000e+00, 1.00000000e+00, 2.22222224e-01,\n",
       "        0.00000000e+00, 1.11111112e-01, 1.00000000e+00, 0.00000000e+00,\n",
       "        0.00000000e+00, 1.66666672e-01, 7.77777791e-01, 1.00000000e+00,\n",
       "        0.00000000e+00, 0.00000000e+00, 1.11111112e-01, 6.66666687e-01,\n",
       "        1.11111112e-01, 0.00000000e+00, 0.00000000e+00, 6.66666687e-01,\n",
       "        5.55555582e-01, 0.00000000e+00, 0.00000000e+00, 0.00000000e+00,\n",
       "        0.00000000e+00, 3.33333343e-01, 1.11111112e-01, 2.22222224e-01,\n",
       "        1.00000000e+00, 8.88888896e-01, 0.00000000e+00, 0.00000000e+00,\n",
       "        2.22222224e-01, 8.88888896e-01, 0.00000000e+00, 3.33333343e-01,\n",
       "        8.88888896e-01, 0.00000000e+00, 0.00000000e+00, 0.00000000e+00,\n",
       "        0.00000000e+00, 0.00000000e+00, 8.88888896e-01, 3.33333343e-01,\n",
       "        0.00000000e+00, 0.00000000e+00, 5.55555582e-01, 4.44444448e-01,\n",
       "        1.00000000e+00, 0.00000000e+00, 4.44444448e-01, 2.22222224e-01,\n",
       "        0.00000000e+00, 1.11111112e-01, 0.00000000e+00, 6.66666687e-01,\n",
       "        0.00000000e+00, 0.00000000e+00, 8.88888896e-01, 1.00000000e+00,\n",
       "        1.11111112e-01, 9.52380955e-01, 2.22222224e-01, 1.00000000e+00,\n",
       "        0.00000000e+00, 2.22222224e-01, 0.00000000e+00, 5.55555582e-01]])"
      ]
     },
     "execution_count": 19,
     "metadata": {},
     "output_type": "execute_result"
    }
   ],
   "source": [
    "validArr[0]"
   ]
  },
  {
   "cell_type": "code",
   "execution_count": 20,
   "metadata": {},
   "outputs": [
    {
     "data": {
      "text/plain": [
       "Series([], Name: true, dtype: float64)"
      ]
     },
     "execution_count": 20,
     "metadata": {},
     "output_type": "execute_result"
    }
   ],
   "source": [
    "validDf.loc[validDf[\"iter\"] == 1400, \"true\"]"
   ]
  },
  {
   "cell_type": "code",
   "execution_count": 21,
   "metadata": {},
   "outputs": [
    {
     "name": "stdout",
     "output_type": "stream",
     "text": [
      "used: 0.530896516895043\n"
     ]
    }
   ],
   "source": [
    "#check memory \n",
    "t = torch.cuda.mem_get_info()\n",
    "\n",
    "used = torch.cuda.memory_allocated(device=\"cuda:4\")\n",
    "#proportion of free memory \n",
    "#print(\"used: \" used / t[1])\n",
    "print(\"used: \" + str(t[0]/t[1]))"
   ]
  }
 ],
 "metadata": {
  "kernelspec": {
   "display_name": "Python 3",
   "language": "python",
   "name": "python3"
  },
  "language_info": {
   "codemirror_mode": {
    "name": "ipython",
    "version": 3
   },
   "file_extension": ".py",
   "mimetype": "text/x-python",
   "name": "python",
   "nbconvert_exporter": "python",
   "pygments_lexer": "ipython3",
   "version": "3.8.5"
  }
 },
 "nbformat": 4,
 "nbformat_minor": 4
}
