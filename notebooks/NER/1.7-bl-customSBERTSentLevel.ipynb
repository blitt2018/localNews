{
 "cells": [
  {
   "cell_type": "code",
   "execution_count": 1,
   "metadata": {},
   "outputs": [
    {
     "name": "stderr",
     "output_type": "stream",
     "text": [
      "/opt/anaconda/lib/python3.8/site-packages/numpy/core/getlimits.py:499: UserWarning: The value of the smallest subnormal for <class 'numpy.float32'> type is zero.\n",
      "  setattr(self, word, getattr(machar, word).flat[0])\n",
      "/opt/anaconda/lib/python3.8/site-packages/numpy/core/getlimits.py:89: UserWarning: The value of the smallest subnormal for <class 'numpy.float32'> type is zero.\n",
      "  return self._float_to_str(self.smallest_subnormal)\n",
      "/opt/anaconda/lib/python3.8/site-packages/numpy/core/getlimits.py:499: UserWarning: The value of the smallest subnormal for <class 'numpy.float64'> type is zero.\n",
      "  setattr(self, word, getattr(machar, word).flat[0])\n",
      "/opt/anaconda/lib/python3.8/site-packages/numpy/core/getlimits.py:89: UserWarning: The value of the smallest subnormal for <class 'numpy.float64'> type is zero.\n",
      "  return self._float_to_str(self.smallest_subnormal)\n"
     ]
    }
   ],
   "source": [
    "from tqdm.auto import tqdm\n",
    "import torch \n",
    "from transformers import DistilBertModel\n",
    "from transformers import DistilBertTokenizer\n",
    "from transformers import PreTrainedTokenizer\n",
    "from sentence_transformers import SentenceTransformer, SentencesDataset, InputExample, losses\n",
    "from datasets import Dataset\n",
    "import pandas as pd\n",
    "from transformers.optimization import get_linear_schedule_with_warmup\n",
    "import matplotlib.pyplot as plt \n",
    "import numpy as np\n",
    "from sentence_transformers import SentenceTransformer\n",
    "from transformers import AutoTokenizer, AutoModel\n",
    "from torch.nn import CosineEmbeddingLoss\n",
    "import sklearn\n",
    "import spacy\n",
    "from torch import nn\n",
    "#Build up to SBERT model "
   ]
  },
  {
   "cell_type": "code",
   "execution_count": 2,
   "metadata": {},
   "outputs": [
    {
     "name": "stdout",
     "output_type": "stream",
     "text": [
      "torch.cuda.memory_allocated: 0.000000GB\n",
      "torch.cuda.memory_reserved: 0.000000GB\n",
      "torch.cuda.memory_free: 0.000000GB\n",
      "torch.cuda.max_memory_reserved: 0.000000GB\n"
     ]
    }
   ],
   "source": [
    "deviceNum = 0\n",
    "\n",
    "device = torch.device(\"cuda:\" + str(deviceNum) if torch.cuda.is_available() else \"cpu\")\n",
    "\n",
    "def check_mem():\n",
    "    torch.cuda.empty_cache()\n",
    "    a = torch.cuda.memory_allocated(deviceNum)/1024/1024/1024\n",
    "    r = torch.cuda.memory_reserved(deviceNum)/1024/1024/1024\n",
    "    print(\"torch.cuda.memory_allocated: %fGB\"%a)\n",
    "    print(\"torch.cuda.memory_reserved: %fGB\"%r)\n",
    "    print(\"torch.cuda.memory_free: %fGB\"%(r-a))\n",
    "    print(\"torch.cuda.max_memory_reserved: %fGB\"%(torch.cuda.max_memory_reserved(deviceNum)/1024/1024/1024))\n",
    "check_mem()\n",
    "\n",
    "\n",
    "torch.manual_seed(0)\n",
    "\n",
    "df = pd.read_csv(\"/shared/3/projects/benlitterer/localNews/NetworkMVP/enTrainData.csv\", sep=\"\\t\")\n",
    "df = df.loc[(df[\"url1_lang\"] == \"en\") & (df[\"url2_lang\"] == \"en\")]\n",
    "\n",
    "#put ground truth values into a list \n",
    "df[\"ground_truth\"] = df['Overall']\n",
    "\n",
    "#get only the columns we need \n",
    "#TODO: do we need \"pair_id\"? \n",
    "leanDf = df[[\"ground_truth\",  'text1', 'text2']].dropna()\n",
    "\n",
    "#rescale data from (0, 4): (0, 1)\n",
    "leanDf[\"ground_truth\"] = 1 - ((leanDf[\"ground_truth\"] - 1) / 3)"
   ]
  },
  {
   "cell_type": "code",
   "execution_count": 3,
   "metadata": {},
   "outputs": [
    {
     "data": {
      "text/plain": [
       "0       0.000000\n",
       "1       0.111111\n",
       "2       0.555556\n",
       "3       0.666667\n",
       "4       0.916667\n",
       "          ...   \n",
       "2871    0.333333\n",
       "2872    0.000000\n",
       "2873    1.000000\n",
       "2874    1.000000\n",
       "2875    1.000000\n",
       "Name: ground_truth, Length: 1676, dtype: float64"
      ]
     },
     "execution_count": 3,
     "metadata": {},
     "output_type": "execute_result"
    }
   ],
   "source": [
    "leanDf[\"ground_truth\"]"
   ]
  },
  {
   "cell_type": "code",
   "execution_count": 4,
   "metadata": {},
   "outputs": [],
   "source": [
    "class CustomSentListDataset(Dataset): \n",
    "    def __init__(self, inDf): \n",
    "        self.inDf = inDf \n",
    "        \n",
    "    def __len__(self): \n",
    "        return len(self.inDf)\n",
    "    \n",
    "    def __getitem__(self, idx):\n",
    "        return list(self.inDf.iloc[idx])"
   ]
  },
  {
   "cell_type": "code",
   "execution_count": 5,
   "metadata": {},
   "outputs": [
    {
     "data": {
      "application/vnd.jupyter.widget-view+json": {
       "model_id": "9b951963f2164adfb4a78608e9b2bf3b",
       "version_major": 2,
       "version_minor": 0
      },
      "text/plain": [
       "0it [00:00, ?it/s]"
      ]
     },
     "metadata": {},
     "output_type": "display_data"
    },
    {
     "data": {
      "application/vnd.jupyter.widget-view+json": {
       "model_id": "7688153cb64a49cab638126d978370ce",
       "version_major": 2,
       "version_minor": 0
      },
      "text/plain": [
       "0it [00:00, ?it/s]"
      ]
     },
     "metadata": {},
     "output_type": "display_data"
    },
    {
     "data": {
      "application/vnd.jupyter.widget-view+json": {
       "model_id": "6c67b7d466c34c949774788b12ca5692",
       "version_major": 2,
       "version_minor": 0
      },
      "text/plain": [
       "0it [00:00, ?it/s]"
      ]
     },
     "metadata": {},
     "output_type": "display_data"
    },
    {
     "data": {
      "application/vnd.jupyter.widget-view+json": {
       "model_id": "48e266abd97a42ef94af61347b932b0c",
       "version_major": 2,
       "version_minor": 0
      },
      "text/plain": [
       "0it [00:00, ?it/s]"
      ]
     },
     "metadata": {},
     "output_type": "display_data"
    }
   ],
   "source": [
    "#nlp = spacy.load(\"en_core_web_sm\", disable=[\"tok2vec\", \"tagger\", \"parser\", \"attribute_ruler\", \"lemmatizer\", \"ner\"])\n",
    "#nlp.enable_pipe(\"senter\")\n",
    "nlp = spacy.blank(\"en\")\n",
    "nlp.add_pipe(\"sentencizer\")\n",
    "\n",
    "def extractSents(inList): \n",
    "    separator = nlp.pipe(inList, n_process=8)\n",
    "    textList = []\n",
    "    for text in tqdm(separator): \n",
    "        sentList = [str(sent) for sent in text.sents if len(sent) > 3]\n",
    "        textList.append(sentList)\n",
    "    return textList\n",
    "\n",
    "#split data \n",
    "trainDf, validDf = sklearn.model_selection.train_test_split(leanDf, train_size=.9, test_size=.1)\n",
    "trainDf = trainDf.reset_index(drop=True)\n",
    "validDf = validDf.reset_index(drop=True)\n",
    "\n",
    "trainDf[\"text1\"] = extractSents(trainDf[\"text1\"])\n",
    "trainDf[\"text2\"] = extractSents(trainDf[\"text2\"])\n",
    "validDf[\"text1\"] = extractSents(validDf[\"text1\"])\n",
    "validDf[\"text2\"] = extractSents(validDf[\"text2\"])\n",
    "\n"
   ]
  },
  {
   "cell_type": "code",
   "execution_count": 6,
   "metadata": {},
   "outputs": [
    {
     "data": {
      "text/plain": [
       "0       [Claudius Moore, a seasoned technology executi...\n",
       "1       [Tom Brady Uses Protection Stones, And Other T...\n",
       "2       [CARE is an international NGO with local staff...\n",
       "3       [AVANESHNI Govender was one of Scottburgh High...\n",
       "4       [Success Nwogu, Abuja\\n\\nThe Peoples Democrati...\n",
       "                              ...                        \n",
       "1503    [Fort Lewis College is updating about a dozen ...\n",
       "1504    [Florida high school football star hit by trai...\n",
       "1505    [Woodlands program teaches proper recycling ha...\n",
       "1506    [Local digest\\n\\nPa. gaming revenue up more th...\n",
       "1507    [FILE PHOTO: Buildings are engulfed in fog in ...\n",
       "Name: text1, Length: 1508, dtype: object"
      ]
     },
     "execution_count": 6,
     "metadata": {},
     "output_type": "execute_result"
    }
   ],
   "source": [
    "trainDf[\"text1\"]"
   ]
  },
  {
   "cell_type": "code",
   "execution_count": 7,
   "metadata": {},
   "outputs": [],
   "source": [
    "sentCutoff = 60\n",
    " \n",
    "trainDf[\"text1\"] = trainDf[\"text1\"].apply(lambda x: x[:sentCutoff])\n",
    "trainDf[\"text2\"] = trainDf[\"text2\"].apply(lambda x: x[:sentCutoff])\n",
    "\n",
    "validDf[\"text1\"] = validDf[\"text1\"].apply(lambda x: x[:sentCutoff])\n",
    "validDf[\"text2\"] = validDf[\"text2\"].apply(lambda x: x[:sentCutoff])\n"
   ]
  },
  {
   "cell_type": "code",
   "execution_count": 8,
   "metadata": {},
   "outputs": [
    {
     "data": {
      "text/plain": [
       "(array([186., 321., 296., 192., 128.,  97.,  66.,  44.,  42., 136.]),\n",
       " array([ 1. ,  6.9, 12.8, 18.7, 24.6, 30.5, 36.4, 42.3, 48.2, 54.1, 60. ]),\n",
       " <a list of 10 Patch objects>)"
      ]
     },
     "execution_count": 8,
     "metadata": {},
     "output_type": "execute_result"
    },
    {
     "data": {
      "image/png": "[encoded data removed]",
      "text/plain": [
       "<Figure size 432x288 with 1 Axes>"
      ]
     },
     "metadata": {
      "needs_background": "light"
     },
     "output_type": "display_data"
    }
   ],
   "source": [
    "plt.hist(trainDf[\"text1\"].apply(len))"
   ]
  },
  {
   "cell_type": "code",
   "execution_count": 9,
   "metadata": {},
   "outputs": [],
   "source": [
    "tokenizer = AutoTokenizer.from_pretrained('sentence-transformers/all-mpnet-base-v2')\n",
    "\n",
    "def getLoader(inDf, batchSize): \n",
    "    inDf[\"text1\"] = inDf[\"text1\"].apply(lambda x: tokenizer.batch_encode_plus(x, max_length=150, padding=\"max_length\", truncation=True, return_tensors=\"pt\"))\n",
    "    inDf[\"text2\"] = inDf[\"text2\"].apply(lambda x: tokenizer.batch_encode_plus(x, max_length=150, padding=\"max_length\", truncation=True, return_tensors=\"pt\"))\n",
    "    \n",
    "    inDf[\"text1_input_ids\"] = inDf[\"text1\"].apply(lambda x: x[\"input_ids\"])\n",
    "    inDf[\"text2_input_ids\"] = inDf[\"text2\"].apply(lambda x: x[\"input_ids\"])\n",
    "    \n",
    "    inDf[\"text1_attention_mask\"] = inDf[\"text1\"].apply(lambda x: x[\"attention_mask\"])\n",
    "    inDf[\"text2_attention_mask\"] = inDf[\"text2\"].apply(lambda x: x[\"attention_mask\"])\n",
    "    \n",
    "    #inDf[\"ground_truth\"] = inDf[\"ground_truth\"].apply(lambda x: x))\n",
    "    \n",
    "    dataset = CustomSentListDataset(inDf[[\"ground_truth\", \"text1_input_ids\", \"text1_attention_mask\",\"text2_input_ids\", \"text2_attention_mask\"]])\n",
    "    \n",
    "    # convert dataset features to PyTorch tensors\n",
    "    #dataset.set_format(type='torch', columns=inDf.columns())\n",
    "    loader = torch.utils.data.DataLoader(dataset, batch_size=batchSize, shuffle=True)\n",
    "    return [dataset, loader]\n",
    "\n",
    "trainData, trainLoader = getLoader(trainDf, 1)\n",
    "validData, validLoader = getLoader(validDf, 1)\n"
   ]
  },
  {
   "cell_type": "code",
   "execution_count": 10,
   "metadata": {},
   "outputs": [
    {
     "name": "stdout",
     "output_type": "stream",
     "text": [
      "15.0\n",
      "20.405835543766578\n"
     ]
    },
    {
     "data": {
      "text/plain": [
       "605.0"
      ]
     },
     "execution_count": 10,
     "metadata": {},
     "output_type": "execute_result"
    },
    {
     "data": {
      "image/png": "[encoded data removed]",
      "text/plain": [
       "<Figure size 432x288 with 1 Axes>"
      ]
     },
     "metadata": {
      "needs_background": "light"
     },
     "output_type": "display_data"
    }
   ],
   "source": [
    "len1 = [len(item) for item in trainDf[\"text1_input_ids\"]]\n",
    "len2 = [len(item) for item in trainDf[\"text2_input_ids\"]]\n",
    "\n",
    "allLens = len1 + len2\n",
    "plt.hist(allLens, bins=100)\n",
    "plt.xlim([0, 200])\n",
    "print(np.median(allLens))\n",
    "print(np.mean(allLens))\n",
    "\n",
    "#look at the length of sentences multiplied together \n",
    "multLen = np.empty([len(len1), len(len2)])\n",
    "for i, a in enumerate(len1): \n",
    "    for j, b in enumerate(len2): \n",
    "        multLen[i, j] = a*b\n",
    "multLen = multLen.flatten()\n",
    "\n",
    "#90th quantile is 1148 \n",
    "np.quantile(multLen, .9)\n",
    "np.quantile(multLen, .8)\n",
    "#so go with 800? "
   ]
  },
  {
   "cell_type": "code",
   "execution_count": 11,
   "metadata": {},
   "outputs": [],
   "source": [
    "\n",
    "#Mean Pooling - Take attention mask into account for correct averaging\n",
    "def mean_pooling(token_embeddings, attention_mask):\n",
    "     #First element of model_output contains all token embeddings\n",
    "    #print(attention_mask.unsqueeze(-1).shape)\n",
    "    #print(token_embeddings.size())\n",
    "    input_mask_expanded = attention_mask.unsqueeze(-1).expand(token_embeddings.size()).float()\n",
    "    return torch.sum(token_embeddings * input_mask_expanded, 1) / torch.clamp(input_mask_expanded.sum(1), min=1e-9)"
   ]
  },
  {
   "cell_type": "code",
   "execution_count": 12,
   "metadata": {},
   "outputs": [],
   "source": [
    "class MyModel(nn.Module):\n",
    "    def __init__(self, flatCutoff):\n",
    "        super(MyModel,self).__init__()\n",
    "        self.model = AutoModel.from_pretrained('sentence-transformers/all-mpnet-base-v2')\n",
    "        self.cos = torch.nn.CosineSimilarity(dim=0, eps=1e-6)\n",
    "        self.flatCutoff = flatCutoff\n",
    "        self.ReLU = nn.ReLU()\n",
    "        self.l1 = nn.Linear(flatCutoff, 1000).to(device)\n",
    "        self.l2 = nn.Linear(1000, 500).to(device)\n",
    "        self.l3 = nn.Linear(500, 250).to(device)\n",
    "        self.l4 = nn.Linear(250, 1).to(device)\n",
    "        self.loss_func = torch.nn.MSELoss(reduction=\"mean\")\n",
    "        \n",
    "    def mean_pooling(self, token_embeddings, attention_mask): \n",
    "        input_mask_expanded = attention_mask.unsqueeze(-1).expand(token_embeddings.size()).float()\n",
    "        return torch.sum(token_embeddings * input_mask_expanded, 1) / torch.clamp(input_mask_expanded.sum(1), min=1e-9)\n",
    "\n",
    "    def forward(self, inputs_ids_a, attention_a, inputs_ids_b, attention_b, gt): \n",
    "        \n",
    "        u = self.model(inputs_ids_a, attention_mask=attention_a)[0]  # all token embeddings B\n",
    "        #try to clear up memory and keep only the sentence embeddings \n",
    "        del inputs_ids_a\n",
    "\n",
    "        sents_u = mean_pooling(u, attention_a)\n",
    "        del attention_a\n",
    "        del u \n",
    "        \n",
    "        v = self.model(inputs_ids_b, attention_mask=attention_b)[0]  # all token embeddings B\n",
    "        del inputs_ids_b\n",
    "\n",
    "        sents_v = self.mean_pooling(v, attention_b)\n",
    "        del attention_b\n",
    "        del v\n",
    "        \n",
    "        #get similarity matrix for sentences between the documents \n",
    "        sims = np.empty([sents_u.shape[0], sents_v.shape[0]])\n",
    "        for i, uSent in enumerate(sents_u): \n",
    "            for j, vSent in enumerate(sents_v):\n",
    "                sims[i, j] = self.cos(uSent, vSent)\n",
    "\n",
    "        #flatten down to one dimension \n",
    "        sims = sims.flatten()\n",
    "        \n",
    "        # we know that if we get the first 800 we will have between \n",
    "        # 80% and 90% of our possible sentence combinations fully included without cutting them off \n",
    "        sims_cut = torch.Tensor(sims[:self.flatCutoff]).to(device)\n",
    "\n",
    "        #pad on the right out to len of 800\n",
    "        sims_padded = torch.nn.functional.pad(sims_cut, [0, self.flatCutoff-sims_cut.shape[0]])\n",
    "\n",
    "        del sims_cut\n",
    "\n",
    "        #first attempt is a single linear layer\n",
    "        #maybe linear combination of output is sufficient? \n",
    "        #go from 4000 > 500 > 1\n",
    "        out = self.l1(sims_padded)\n",
    "        out = self.ReLU(out)\n",
    "        out = self.l2(out)\n",
    "        out = self.ReLU(out)\n",
    "        out = self.l3(out)\n",
    "        out = self.ReLU(out)\n",
    "        pred = self.l4(out)\n",
    "        \n",
    "        \n",
    "        #print(vPredSim)\n",
    "        loss = self.loss_func(pred, gt)\n",
    "        \n",
    "        return [loss, pred, gt] \n"
   ]
  },
  {
   "cell_type": "code",
   "execution_count": 13,
   "metadata": {},
   "outputs": [],
   "source": [
    "model = MyModel(4000).to(device)\n",
    "\n",
    "trainBatch = 1\n",
    "\n",
    "# we would initialize everything first\n",
    "optim = torch.optim.Adam(model.parameters(), lr=2e-5)\n",
    "\n",
    "# and setup a warmup for the first ~10% steps\n",
    "total_steps = int(len(trainData) / trainBatch)\n",
    "warmup_steps = int(0.1 * total_steps)\n",
    "scheduler = get_linear_schedule_with_warmup(optim, num_warmup_steps=warmup_steps, num_training_steps=total_steps - warmup_steps)"
   ]
  },
  {
   "cell_type": "code",
   "execution_count": 14,
   "metadata": {},
   "outputs": [],
   "source": [
    "def validation(): \n",
    "    model.eval()\n",
    "    lossList = []\n",
    "    preds = []\n",
    "    gts = []\n",
    "\n",
    "    for vBatch in validLoader: \n",
    "        # prepare batches and more all to the active device\n",
    "        inputs_ids_a = vBatch[1][0].to(device)\n",
    "        attention_a = vBatch[2][0].to(device)\n",
    "        inputs_ids_b = vBatch[3][0].to(device)\n",
    "        attention_b = vBatch[4][0].to(device)\n",
    "        gt = vBatch[0].float().to(device)\n",
    "        \n",
    "        #get outputs from model \n",
    "        loss, pred, gt = model(inputs_ids_a, attention_a, inputs_ids_b, attention_b, gt)\n",
    "        \n",
    "        #get predictions and ground truth to compute training metrics with \n",
    "        lossList.append(float(loss))\n",
    "        preds.append(float(pred))\n",
    "        gts.append(float(gt))\n",
    "        \n",
    "    #print(vGT)\n",
    "    return [lossList, preds, gts]\n",
    "        "
   ]
  },
  {
   "cell_type": "code",
   "execution_count": 15,
   "metadata": {},
   "outputs": [
    {
     "data": {
      "application/vnd.jupyter.widget-view+json": {
       "model_id": "e2001b3d673b4af4b850a47a80788ec0",
       "version_major": 2,
       "version_minor": 0
      },
      "text/plain": [
       "  0%|          | 0/1508 [00:00<?, ?it/s]"
      ]
     },
     "metadata": {},
     "output_type": "display_data"
    },
    {
     "data": {
      "application/vnd.jupyter.widget-view+json": {
       "model_id": "6c86663a9c0241058ef1e970eee00f00",
       "version_major": 2,
       "version_minor": 0
      },
      "text/plain": [
       "  0%|          | 0/1508 [00:00<?, ?it/s]"
      ]
     },
     "metadata": {},
     "output_type": "display_data"
    }
   ],
   "source": [
    "lossSmoothing = 20\n",
    "validationFreq = 200 \n",
    "\n",
    "#TODO: implement a cutoff on how many sentences of the article we can consider \n",
    "#TODO: put model in seperate class? How to make sure the params are updating \n",
    "trainDict = {}\n",
    "lossList = []\n",
    "subLossList = []\n",
    "validMetrics = []\n",
    "# increase from 1 epoch if need be \n",
    "for epoch in range(2):\n",
    "    \n",
    "    model.train()  # make sure model is in training mode\n",
    "    \n",
    "    # initialize the dataloader loop with tqdm (tqdm == progress bar)\n",
    "    loop = tqdm(trainLoader, leave=True)\n",
    "    \n",
    "    for i, batch in enumerate(loop): \n",
    "        # zero all gradients on each new step\n",
    "        optim.zero_grad()\n",
    "        \n",
    "        #in practice this doesn't seem to usually actually help but worth adding? \n",
    "        torch.cuda.empty_cache()\n",
    "\n",
    "        #get model inputs from batch \n",
    "        inputs_ids_a = batch[1][0].to(device)\n",
    "        attention_a = batch[2][0].to(device)\n",
    "        inputs_ids_b = batch[3][0].to(device)\n",
    "        attention_b = batch[4][0].to(device)\n",
    "        gt = batch[0].float().to(device)\n",
    "\n",
    "        #get outputs from model \n",
    "        loss, pred, gt = model(inputs_ids_a, attention_a, inputs_ids_b, attention_b, gt)\n",
    "        \n",
    "        subLossList.append(loss.item())\n",
    "        if i % lossSmoothing == 0: \n",
    "            lossList.append(np.median(subLossList))\n",
    "            subLossList = []\n",
    "        \n",
    "        #update weights \n",
    "        loss.backward()\n",
    "        \n",
    "        #validation if at correct step \n",
    "        if i % validationFreq == 0: \n",
    "            validMetrics.append(validation())\n",
    "            model.train()\n",
    "        \n",
    "        optim.step()\n",
    "        scheduler.step()"
   ]
  },
  {
   "cell_type": "code",
   "execution_count": 25,
   "metadata": {},
   "outputs": [
    {
     "data": {
      "text/plain": [
       "[<matplotlib.lines.Line2D at 0x7f37c589a9d0>]"
      ]
     },
     "execution_count": 25,
     "metadata": {},
     "output_type": "execute_result"
    },
    {
     "data": {
      "image/png": "[encoded data removed]",
      "text/plain": [
       "<Figure size 432x288 with 1 Axes>"
      ]
     },
     "metadata": {
      "needs_background": "light"
     },
     "output_type": "display_data"
    }
   ],
   "source": [
    "plt.plot(lossList)\n"
   ]
  },
  {
   "cell_type": "code",
   "execution_count": 30,
   "metadata": {},
   "outputs": [
    {
     "data": {
      "text/plain": [
       "Text(0.5, 1.0, 'Train Loss')"
      ]
     },
     "execution_count": 30,
     "metadata": {},
     "output_type": "execute_result"
    },
    {
     "data": {
      "image/png": "[encoded data removed]",
      "text/plain": [
       "<Figure size 432x288 with 1 Axes>"
      ]
     },
     "metadata": {
      "needs_background": "light"
     },
     "output_type": "display_data"
    }
   ],
   "source": [
    "lossIndex = [i * lossSmoothing for i in range(len(lossList))]\n",
    "plt.plot(lossIndex, lossList)\n",
    "plt.xlabel(\"Batch Num\")\n",
    "plt.ylabel(\"MSE Loss\")\n",
    "plt.title(\"Train Loss\")"
   ]
  },
  {
   "cell_type": "code",
   "execution_count": 18,
   "metadata": {},
   "outputs": [
    {
     "data": {
      "text/plain": [
       "(16, 3, 168)"
      ]
     },
     "execution_count": 18,
     "metadata": {},
     "output_type": "execute_result"
    }
   ],
   "source": [
    "np.array(validMetrics).shape"
   ]
  },
  {
   "cell_type": "code",
   "execution_count": 19,
   "metadata": {},
   "outputs": [],
   "source": [
    "validDf = pd.DataFrame({\"loss\":[], \"pred\":[], \"true\":[], \"iter\":[]})\n",
    "validArr = np.array(validMetrics)\n",
    "\n",
    "iterNum = 0\n",
    "corrList = []\n",
    "iterList = []\n",
    "for i in range(validArr.shape[0]): \n",
    "    subDf = pd.DataFrame(validArr[i].T)\n",
    "    subDf.columns = [\"loss\", \"pred\", \"true\"]\n",
    "    subDf[\"iter\"] = [iterNum for i in range(len(subDf))]\n",
    "    iterList.append(iterNum)\n",
    "    iterNum += validationFreq\n",
    "    validDf = pd.concat([validDf, subDf])\n",
    "    corr = np.corrcoef(subDf[\"pred\"], subDf[\"true\"])\n",
    "    corrList.append(corr[0, 1])"
   ]
  },
  {
   "cell_type": "code",
   "execution_count": 29,
   "metadata": {},
   "outputs": [
    {
     "data": {
      "text/plain": [
       "Text(0.5, 1.0, 'validation eval')"
      ]
     },
     "execution_count": 29,
     "metadata": {},
     "output_type": "execute_result"
    },
    {
     "data": {
      "image/png": "[encoded data removed]",
      "text/plain": [
       "<Figure size 432x288 with 1 Axes>"
      ]
     },
     "metadata": {
      "needs_background": "light"
     },
     "output_type": "display_data"
    }
   ],
   "source": [
    "plt.plot(iterList, corrList)\n",
    "plt.xlabel(\"batch num\")\n",
    "plt.ylabel(\"pearson correlation\")\n",
    "plt.title(\"validation eval\")"
   ]
  },
  {
   "cell_type": "code",
   "execution_count": 21,
   "metadata": {},
   "outputs": [
    {
     "name": "stdout",
     "output_type": "stream",
     "text": [
      "[[1.         0.51918491]\n",
      " [0.51918491 1.        ]]\n",
      "[[1.         0.55125271]\n",
      " [0.55125271 1.        ]]\n",
      "[[1.         0.70083832]\n",
      " [0.70083832 1.        ]]\n",
      "[[1.       0.758979]\n",
      " [0.758979 1.      ]]\n",
      "[[1.         0.79723878]\n",
      " [0.79723878 1.        ]]\n",
      "[[1.        0.7962994]\n",
      " [0.7962994 1.       ]]\n",
      "[[1.         0.79841897]\n",
      " [0.79841897 1.        ]]\n",
      "[[1.         0.79918031]\n",
      " [0.79918031 1.        ]]\n",
      "[[1.         0.79918031]\n",
      " [0.79918031 1.        ]]\n",
      "[[1.         0.79918031]\n",
      " [0.79918031 1.        ]]\n",
      "[[1.         0.79918031]\n",
      " [0.79918031 1.        ]]\n",
      "[[1.         0.79918031]\n",
      " [0.79918031 1.        ]]\n",
      "[[1.         0.79918031]\n",
      " [0.79918031 1.        ]]\n",
      "[[1.         0.79918031]\n",
      " [0.79918031 1.        ]]\n",
      "[[1.         0.79918031]\n",
      " [0.79918031 1.        ]]\n",
      "[[1.         0.79918031]\n",
      " [0.79918031 1.        ]]\n"
     ]
    },
    {
     "data": {
      "text/plain": [
       "<matplotlib.collections.PathCollection at 0x7f37c5d65a30>"
      ]
     },
     "execution_count": 21,
     "metadata": {},
     "output_type": "execute_result"
    },
    {
     "data": {
      "image/png": "[encoded data removed]",
      "text/plain": [
       "<Figure size 432x288 with 1 Axes>"
      ]
     },
     "metadata": {
      "needs_background": "light"
     },
     "output_type": "display_data"
    }
   ],
   "source": [
    "\n",
    "#print(validArr.shape)\n",
    "\n",
    "test = validArr[1,:,:]\n",
    "#np.corrcoef(test[1], test[2])\n",
    "\n",
    "#go through each validation step\n",
    "for i in range(validArr.shape[0]): \n",
    "    subDf = pd.DataFrame(validArr[i].T)\n",
    "    subDf.columns = [\"loss\", \"pred\", \"true\"]\n",
    "    corr = np.corrcoef(subDf[\"pred\"], subDf[\"true\"])\n",
    "    print(corr)\n",
    "    \n",
    "plt.scatter(subDf[\"true\"], subDf[\"pred\"], alpha=.2)"
   ]
  },
  {
   "cell_type": "code",
   "execution_count": 22,
   "metadata": {},
   "outputs": [
    {
     "data": {
      "text/plain": [
       "array([[2.26821029e-03, 1.46730542e-01, 2.22614082e-03, 2.31914385e-03,\n",
       "        2.31204717e-03, 2.84160189e-02, 7.83412978e-02, 9.01614130e-01,\n",
       "        9.00020957e-01, 2.41207960e-03, 1.42143741e-02, 2.26807152e-03,\n",
       "        2.57409066e-01, 3.86708835e-03, 2.39863154e-03, 8.94130468e-01,\n",
       "        3.57753336e-01, 1.50629103e-01, 2.35541747e-03, 2.46683531e-03,\n",
       "        2.28174636e-03, 7.57760927e-02, 1.41677186e-02, 7.94852823e-02,\n",
       "        3.89244780e-03, 2.27030250e-03, 3.83607810e-03, 2.33435188e-03,\n",
       "        8.98125410e-01, 2.27632280e-03, 2.49437545e-03, 3.70841682e-01,\n",
       "        7.02659845e-01, 3.70886832e-01, 1.40420999e-02, 8.13457742e-02,\n",
       "        2.28633033e-03, 3.80429387e-01, 3.51480744e-03, 7.89421052e-02,\n",
       "        3.75976227e-03, 8.95035625e-01, 2.81959057e-01, 2.25289445e-03,\n",
       "        7.25628734e-02, 9.01085258e-01, 2.31977622e-03, 1.99628502e-01,\n",
       "        1.57260820e-01, 1.20306842e-03, 8.92878890e-01, 5.29383600e-01,\n",
       "        7.71000311e-02, 2.56620371e-03, 3.71390551e-01, 1.50785342e-01,\n",
       "        2.29620282e-03, 1.56169713e-01, 8.91467929e-01, 2.48510437e-03,\n",
       "        3.05089559e-02, 8.96877229e-01, 2.29018088e-03, 5.28113842e-01,\n",
       "        3.01629752e-02, 2.24748813e-03, 3.82367522e-01, 2.38922331e-03,\n",
       "        2.26899097e-03, 8.08213204e-02, 2.31171772e-03, 3.75279903e-01,\n",
       "        2.98293103e-02, 1.50703073e-01, 3.79340257e-03, 2.53717066e-03,\n",
       "        2.30346969e-03, 3.87515104e-03, 2.26146053e-03, 8.98412049e-01,\n",
       "        8.97587240e-01, 3.91520048e-03, 2.95798201e-02, 2.29970971e-03,\n",
       "        2.51172721e-01, 2.27441918e-03, 6.07868969e-01, 5.99610806e-01,\n",
       "        8.92905712e-01, 1.33194290e-02, 3.81874681e-01, 2.31649238e-03,\n",
       "        2.37878319e-03, 2.99836937e-02, 1.57250792e-01, 3.30343697e-04,\n",
       "        7.02683389e-01, 2.35530594e-03, 2.28867703e-03, 3.74085903e-01,\n",
       "        2.30824202e-03, 3.95026291e-03, 3.81369114e-01, 2.25832569e-03,\n",
       "        2.57624942e-03, 2.31361878e-03, 6.98599577e-01, 9.00313318e-01,\n",
       "        2.26513273e-03, 2.31388677e-03, 6.09883547e-01, 5.21837831e-01,\n",
       "        8.99248004e-01, 2.52070278e-01, 8.96104991e-01, 3.73800069e-01,\n",
       "        5.21087587e-01, 2.28616735e-03, 8.99988711e-01, 1.55847356e-01,\n",
       "        5.30462682e-01, 1.48247421e-01, 7.73195252e-02, 3.98464315e-03,\n",
       "        8.17165896e-02, 6.89945936e-01, 2.33975775e-03, 2.31147907e-03,\n",
       "        3.80175980e-03, 3.05017680e-02, 8.96526515e-01, 2.25054519e-03,\n",
       "        2.51719624e-01, 2.39106943e-03, 3.77767026e-01, 8.04785490e-02,\n",
       "        2.31652940e-03, 7.01271236e-01, 1.55645400e-01, 5.32549918e-01,\n",
       "        4.08298848e-03, 3.01005337e-02, 9.04678047e-01, 8.98258567e-01,\n",
       "        2.83222571e-02, 7.01583028e-01, 1.54153123e-01, 2.88023986e-02,\n",
       "        3.03576067e-02, 2.26799282e-03, 2.29182886e-03, 7.01196194e-01,\n",
       "        2.17667082e-03, 9.02139425e-01, 3.69112194e-03, 3.73655418e-03,\n",
       "        9.00401354e-01, 2.41978467e-03, 9.01295662e-01, 2.96862256e-02,\n",
       "        4.02460480e-03, 2.26292876e-03, 1.53138548e-01, 2.26686173e-03,\n",
       "        9.02130723e-01, 8.04929063e-02, 2.28299503e-03, 8.20153803e-02],\n",
       "       [4.76257317e-02, 6.13902286e-02, 4.71819974e-02, 4.81574908e-02,\n",
       "        4.80837524e-02, 5.36517017e-02, 5.34381755e-02, 5.04663736e-02,\n",
       "        5.13056666e-02, 4.91129272e-02, 4.74426225e-02, 4.76242751e-02,\n",
       "        4.82006297e-02, 4.89251949e-02, 4.89758253e-02, 5.44152707e-02,\n",
       "        6.85418546e-02, 5.63348047e-02, 4.85326424e-02, 4.96672466e-02,\n",
       "        4.77676280e-02, 5.80587834e-02, 4.76384461e-02, 5.14020100e-02,\n",
       "        4.87216264e-02, 4.76476923e-02, 4.91750315e-02, 4.83151302e-02,\n",
       "        5.23052365e-02, 4.77108248e-02, 4.99437228e-02, 5.76989911e-02,\n",
       "        5.06408028e-02, 5.76618686e-02, 4.81673069e-02, 4.81215306e-02,\n",
       "        4.78155874e-02, 4.98771295e-02, 5.18252999e-02, 5.23669645e-02,\n",
       "        4.97942120e-02, 5.39367832e-02, 5.23351468e-02, 4.74646650e-02,\n",
       "        6.39583617e-02, 5.07448763e-02, 4.81640548e-02, 5.32019474e-02,\n",
       "        4.78832051e-02, 4.86480594e-02, 5.50773069e-02, 5.01902513e-02,\n",
       "        5.56644164e-02, 5.06577119e-02, 5.72484843e-02, 5.61335683e-02,\n",
       "        4.79187109e-02, 4.92612980e-02, 5.58242127e-02, 4.98508215e-02,\n",
       "        4.75540869e-02, 5.29639870e-02, 4.78558354e-02, 5.10633625e-02,\n",
       "        4.85473052e-02, 4.74076793e-02, 4.83079441e-02, 4.88796830e-02,\n",
       "        4.76339273e-02, 4.90424447e-02, 4.80803251e-02, 5.40657714e-02,\n",
       "        4.95105870e-02, 5.62395044e-02, 4.95205075e-02, 5.03703356e-02,\n",
       "        4.79944758e-02, 4.88604009e-02, 4.75548171e-02, 5.21540083e-02,\n",
       "        5.25891520e-02, 4.85395491e-02, 5.02343737e-02, 4.79552895e-02,\n",
       "        5.43842427e-02, 4.76908721e-02, 5.36737926e-02, 5.89879453e-02,\n",
       "        5.50631322e-02, 5.12568429e-02, 4.87066060e-02, 4.81299534e-02,\n",
       "        4.87727709e-02, 4.90642227e-02, 4.78958525e-02, 4.84913103e-02,\n",
       "        5.06267399e-02, 4.85314950e-02, 4.78401184e-02, 5.50410561e-02,\n",
       "        4.80441675e-02, 4.82599959e-02, 4.91157994e-02, 4.75218445e-02,\n",
       "        5.07567674e-02, 4.81000915e-02, 5.30661643e-02, 5.11515960e-02,\n",
       "        4.75934111e-02, 4.81028780e-02, 5.23828752e-02, 5.53943440e-02,\n",
       "        5.17130829e-02, 5.34895360e-02, 5.33717833e-02, 5.52747808e-02,\n",
       "        5.59138171e-02, 4.78138812e-02, 5.13226613e-02, 4.96693850e-02,\n",
       "        4.94490638e-02, 5.94153292e-02, 5.52694499e-02, 4.79870848e-02,\n",
       "        4.74722236e-02, 5.82590997e-02, 4.83710431e-02, 4.80778441e-02,\n",
       "        4.94526997e-02, 4.75746691e-02, 5.31491861e-02, 4.74399105e-02,\n",
       "        5.38389310e-02, 4.88985628e-02, 5.20391464e-02, 4.96459417e-02,\n",
       "        4.81303371e-02, 5.14694750e-02, 4.99252416e-02, 4.80176359e-02,\n",
       "        4.72128503e-02, 4.87271696e-02, 4.88543287e-02, 5.22349589e-02,\n",
       "        5.39300442e-02, 5.12833335e-02, 5.18210456e-02, 5.25095351e-02,\n",
       "        4.79878820e-02, 4.76234481e-02, 4.78730500e-02, 5.15143313e-02,\n",
       "        4.66548055e-02, 5.01898155e-02, 5.03565073e-02, 4.99837510e-02,\n",
       "        5.11052273e-02, 4.91913073e-02, 5.06340973e-02, 4.99253124e-02,\n",
       "        4.76713367e-02, 4.75702509e-02, 5.31152599e-02, 4.76115718e-02,\n",
       "        5.01943566e-02, 4.96206209e-02, 4.77806963e-02, 4.69500758e-02],\n",
       "       [0.00000000e+00, 4.44444448e-01, 0.00000000e+00, 0.00000000e+00,\n",
       "        0.00000000e+00, 2.22222224e-01, 3.33333343e-01, 1.00000000e+00,\n",
       "        1.00000000e+00, 0.00000000e+00, 1.66666672e-01, 0.00000000e+00,\n",
       "        5.55555582e-01, 1.11111112e-01, 0.00000000e+00, 1.00000000e+00,\n",
       "        6.66666687e-01, 4.44444448e-01, 0.00000000e+00, 0.00000000e+00,\n",
       "        0.00000000e+00, 3.33333343e-01, 1.66666672e-01, 3.33333343e-01,\n",
       "        1.11111112e-01, 0.00000000e+00, 1.11111112e-01, 0.00000000e+00,\n",
       "        1.00000000e+00, 0.00000000e+00, 0.00000000e+00, 6.66666687e-01,\n",
       "        8.88888896e-01, 6.66666687e-01, 1.66666672e-01, 3.33333343e-01,\n",
       "        0.00000000e+00, 6.66666687e-01, 1.11111112e-01, 3.33333343e-01,\n",
       "        1.11111112e-01, 1.00000000e+00, 5.83333313e-01, 0.00000000e+00,\n",
       "        3.33333343e-01, 1.00000000e+00, 0.00000000e+00, 5.00000000e-01,\n",
       "        4.44444448e-01, 8.33333358e-02, 1.00000000e+00, 7.77777791e-01,\n",
       "        3.33333343e-01, 0.00000000e+00, 6.66666687e-01, 4.44444448e-01,\n",
       "        0.00000000e+00, 4.44444448e-01, 1.00000000e+00, 0.00000000e+00,\n",
       "        2.22222224e-01, 1.00000000e+00, 0.00000000e+00, 7.77777791e-01,\n",
       "        2.22222224e-01, 0.00000000e+00, 6.66666687e-01, 0.00000000e+00,\n",
       "        0.00000000e+00, 3.33333343e-01, 0.00000000e+00, 6.66666687e-01,\n",
       "        2.22222224e-01, 4.44444448e-01, 1.11111112e-01, 0.00000000e+00,\n",
       "        0.00000000e+00, 1.11111112e-01, 0.00000000e+00, 1.00000000e+00,\n",
       "        1.00000000e+00, 1.11111112e-01, 2.22222224e-01, 0.00000000e+00,\n",
       "        5.55555582e-01, 0.00000000e+00, 8.33333313e-01, 8.33333313e-01,\n",
       "        1.00000000e+00, 1.66666672e-01, 6.66666687e-01, 0.00000000e+00,\n",
       "        0.00000000e+00, 2.22222224e-01, 4.44444448e-01, 6.66666701e-02,\n",
       "        8.88888896e-01, 0.00000000e+00, 0.00000000e+00, 6.66666687e-01,\n",
       "        0.00000000e+00, 1.11111112e-01, 6.66666687e-01, 0.00000000e+00,\n",
       "        0.00000000e+00, 0.00000000e+00, 8.88888896e-01, 1.00000000e+00,\n",
       "        0.00000000e+00, 0.00000000e+00, 8.33333313e-01, 7.77777791e-01,\n",
       "        1.00000000e+00, 5.55555582e-01, 1.00000000e+00, 6.66666687e-01,\n",
       "        7.77777791e-01, 0.00000000e+00, 1.00000000e+00, 4.44444448e-01,\n",
       "        7.77777791e-01, 4.44444448e-01, 3.33333343e-01, 1.11111112e-01,\n",
       "        3.33333343e-01, 8.88888896e-01, 0.00000000e+00, 0.00000000e+00,\n",
       "        1.11111112e-01, 2.22222224e-01, 1.00000000e+00, 0.00000000e+00,\n",
       "        5.55555582e-01, 0.00000000e+00, 6.66666687e-01, 3.33333343e-01,\n",
       "        0.00000000e+00, 8.88888896e-01, 4.44444448e-01, 7.77777791e-01,\n",
       "        1.11111112e-01, 2.22222224e-01, 1.00000000e+00, 1.00000000e+00,\n",
       "        2.22222224e-01, 8.88888896e-01, 4.44444448e-01, 2.22222224e-01,\n",
       "        2.22222224e-01, 0.00000000e+00, 0.00000000e+00, 8.88888896e-01,\n",
       "        0.00000000e+00, 1.00000000e+00, 1.11111112e-01, 1.11111112e-01,\n",
       "        1.00000000e+00, 0.00000000e+00, 1.00000000e+00, 2.22222224e-01,\n",
       "        1.11111112e-01, 0.00000000e+00, 4.44444448e-01, 0.00000000e+00,\n",
       "        1.00000000e+00, 3.33333343e-01, 0.00000000e+00, 3.33333343e-01]])"
      ]
     },
     "execution_count": 22,
     "metadata": {},
     "output_type": "execute_result"
    }
   ],
   "source": [
    "validArr[0]"
   ]
  },
  {
   "cell_type": "code",
   "execution_count": 23,
   "metadata": {},
   "outputs": [
    {
     "data": {
      "text/plain": [
       "0      0.111111\n",
       "1      0.111111\n",
       "2      0.000000\n",
       "3      0.000000\n",
       "4      1.000000\n",
       "         ...   \n",
       "163    0.000000\n",
       "164    0.555556\n",
       "165    0.888889\n",
       "166    1.000000\n",
       "167    0.000000\n",
       "Name: true, Length: 168, dtype: float64"
      ]
     },
     "execution_count": 23,
     "metadata": {},
     "output_type": "execute_result"
    }
   ],
   "source": [
    "validDf.loc[validDf[\"iter\"] == 1400, \"true\"]"
   ]
  },
  {
   "cell_type": "code",
   "execution_count": 24,
   "metadata": {},
   "outputs": [
    {
     "name": "stdout",
     "output_type": "stream",
     "text": [
      "used: 0.6814136489891832\n"
     ]
    }
   ],
   "source": [
    "#check memory \n",
    "t = torch.cuda.mem_get_info()\n",
    "\n",
    "used = torch.cuda.memory_allocated(device=\"cuda:4\")\n",
    "#proportion of free memory \n",
    "#print(\"used: \" used / t[1])\n",
    "print(\"used: \" + str(t[0]/t[1]))"
   ]
  }
 ],
 "metadata": {
  "kernelspec": {
   "display_name": "Python 3",
   "language": "python",
   "name": "python3"
  },
  "language_info": {
   "codemirror_mode": {
    "name": "ipython",
    "version": 3
   },
   "file_extension": ".py",
   "mimetype": "text/x-python",
   "name": "python",
   "nbconvert_exporter": "python",
   "pygments_lexer": "ipython3",
   "version": "3.8.5"
  }
 },
 "nbformat": 4,
 "nbformat_minor": 4
}
