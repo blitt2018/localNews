{
 "cells": [
  {
   "cell_type": "code",
   "execution_count": 1,
   "metadata": {},
   "outputs": [],
   "source": [
    "from tqdm.auto import tqdm\n",
    "import torch \n",
    "from torch import nn\n",
    "from transformers import RobertaTokenizer, PreTrainedTokenizer, DistilBertTokenizer, DistilBertModel, RobertaModel\n",
    "from sentence_transformers import SentenceTransformer, SentencesDataset, InputExample, losses\n",
    "from datasets import Dataset\n",
    "import pandas as pd\n",
    "from transformers.optimization import get_linear_schedule_with_warmup\n",
    "import matplotlib.pyplot as plt \n",
    "import numpy as np\n",
    "from sentence_transformers import SentenceTransformer\n",
    "from transformers import AutoTokenizer, AutoModel\n",
    "from torch.nn import CosineEmbeddingLoss\n",
    "import transformers\n",
    "#Build up to SBERT model "
   ]
  },
  {
   "cell_type": "code",
   "execution_count": 2,
   "metadata": {},
   "outputs": [],
   "source": [
    "deviceNum = 2\n",
    "device = torch.device(\"cuda:\" + str(deviceNum) if torch.cuda.is_available() else \"cpu\")\n"
   ]
  },
  {
   "cell_type": "code",
   "execution_count": 3,
   "metadata": {},
   "outputs": [
    {
     "name": "stdout",
     "output_type": "stream",
     "text": [
      "torch.cuda.memory_allocated: 0.000000GB\n",
      "torch.cuda.memory_reserved: 0.000000GB\n",
      "torch.cuda.memory_free: 0.000000GB\n",
      "torch.cuda.max_memory_reserved: 0.000000GB\n"
     ]
    }
   ],
   "source": [
    "def check_mem():\n",
    "    torch.cuda.empty_cache()\n",
    "    a = torch.cuda.memory_allocated(deviceNum)/1024/1024/1024\n",
    "    r = torch.cuda.memory_reserved(deviceNum)/1024/1024/1024\n",
    "    print(\"torch.cuda.memory_allocated: %fGB\"%a)\n",
    "    print(\"torch.cuda.memory_reserved: %fGB\"%r)\n",
    "    print(\"torch.cuda.memory_free: %fGB\"%(r-a))\n",
    "    print(\"torch.cuda.max_memory_reserved: %fGB\"%(torch.cuda.max_memory_reserved(deviceNum)/1024/1024/1024))\n",
    "check_mem()"
   ]
  },
  {
   "cell_type": "code",
   "execution_count": 4,
   "metadata": {},
   "outputs": [],
   "source": [
    "df = pd.read_csv(\"/shared/3/projects/benlitterer/localNews/NetworkMVP/enTrainData.csv\", sep=\"\\t\")\n",
    "df = df.loc[(df[\"url1_lang\"] == \"en\") & (df[\"url2_lang\"] == \"en\")]\n",
    "\n",
    "#put ground truth values into a list \n",
    "df[\"ground_truth\"] = df['Overall']\n",
    "\n",
    "#get only the columns we need \n",
    "#TODO: do we need \"pair_id\"? \n",
    "leanDf = df[[\"ground_truth\",  'text1', 'text2']].dropna()\n",
    "\n",
    "#rescale data from (0, 4): (0, 1)\n",
    "leanDf[\"ground_truth\"] = 1 - ((leanDf[\"ground_truth\"] - 1) / 3)\n"
   ]
  },
  {
   "cell_type": "code",
   "execution_count": 5,
   "metadata": {},
   "outputs": [],
   "source": [
    "#get data loaded in properly \n",
    "dataset = Dataset.from_pandas(leanDf)"
   ]
  },
  {
   "cell_type": "code",
   "execution_count": 6,
   "metadata": {},
   "outputs": [],
   "source": [
    "#link: https://huggingface.co/sentence-transformers/all-mpnet-base-v2\n",
    "#example of tokenizing \n",
    "#tokenizer = AutoTokenizer.from_pretrained('sentence-transformers/all-mpnet-base-v2')\n",
    "#tokenizer = AutoTokenizer.from_pretrained('Giyaseddin/distilbert-base-cased-finetuned-fake-and-real-news-dataset')\n",
    "tokenizer = RobertaTokenizer.from_pretrained('roberta-base')\n",
    "example = dataset[0][\"text1\"]\n",
    "first = tokenizer(example)"
   ]
  },
  {
   "cell_type": "markdown",
   "metadata": {},
   "source": [
    "Just Sanity checking the special tokens"
   ]
  },
  {
   "cell_type": "code",
   "execution_count": 7,
   "metadata": {},
   "outputs": [
    {
     "name": "stderr",
     "output_type": "stream",
     "text": [
      "Token indices sequence length is longer than the specified maximum sequence length for this model (667 > 512). Running this sequence through the model will result in indexing errors\n"
     ]
    },
    {
     "data": {
      "text/plain": [
       "'<s>MARTINSBURG, W.Va'"
      ]
     },
     "execution_count": 7,
     "metadata": {},
     "output_type": "execute_result"
    }
   ],
   "source": [
    "encoded = tokenizer(dataset[0][\"text1\"], dataset[0][\"text2\"])\n",
    "tokenizer.decode(encoded[\"input_ids\"])[:20]"
   ]
  },
  {
   "cell_type": "code",
   "execution_count": 8,
   "metadata": {},
   "outputs": [
    {
     "data": {
      "text/plain": [
       "'<s>Uber has sold its'"
      ]
     },
     "execution_count": 8,
     "metadata": {},
     "output_type": "execute_result"
    }
   ],
   "source": [
    "encoded = tokenizer(dataset[3][\"text1\"], dataset[3][\"text2\"])\n",
    "tokenizer.decode(encoded[\"input_ids\"])[:20]"
   ]
  },
  {
   "cell_type": "markdown",
   "metadata": {},
   "source": [
    "making sure that only_first works as expected"
   ]
  },
  {
   "cell_type": "code",
   "execution_count": 9,
   "metadata": {},
   "outputs": [
    {
     "name": "stderr",
     "output_type": "stream",
     "text": [
      "Be aware, overflowing tokens are not returned for the setting you have chosen, i.e. sequence pairs with the 'longest_first' truncation strategy. So the returned list will always be empty even if some tokens have been removed.\n"
     ]
    },
    {
     "data": {
      "text/plain": [
       "{'input_ids': [0, 42891, 232, 42, 2, 2, 23075, 6, 8, 2], 'attention_mask': [1, 1, 1, 1, 1, 1, 1, 1, 1, 1]}"
      ]
     },
     "execution_count": 9,
     "metadata": {},
     "output_type": "execute_result"
    }
   ],
   "source": [
    "first = \"hello world this is the first part\" \n",
    "second = \"OPE, and I think this will be the second\"\n",
    "encoded = tokenizer(first, second, truncation=\"longest_first\",  max_length=10)\n",
    "encoded"
   ]
  },
  {
   "cell_type": "code",
   "execution_count": 10,
   "metadata": {},
   "outputs": [
    {
     "data": {
      "application/vnd.jupyter.widget-view+json": {
       "model_id": "b091434901454363bf93819d7334f775",
       "version_major": 2,
       "version_minor": 0
      },
      "text/plain": [
       "  0%|          | 0/1676 [00:00<?, ?ex/s]"
      ]
     },
     "metadata": {},
     "output_type": "display_data"
    }
   ],
   "source": [
    "from transformers.utils import logging\n",
    "logging.set_verbosity_error()\n",
    "dataset = dataset.map(lambda x: tokenizer(x[\"text1\"], x[\"text2\"], max_length=500, padding=\"max_length\", truncation=True))"
   ]
  },
  {
   "cell_type": "code",
   "execution_count": 11,
   "metadata": {},
   "outputs": [],
   "source": [
    "dataset = dataset.remove_columns([\"text1\", \"text2\", \"__index_level_0__\"])"
   ]
  },
  {
   "cell_type": "code",
   "execution_count": 12,
   "metadata": {},
   "outputs": [],
   "source": [
    "# convert dataset features to PyTorch tensors\n",
    "dataset.set_format(type='torch', columns=[\"ground_truth\", \"input_ids\", \"attention_mask\"])"
   ]
  },
  {
   "cell_type": "code",
   "execution_count": 13,
   "metadata": {},
   "outputs": [
    {
     "name": "stdout",
     "output_type": "stream",
     "text": [
      "total rows: 1676\n",
      "train rows: 1509\n",
      "validation rows: 167\n",
      "sum: 1676\n"
     ]
    }
   ],
   "source": [
    "length = len(dataset)\n",
    "print(\"total rows: \" + str(length))\n",
    "trainProp = .9 \n",
    "\n",
    "validLen = int(length * (1-trainProp))\n",
    "trainLen = length - validLen\n",
    "print(\"train rows: \" + str(trainLen) + \"\\nvalidation rows: \" + str(validLen) + \"\\nsum: \" + str(trainLen + validLen))\n",
    "\n",
    "train, valid = torch.utils.data.random_split(dataset, [trainLen, validLen])"
   ]
  },
  {
   "cell_type": "code",
   "execution_count": 14,
   "metadata": {},
   "outputs": [],
   "source": [
    "# initialize the dataloader\n",
    "batch_size = 3\n",
    "trainLoader = torch.utils.data.DataLoader(\n",
    "    train, batch_size=batch_size, shuffle=True\n",
    ")\n",
    "validLoader = torch.utils.data.DataLoader(\n",
    "    valid, batch_size=1, shuffle=True\n",
    ")"
   ]
  },
  {
   "cell_type": "code",
   "execution_count": 15,
   "metadata": {},
   "outputs": [],
   "source": [
    "#Mean Pooling - Take attention mask into account for correct averaging\n",
    "def mean_pooling(token_embeddings, attention_mask):\n",
    "     #First element of model_output contains all token embeddings\n",
    "    #print(attention_mask.unsqueeze(-1).shape)\n",
    "    #print(token_embeddings.size())\n",
    "    input_mask_expanded = attention_mask.unsqueeze(-1).expand(token_embeddings.size()).float()\n",
    "    return torch.sum(token_embeddings * input_mask_expanded, 1) / torch.clamp(input_mask_expanded.sum(1), min=1e-9)\n"
   ]
  },
  {
   "cell_type": "code",
   "execution_count": null,
   "metadata": {},
   "outputs": [],
   "source": [
    "class RDropModel(nn.Module): \n",
    "    def __init__(self):\n",
    "        super(RDropModel,self).__init__()\n",
    "        self.model = RobertaModel.from_pretrained('roberta-base')\n",
    "        self.ReLU = nn.ReLU()\n",
    "        self.dropout = nn.Dropout(.25)\n",
    "        self.l1 = nn.Linear(768, 1).to(device)\n",
    "        #self.l2 = nn.Linear(768, 1).to(device)\n",
    "        self.loss_func = torch.nn.MSELoss(reduction=\"mean\")\n",
    "        \n",
    "    def mean_pooling(self, token_embeddings, attention_mask): \n",
    "        input_mask_expanded = attention_mask.unsqueeze(-1).expand(token_embeddings.size()).float()\n",
    "        return torch.sum(token_embeddings * input_mask_expanded, 1) / torch.clamp(input_mask_expanded.sum(1), min=1e-9)\n",
    "\n",
    "    def forward(self, input_ids, attention_mask, gt): \n",
    "        \n",
    "        #encode sentence and get mean pooled sentence representation \n",
    "        encoding = self.model(input_ids, attention_mask=attention_mask)[0]  #all token embeddings\n",
    "        meanPooled = self.mean_pooling(encoding, attention_mask)\n",
    "       \n",
    "        #NOTE: Since dropout is random we simply send data through twice \n",
    "        #to get two predictions that have some noise \n",
    "        pred1 = self.l1(meanPooled)\n",
    "        \n",
    "        encoding = self.model(input_ids, attention_mask=attention_mask)[0]  #all token embeddings\n",
    "        meanPooled = self.mean_pooling(encoding, attention_mask)\n",
    "       \n",
    "        #NOTE: Since dropout is random we simply send data through twice \n",
    "        #to get two predictions that have some noise \n",
    "        pred2 = self.l1(meanPooled)\n",
    "    \n",
    "        return pred1, pred2 \n",
    "        \n",
    "        return [loss, pred, gt] \n"
   ]
  },
  {
   "cell_type": "code",
   "execution_count": 16,
   "metadata": {},
   "outputs": [],
   "source": [
    "class SimpleModel(nn.Module):\n",
    "    def __init__(self):\n",
    "        super(SimpleModel,self).__init__()\n",
    "        #self.model = AutoModel.from_pretrained('sentence-transformers/all-mpnet-base-v2')\n",
    "        #self.model = AutoModel.from_pretrained('Giyaseddin/distilbert-base-cased-finetuned-fake-and-real-news-dataset')\n",
    "        self.model = RobertaModel.from_pretrained('roberta-base')\n",
    "        self.ReLU = nn.ReLU()\n",
    "        #self.dropout = nn.Dropout(.25)\n",
    "        self.l1 = nn.Linear(768, 1).to(device)\n",
    "        #self.l2 = nn.Linear(768, 1).to(device)\n",
    "        self.loss_func = torch.nn.MSELoss(reduction=\"mean\")\n",
    "        \n",
    "    def mean_pooling(self, token_embeddings, attention_mask): \n",
    "        input_mask_expanded = attention_mask.unsqueeze(-1).expand(token_embeddings.size()).float()\n",
    "        return torch.sum(token_embeddings * input_mask_expanded, 1) / torch.clamp(input_mask_expanded.sum(1), min=1e-9)\n",
    "\n",
    "    def forward(self, input_ids, attention_mask, gt): \n",
    "        \n",
    "        #encode sentence and get mean pooled sentence representation \n",
    "        encoding = self.model(input_ids, attention_mask=attention_mask)[0]  #all token embeddings\n",
    "        meanPooled = self.mean_pooling(encoding, attention_mask)\n",
    "       \n",
    "        pred = self.l1(meanPooled)\n",
    "        #out = self.dropout(out)\n",
    "        #out = self.ReLU(out)\n",
    "        #pred = self.l2(out)\n",
    "        \n",
    "        loss = self.loss_func(pred, gt.unsqueeze(1))\n",
    "        \n",
    "        return [loss, pred, gt] \n"
   ]
  },
  {
   "cell_type": "code",
   "execution_count": 17,
   "metadata": {},
   "outputs": [],
   "source": [
    "model = SimpleModel().to(device)\n",
    "\n",
    "#TODO: double check on if reduction=\"mean\" is the right move here...\n",
    "#could cosine similarity also work..? I think that is between the two predicted vectors though.. \n",
    "loss_func = torch.nn.MSELoss(reduction=\"mean\")\n",
    "\n",
    "# we would initialize everything first\n",
    "optim = torch.optim.Adam(model.parameters(), lr=2e-5)\n",
    "\n",
    "EPOCHS = 4\n",
    "\n",
    "# and setup a warmup for the first ~10% steps\n",
    "total_steps = int((trainLen*EPOCHS) / batch_size)\n",
    "warmup_steps = int(0.1 * total_steps)\n",
    "scheduler = get_linear_schedule_with_warmup(optim, num_warmup_steps=warmup_steps, num_training_steps=total_steps - warmup_steps)"
   ]
  },
  {
   "cell_type": "code",
   "execution_count": 18,
   "metadata": {},
   "outputs": [],
   "source": [
    "def validation(): \n",
    "    model.eval()\n",
    "    lossList = []\n",
    "    pred = []\n",
    "    GT = []\n",
    "\n",
    "    i = True \n",
    "    for batch in validLoader: \n",
    "        # prepare batches and more all to the active device\n",
    "        input_ids = batch['input_ids'].to(device)\n",
    "        attention_mask = batch['attention_mask'].to(device)\n",
    "        label = batch['ground_truth'].to(device)\n",
    "\n",
    "        #send batch info through model \n",
    "        loss, predSim, lab = model(input_ids, attention_mask,label)\n",
    "        \n",
    "        #get output metrics \n",
    "        lossList.append(loss.item())\n",
    "        pred.append(float(predSim))\n",
    "        GT.append(float(lab))\n",
    "        \n",
    "    #print(vGT)\n",
    "    return [lossList, pred, GT]\n",
    "        "
   ]
  },
  {
   "cell_type": "code",
   "execution_count": null,
   "metadata": {},
   "outputs": [],
   "source": []
  },
  {
   "cell_type": "code",
   "execution_count": 19,
   "metadata": {},
   "outputs": [
    {
     "data": {
      "application/vnd.jupyter.widget-view+json": {
       "model_id": "e60b2dfa29da423980f4d91dc8a1c5db",
       "version_major": 2,
       "version_minor": 0
      },
      "text/plain": [
       "  0%|          | 0/503 [00:00<?, ?it/s]"
      ]
     },
     "metadata": {},
     "output_type": "display_data"
    },
    {
     "name": "stderr",
     "output_type": "stream",
     "text": [
      "/opt/anaconda/lib/python3.8/site-packages/numpy/core/fromnumeric.py:3474: RuntimeWarning: Mean of empty slice.\n",
      "  return _methods._mean(a, axis=axis, dtype=dtype,\n",
      "/opt/anaconda/lib/python3.8/site-packages/numpy/core/_methods.py:189: RuntimeWarning: invalid value encountered in double_scalars\n",
      "  ret = ret.dtype.type(ret / rcount)\n"
     ]
    },
    {
     "data": {
      "application/vnd.jupyter.widget-view+json": {
       "model_id": "4153803149184d6f9beb7b543406d561",
       "version_major": 2,
       "version_minor": 0
      },
      "text/plain": [
       "  0%|          | 0/503 [00:00<?, ?it/s]"
      ]
     },
     "metadata": {},
     "output_type": "display_data"
    },
    {
     "data": {
      "application/vnd.jupyter.widget-view+json": {
       "model_id": "c8488c8c9e9740ad80acda93528afaa3",
       "version_major": 2,
       "version_minor": 0
      },
      "text/plain": [
       "  0%|          | 0/503 [00:00<?, ?it/s]"
      ]
     },
     "metadata": {},
     "output_type": "display_data"
    },
    {
     "data": {
      "application/vnd.jupyter.widget-view+json": {
       "model_id": "8da35c39b60b4365bdfb681a0fbe00c8",
       "version_major": 2,
       "version_minor": 0
      },
      "text/plain": [
       "  0%|          | 0/503 [00:00<?, ?it/s]"
      ]
     },
     "metadata": {},
     "output_type": "display_data"
    }
   ],
   "source": [
    "cos = torch.nn.CosineSimilarity(dim=1, eps=1e-6)\n",
    "trainDict = {}\n",
    "lossList = []\n",
    "validMetrics = []\n",
    "trainMetrics = []\n",
    "subLossList = []\n",
    "# increase from 1 epoch if need be \n",
    "for epoch in range(EPOCHS):\n",
    "    \n",
    "    model.train()  # make sure model is in training mode\n",
    "    \n",
    "    # initialize the dataloader loop with tqdm (tqdm == progress bar)\n",
    "    loop = tqdm(trainLoader, leave=True)\n",
    "    \n",
    "    validMetrics.append(validation())\n",
    "    model.train()\n",
    "    \n",
    "    for i, batch in enumerate(loop): \n",
    "        # zero all gradients on each new step\n",
    "        optim.zero_grad()\n",
    "\n",
    "        # prepare batches and more all to the active device\n",
    "        input_ids = batch['input_ids'].to(device)\n",
    "        attention_mask = batch[\"attention_mask\"].to(device)\n",
    "        label = batch['ground_truth'].to(device)\n",
    "\n",
    "        #run batch through model \n",
    "        loss, pred, gt = model(input_ids, attention_mask, label)\n",
    "\n",
    "        # using loss, calculate gradients and then optimize\n",
    "        loss.backward()\n",
    "        optim.step()\n",
    "        \n",
    "        #get mean loss over last 20 batches \n",
    "        if i % 20 == 0: \n",
    "            lossList.append(np.mean(subLossList))\n",
    "            subLossList = []\n",
    "        \n",
    "        subLossList.append(float(loss.item()))\n",
    "        \n",
    "        # update learning rate scheduler\n",
    "        scheduler.step()\n",
    "\n",
    "        # update the TDQM progress bar\n",
    "        loop.set_description(f'Epoch {epoch}')\n",
    "        loop.set_postfix(loss=loss.item())\n",
    "validMetrics.append(validation())"
   ]
  },
  {
   "cell_type": "code",
   "execution_count": 20,
   "metadata": {},
   "outputs": [
    {
     "data": {
      "text/plain": [
       "Text(0.5, 1.0, 'Train Loss')"
      ]
     },
     "execution_count": 20,
     "metadata": {},
     "output_type": "execute_result"
    },
    {
     "data": {
      "image/png": "[encoded data removed]",
      "text/plain": [
       "<Figure size 432x288 with 1 Axes>"
      ]
     },
     "metadata": {
      "needs_background": "light"
     },
     "output_type": "display_data"
    }
   ],
   "source": [
    "lossSmoothing = 20\n",
    "lossIndex = [(i * lossSmoothing)/252 for i in range(len(lossList))]\n",
    "plt.plot(lossIndex, lossList)\n",
    "plt.xlabel(\"Batch Num\")\n",
    "plt.ylabel(\"MSE Loss\")\n",
    "plt.title(\"Train Loss\")"
   ]
  },
  {
   "cell_type": "code",
   "execution_count": 21,
   "metadata": {},
   "outputs": [
    {
     "data": {
      "text/plain": [
       "1509"
      ]
     },
     "execution_count": 21,
     "metadata": {},
     "output_type": "execute_result"
    }
   ],
   "source": [
    "len(train)"
   ]
  },
  {
   "cell_type": "code",
   "execution_count": 22,
   "metadata": {},
   "outputs": [
    {
     "data": {
      "text/plain": [
       "(5, 3, 167)"
      ]
     },
     "execution_count": 22,
     "metadata": {},
     "output_type": "execute_result"
    }
   ],
   "source": [
    "validArr = np.array(validMetrics)\n",
    "#print(validArr.shape)\n",
    "\n",
    "validArr.shape"
   ]
  },
  {
   "cell_type": "code",
   "execution_count": 23,
   "metadata": {},
   "outputs": [
    {
     "name": "stdout",
     "output_type": "stream",
     "text": [
      "[[ 1.         -0.20816248]\n",
      " [-0.20816248  1.        ]]\n",
      "[[1.         0.80926674]\n",
      " [0.80926674 1.        ]]\n",
      "[[1.         0.83608604]\n",
      " [0.83608604 1.        ]]\n",
      "[[1.         0.84182418]\n",
      " [0.84182418 1.        ]]\n",
      "[[1.         0.84402927]\n",
      " [0.84402927 1.        ]]\n"
     ]
    },
    {
     "data": {
      "text/plain": [
       "Text(0.5, 1.0, 'validation eval')"
      ]
     },
     "execution_count": 23,
     "metadata": {},
     "output_type": "execute_result"
    },
    {
     "data": {
      "image/png": "[encoded data removed]",
      "text/plain": [
       "<Figure size 432x288 with 1 Axes>"
      ]
     },
     "metadata": {
      "needs_background": "light"
     },
     "output_type": "display_data"
    }
   ],
   "source": [
    "validArr = np.array(validMetrics)\n",
    "#print(validArr.shape)\n",
    "\n",
    "test = validArr[1,:,:]\n",
    "#np.corrcoef(test[1], test[2])\n",
    "\n",
    "iterList = []\n",
    "corrList = []\n",
    "#go through each validation step\n",
    "for i in range(validArr.shape[0]): \n",
    "    subDf = pd.DataFrame(validArr[i].T)\n",
    "    subDf.columns = [\"loss\", \"pred\", \"true\"]\n",
    "    corr = np.corrcoef(subDf[\"pred\"], subDf[\"true\"])\n",
    "    corrList.append(corr[1, 0])\n",
    "    iterList.append(i)\n",
    "    print(corr)\n",
    "    \n",
    "plt.plot(iterList, corrList)\n",
    "plt.xlabel(\"batch num\")\n",
    "plt.ylabel(\"pearson correlation\")\n",
    "plt.title(\"validation eval\")"
   ]
  },
  {
   "cell_type": "code",
   "execution_count": 24,
   "metadata": {},
   "outputs": [
    {
     "data": {
      "text/plain": [
       "Text(0, 0.5, 'prediction')"
      ]
     },
     "execution_count": 24,
     "metadata": {},
     "output_type": "execute_result"
    },
    {
     "data": {
      "image/png": "[encoded data removed]",
      "text/plain": [
       "<Figure size 432x288 with 1 Axes>"
      ]
     },
     "metadata": {
      "needs_background": "light"
     },
     "output_type": "display_data"
    }
   ],
   "source": [
    "plt.scatter(subDf[\"true\"], subDf[\"pred\"], alpha = .2)\n",
    "plt.title(\"predicted vs. ground truth \")\n",
    "plt.xlabel(\"ground truth\")\n",
    "plt.ylabel(\"prediction\")"
   ]
  },
  {
   "cell_type": "code",
   "execution_count": 26,
   "metadata": {},
   "outputs": [
    {
     "ename": "NameError",
     "evalue": "name 'trainDf' is not defined",
     "output_type": "error",
     "traceback": [
      "\u001b[0;31m---------------------------------------------------------------------------\u001b[0m",
      "\u001b[0;31mNameError\u001b[0m                                 Traceback (most recent call last)",
      "\u001b[0;32m<ipython-input-26-2a896f3af994>\u001b[0m in \u001b[0;36m<module>\u001b[0;34m\u001b[0m\n\u001b[1;32m      1\u001b[0m \u001b[0mfig\u001b[0m\u001b[0;34m,\u001b[0m \u001b[0maxs\u001b[0m \u001b[0;34m=\u001b[0m \u001b[0mplt\u001b[0m\u001b[0;34m.\u001b[0m\u001b[0msubplots\u001b[0m\u001b[0;34m(\u001b[0m\u001b[0;36m1\u001b[0m\u001b[0;34m,\u001b[0m\u001b[0;36m2\u001b[0m\u001b[0;34m,\u001b[0m \u001b[0mfigsize\u001b[0m\u001b[0;34m=\u001b[0m\u001b[0;34m[\u001b[0m\u001b[0;36m14\u001b[0m\u001b[0;34m,\u001b[0m\u001b[0;36m4\u001b[0m\u001b[0;34m]\u001b[0m\u001b[0;34m)\u001b[0m\u001b[0;34m\u001b[0m\u001b[0;34m\u001b[0m\u001b[0m\n\u001b[0;32m----> 2\u001b[0;31m \u001b[0maxs\u001b[0m\u001b[0;34m[\u001b[0m\u001b[0;36m0\u001b[0m\u001b[0;34m]\u001b[0m\u001b[0;34m.\u001b[0m\u001b[0mplot\u001b[0m\u001b[0;34m(\u001b[0m\u001b[0mtrainDf\u001b[0m\u001b[0;34m[\u001b[0m\u001b[0;34m\"trainLoss\"\u001b[0m\u001b[0;34m]\u001b[0m\u001b[0;34m)\u001b[0m\u001b[0;34m\u001b[0m\u001b[0;34m\u001b[0m\u001b[0m\n\u001b[0m\u001b[1;32m      3\u001b[0m \u001b[0maxs\u001b[0m\u001b[0;34m[\u001b[0m\u001b[0;36m0\u001b[0m\u001b[0;34m]\u001b[0m\u001b[0;34m.\u001b[0m\u001b[0mset_title\u001b[0m\u001b[0;34m(\u001b[0m\u001b[0;34m\"Train Loss\"\u001b[0m\u001b[0;34m,\u001b[0m \u001b[0msize\u001b[0m\u001b[0;34m=\u001b[0m\u001b[0;36m14\u001b[0m\u001b[0;34m)\u001b[0m\u001b[0;34m\u001b[0m\u001b[0;34m\u001b[0m\u001b[0m\n\u001b[1;32m      4\u001b[0m \u001b[0maxs\u001b[0m\u001b[0;34m[\u001b[0m\u001b[0;36m0\u001b[0m\u001b[0;34m]\u001b[0m\u001b[0;34m.\u001b[0m\u001b[0mset_ylabel\u001b[0m\u001b[0;34m(\u001b[0m\u001b[0;34m\"MSE Loss\"\u001b[0m\u001b[0;34m,\u001b[0m\u001b[0msize\u001b[0m\u001b[0;34m=\u001b[0m\u001b[0;36m14\u001b[0m\u001b[0;34m)\u001b[0m\u001b[0;34m\u001b[0m\u001b[0;34m\u001b[0m\u001b[0m\n\u001b[1;32m      5\u001b[0m \u001b[0maxs\u001b[0m\u001b[0;34m[\u001b[0m\u001b[0;36m0\u001b[0m\u001b[0;34m]\u001b[0m\u001b[0;34m.\u001b[0m\u001b[0mset_xlabel\u001b[0m\u001b[0;34m(\u001b[0m\u001b[0;34m\"batch\"\u001b[0m\u001b[0;34m,\u001b[0m\u001b[0msize\u001b[0m\u001b[0;34m=\u001b[0m\u001b[0;36m14\u001b[0m\u001b[0;34m)\u001b[0m\u001b[0;34m\u001b[0m\u001b[0;34m\u001b[0m\u001b[0m\n",
      "\u001b[0;31mNameError\u001b[0m: name 'trainDf' is not defined"
     ]
    },
    {
     "data": {
      "image/png": "[encoded data removed]",
      "text/plain": [
       "<Figure size 1008x288 with 2 Axes>"
      ]
     },
     "metadata": {
      "needs_background": "light"
     },
     "output_type": "display_data"
    }
   ],
   "source": [
    "fig, axs = plt.subplots(1,2, figsize=[14,4])\n",
    "axs[0].plot(trainDf[\"trainLoss\"])\n",
    "axs[0].set_title(\"Train Loss\", size=14)\n",
    "axs[0].set_ylabel(\"MSE Loss\",size=14)\n",
    "axs[0].set_xlabel(\"batch\",size=14)\n",
    "\n",
    "axs[1].plot(trainDf.dropna()[\"testLoss\"])\n",
    "axs[1].set_title(\"Validation Loss\",size=14)\n",
    "axs[1].set_ylabel(\"MSE Loss\",size=14)\n",
    "axs[1].set_xlabel(\"batch\",size=14)"
   ]
  },
  {
   "cell_type": "code",
   "execution_count": null,
   "metadata": {},
   "outputs": [],
   "source": []
  },
  {
   "cell_type": "code",
   "execution_count": null,
   "metadata": {},
   "outputs": [],
   "source": [
    "print(x)\n",
    "print(label)\n",
    "print()"
   ]
  },
  {
   "cell_type": "code",
   "execution_count": null,
   "metadata": {},
   "outputs": [],
   "source": [
    "loss_func(x, label)"
   ]
  },
  {
   "cell_type": "code",
   "execution_count": null,
   "metadata": {},
   "outputs": [],
   "source": [
    "plt.plot(trainDf[\"testLoss\"].dropna())"
   ]
  },
  {
   "cell_type": "code",
   "execution_count": null,
   "metadata": {},
   "outputs": [],
   "source": [
    "valX"
   ]
  },
  {
   "cell_type": "code",
   "execution_count": null,
   "metadata": {},
   "outputs": [],
   "source": [
    "vLabel"
   ]
  },
  {
   "cell_type": "code",
   "execution_count": null,
   "metadata": {},
   "outputs": [],
   "source": [
    "x"
   ]
  },
  {
   "cell_type": "code",
   "execution_count": null,
   "metadata": {},
   "outputs": [],
   "source": [
    "label"
   ]
  },
  {
   "cell_type": "code",
   "execution_count": null,
   "metadata": {},
   "outputs": [],
   "source": []
  }
 ],
 "metadata": {
  "kernelspec": {
   "display_name": "Python 3",
   "language": "python",
   "name": "python3"
  },
  "language_info": {
   "codemirror_mode": {
    "name": "ipython",
    "version": 3
   },
   "file_extension": ".py",
   "mimetype": "text/x-python",
   "name": "python",
   "nbconvert_exporter": "python",
   "pygments_lexer": "ipython3",
   "version": "3.8.5"
  }
 },
 "nbformat": 4,
 "nbformat_minor": 4
}
