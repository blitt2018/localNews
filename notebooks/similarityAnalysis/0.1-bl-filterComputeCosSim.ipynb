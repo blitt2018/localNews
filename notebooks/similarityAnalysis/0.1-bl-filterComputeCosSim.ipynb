{
 "cells": [
  {
   "cell_type": "code",
   "execution_count": 1,
   "metadata": {},
   "outputs": [],
   "source": [
    "import pandas as pd\n",
    "import numpy as np\n",
    "from ast import literal_eval\n",
    "import re\n",
    "import matplotlib.pyplot as plt\n",
    "from sklearn.cluster import AgglomerativeClustering\n",
    "from scipy.spatial import distance \n",
    "import seaborn as sns"
   ]
  },
  {
   "cell_type": "code",
   "execution_count": 2,
   "metadata": {},
   "outputs": [
    {
     "name": "stderr",
     "output_type": "stream",
     "text": [
      "/opt/anaconda/lib/python3.8/site-packages/IPython/core/interactiveshell.py:3071: DtypeWarning: Columns (2,3,7,10,11,12,13,14,17,18,19,20,21,22,23,24,25,26,27,28,29,30,31,32,33,34,39,40,41,42) have mixed types.Specify dtype option on import or set low_memory=False.\n",
      "  has_raised = await self.run_ast_nodes(code_ast.body, cell_name,\n"
     ]
    }
   ],
   "source": [
    "#get data with content, embeddings, and named entities \n",
    "df = pd.read_csv(\"/shared/3/projects/benlitterer/localNews/NetworkMVP/dataWithEmbeddings.tsv\", sep=\"\\t\", converters={\"embedding\":lambda x: np.array(x.strip(\"[]\").split(), dtype=float)})"
   ]
  },
  {
   "cell_type": "code",
   "execution_count": 3,
   "metadata": {},
   "outputs": [
    {
     "name": "stdout",
     "output_type": "stream",
     "text": [
      "(308837, 48)\n",
      "(308837, 48)\n"
     ]
    }
   ],
   "source": [
    "print(df.shape)\n",
    "df[\"key\"] = df[\"key\"].apply(lambda x: x.strip())\n",
    "print(df.drop_duplicates(subset=[\"key\"]).shape)"
   ]
  },
  {
   "cell_type": "code",
   "execution_count": 4,
   "metadata": {},
   "outputs": [
    {
     "name": "stdout",
     "output_type": "stream",
     "text": [
      "2021-09-01 00:00:00\n",
      "2021-05-01 00:00:00\n",
      "(308837, 48)\n"
     ]
    }
   ],
   "source": [
    "print(max(pd.to_datetime(df[\"date\"])))\n",
    "print(min(pd.to_datetime(df[\"date\"])))\n",
    "print(df.shape)"
   ]
  },
  {
   "cell_type": "code",
   "execution_count": 5,
   "metadata": {},
   "outputs": [
    {
     "name": "stdout",
     "output_type": "stream",
     "text": [
      "parsing\n"
     ]
    },
    {
     "name": "stderr",
     "output_type": "stream",
     "text": [
      "<ipython-input-5-80b088d75f01>:13: SettingWithCopyWarning: \n",
      "A value is trying to be set on a copy of a slice from a DataFrame.\n",
      "Try using .loc[row_indexer,col_indexer] = value instead\n",
      "\n",
      "See the caveats in the documentation: https://pandas.pydata.org/pandas-docs/stable/user_guide/indexing.html#returning-a-view-versus-a-copy\n",
      "  testDf[\"topics\"] = testDf[\"topics\"].apply(parseList)\n"
     ]
    },
    {
     "name": "stdout",
     "output_type": "stream",
     "text": [
      "parsed\n",
      "formatted\n"
     ]
    }
   ],
   "source": [
    "testDf = df[[\"key\", \"topics\", \"embedding\"]]\n",
    "\n",
    "print(\"parsing\")\n",
    "\n",
    "def cleanList(inList): \n",
    "    return [str(re.sub(\"[^a-zA-Z0-9 ]\", \"\", item).lower()) for item in inList]\n",
    "\n",
    "def parseList(inStr): \n",
    "    split = inStr.split(\"\\'), (\\'\")\n",
    "    return [cleanList(item.split(\"', '\")) for item in split]\n",
    "\n",
    "#parse topics from string to actual list of tuples \n",
    "testDf[\"topics\"] = testDf[\"topics\"].apply(parseList)\n",
    "\n",
    "print(\"parsed\")\n",
    "\n",
    "#test out idea for creating reverse mapping \n",
    "testDf = testDf.dropna(subset=[\"topics\"])\n",
    "\n",
    "#bring each tuple into its own row \n",
    "testDf = testDf.explode(\"topics\")\n",
    "\n",
    "#bring each tuple entry into its own column \n",
    "#split ent_type, entity pairs to columns \n",
    "testDf[[\"ent_type\",\"entity\"]] = pd.DataFrame(testDf[\"topics\"].tolist(), index=testDf.index)\n",
    "\n",
    "print(\"formatted\") \n",
    "\n",
    "#keep only the entity types that may be interesting \n",
    "toKeep = [\"org\",\"event\", \"person\", \"work_of_art\", \"product\"]\n",
    "testDf = testDf[testDf[\"ent_type\"].isin(toKeep)]\n",
    "\n",
    "grouped = testDf[[\"embedding\", \"ent_type\", \"entity\", \"key\"]].groupby(by=[\"ent_type\", \"entity\"]).agg(list)"
   ]
  },
  {
   "cell_type": "code",
   "execution_count": 6,
   "metadata": {},
   "outputs": [
    {
     "data": {
      "text/html": [
       "<div>\n",
       "<style scoped>\n",
       "    .dataframe tbody tr th:only-of-type {\n",
       "        vertical-align: middle;\n",
       "    }\n",
       "\n",
       "    .dataframe tbody tr th {\n",
       "        vertical-align: top;\n",
       "    }\n",
       "\n",
       "    .dataframe thead th {\n",
       "        text-align: right;\n",
       "    }\n",
       "</style>\n",
       "<table border=\"1\" class=\"dataframe\">\n",
       "  <thead>\n",
       "    <tr style=\"text-align: right;\">\n",
       "      <th></th>\n",
       "      <th></th>\n",
       "      <th>embedding</th>\n",
       "      <th>key</th>\n",
       "      <th>articleNum</th>\n",
       "    </tr>\n",
       "    <tr>\n",
       "      <th>ent_type</th>\n",
       "      <th>entity</th>\n",
       "      <th></th>\n",
       "      <th></th>\n",
       "      <th></th>\n",
       "    </tr>\n",
       "  </thead>\n",
       "  <tbody>\n",
       "    <tr>\n",
       "      <th rowspan=\"5\" valign=\"top\">event</th>\n",
       "      <th>fields2value1970</th>\n",
       "      <td>[[-0.00773029588, -0.00490123546, 0.0179314595...</td>\n",
       "      <td>[hillsborofreepress_Infinity_Fitness_has_offic...</td>\n",
       "      <td>6</td>\n",
       "    </tr>\n",
       "    <tr>\n",
       "      <th>game 2</th>\n",
       "      <td>[[-0.0185301453, 0.0250518899, 0.0244161058, -...</td>\n",
       "      <td>[theseattletimes_76ers’_Rivers_seeks_fill-in_f...</td>\n",
       "      <td>1</td>\n",
       "    </tr>\n",
       "    <tr>\n",
       "      <th>game of thrones</th>\n",
       "      <td>[[-0.0230182633, 0.0624324679, 0.00821057428, ...</td>\n",
       "      <td>[thenewyorktimes_Seth_Meyers_Explains_How_‘For...</td>\n",
       "      <td>1</td>\n",
       "    </tr>\n",
       "    <tr>\n",
       "      <th>hall of fame</th>\n",
       "      <td>[[-0.0627424344, 0.0551135093, 0.00766856782, ...</td>\n",
       "      <td>[dailydemocrat_49ers’_Hall_of_Fame:_John_Taylo...</td>\n",
       "      <td>3</td>\n",
       "    </tr>\n",
       "    <tr>\n",
       "      <th>mars 2020</th>\n",
       "      <td>[[-0.0456677824, -0.00853861216, 0.0276035238,...</td>\n",
       "      <td>[cbsnews_How_NASA_flew_a_drone_on_Mars]</td>\n",
       "      <td>1</td>\n",
       "    </tr>\n",
       "  </tbody>\n",
       "</table>\n",
       "</div>"
      ],
      "text/plain": [
       "                                                                    embedding  \\\n",
       "ent_type entity                                                                 \n",
       "event     fields2value1970  [[-0.00773029588, -0.00490123546, 0.0179314595...   \n",
       "          game 2            [[-0.0185301453, 0.0250518899, 0.0244161058, -...   \n",
       "          game of thrones   [[-0.0230182633, 0.0624324679, 0.00821057428, ...   \n",
       "          hall of fame      [[-0.0627424344, 0.0551135093, 0.00766856782, ...   \n",
       "          mars 2020         [[-0.0456677824, -0.00853861216, 0.0276035238,...   \n",
       "\n",
       "                                                                          key  \\\n",
       "ent_type entity                                                                 \n",
       "event     fields2value1970  [hillsborofreepress_Infinity_Fitness_has_offic...   \n",
       "          game 2            [theseattletimes_76ers’_Rivers_seeks_fill-in_f...   \n",
       "          game of thrones   [thenewyorktimes_Seth_Meyers_Explains_How_‘For...   \n",
       "          hall of fame      [dailydemocrat_49ers’_Hall_of_Fame:_John_Taylo...   \n",
       "          mars 2020                   [cbsnews_How_NASA_flew_a_drone_on_Mars]   \n",
       "\n",
       "                            articleNum  \n",
       "ent_type entity                         \n",
       "event     fields2value1970           6  \n",
       "          game 2                     1  \n",
       "          game of thrones            1  \n",
       "          hall of fame               3  \n",
       "          mars 2020                  1  "
      ]
     },
     "execution_count": 6,
     "metadata": {},
     "output_type": "execute_result"
    }
   ],
   "source": [
    "grouped[\"articleNum\"] = grouped[\"key\"].apply(len)\n",
    "grouped.head()"
   ]
  },
  {
   "cell_type": "code",
   "execution_count": 116,
   "metadata": {},
   "outputs": [
    {
     "data": {
      "text/plain": [
       "(113424, 3)"
      ]
     },
     "execution_count": 116,
     "metadata": {},
     "output_type": "execute_result"
    }
   ],
   "source": [
    "groupedLean = grouped[(grouped[\"articleNum\"] > 5) & (grouped[\"articleNum\"] < 1000)]\n",
    "groupedLean.shape"
   ]
  },
  {
   "cell_type": "code",
   "execution_count": 649,
   "metadata": {},
   "outputs": [
    {
     "data": {
      "text/html": [
       "<div>\n",
       "<style scoped>\n",
       "    .dataframe tbody tr th:only-of-type {\n",
       "        vertical-align: middle;\n",
       "    }\n",
       "\n",
       "    .dataframe tbody tr th {\n",
       "        vertical-align: top;\n",
       "    }\n",
       "\n",
       "    .dataframe thead th {\n",
       "        text-align: right;\n",
       "    }\n",
       "</style>\n",
       "<table border=\"1\" class=\"dataframe\">\n",
       "  <thead>\n",
       "    <tr style=\"text-align: right;\">\n",
       "      <th></th>\n",
       "      <th></th>\n",
       "      <th>embedding</th>\n",
       "      <th>key</th>\n",
       "      <th>articleNum</th>\n",
       "    </tr>\n",
       "    <tr>\n",
       "      <th>ent_type</th>\n",
       "      <th>entity</th>\n",
       "      <th></th>\n",
       "      <th></th>\n",
       "      <th></th>\n",
       "    </tr>\n",
       "  </thead>\n",
       "  <tbody>\n",
       "    <tr>\n",
       "      <th rowspan=\"5\" valign=\"top\">event</th>\n",
       "      <th>fields2value1970</th>\n",
       "      <td>[[-0.00773029588, -0.00490123546, 0.0179314595...</td>\n",
       "      <td>[hillsborofreepress_Infinity_Fitness_has_offic...</td>\n",
       "      <td>6</td>\n",
       "    </tr>\n",
       "    <tr>\n",
       "      <th>super bowl</th>\n",
       "      <td>[[-0.0758472532, 0.0570456721, 0.0111176176, -...</td>\n",
       "      <td>[theenterpriserecord_Five_things_Patrick_Willi...</td>\n",
       "      <td>9</td>\n",
       "    </tr>\n",
       "    <tr>\n",
       "      <th>5a championship series</th>\n",
       "      <td>[[-0.059961386, 0.0440411158, -0.0295248628, 0...</td>\n",
       "      <td>[aurorasentinel_Baseball:_2021_Class_5A_region...</td>\n",
       "      <td>7</td>\n",
       "    </tr>\n",
       "    <tr>\n",
       "      <th>911</th>\n",
       "      <td>[[-0.0297710318, 0.00756559148, 0.00346088805,...</td>\n",
       "      <td>[deseretnews_How_pride_in_2002_Winter_Olympics...</td>\n",
       "      <td>11</td>\n",
       "    </tr>\n",
       "    <tr>\n",
       "      <th>a cold war</th>\n",
       "      <td>[[-0.0481121317, 0.0955681279, 0.00663438067, ...</td>\n",
       "      <td>[thedailyrepublic_Army’s_roots_reach_back_to_n...</td>\n",
       "      <td>23</td>\n",
       "    </tr>\n",
       "    <tr>\n",
       "      <th>...</th>\n",
       "      <th>...</th>\n",
       "      <td>...</td>\n",
       "      <td>...</td>\n",
       "      <td>...</td>\n",
       "    </tr>\n",
       "    <tr>\n",
       "      <th rowspan=\"5\" valign=\"top\">product</th>\n",
       "      <th>ziploc</th>\n",
       "      <td>[[-0.0109394677, 0.0796035081, -0.00845626649,...</td>\n",
       "      <td>[thetimescourier_East_Ellijay_traffic_stop_res...</td>\n",
       "      <td>7</td>\n",
       "    </tr>\n",
       "    <tr>\n",
       "      <th>zoom</th>\n",
       "      <td>[[-0.0750853047, 0.0770440996, -0.0180662386, ...</td>\n",
       "      <td>[theenterpriserecord_OLLI_hosting_summer_class...</td>\n",
       "      <td>431</td>\n",
       "    </tr>\n",
       "    <tr>\n",
       "      <th>zoom and</th>\n",
       "      <td>[[-0.0261818618, 0.0623469502, 0.0101112816, -...</td>\n",
       "      <td>[summitdailynews_Wildfire_season_is_here:_Are_...</td>\n",
       "      <td>6</td>\n",
       "    </tr>\n",
       "    <tr>\n",
       "      <th>zouk</th>\n",
       "      <td>[[-0.0174199827, 0.000472159358, -0.0066477721...</td>\n",
       "      <td>[lasvegasreviewjournal_Madison_Beer,_DJ_Snake,...</td>\n",
       "      <td>9</td>\n",
       "    </tr>\n",
       "    <tr>\n",
       "      <th>zumba</th>\n",
       "      <td>[[-0.000552972138, 0.00241767056, 0.0020816833...</td>\n",
       "      <td>[thedailyrepublic_Zumba_marks_20_years_of_danc...</td>\n",
       "      <td>48</td>\n",
       "    </tr>\n",
       "  </tbody>\n",
       "</table>\n",
       "<p>112774 rows × 3 columns</p>\n",
       "</div>"
      ],
      "text/plain": [
       "                                                                         embedding  \\\n",
       "ent_type entity                                                                      \n",
       "event     fields2value1970       [[-0.00773029588, -0.00490123546, 0.0179314595...   \n",
       "          super bowl             [[-0.0758472532, 0.0570456721, 0.0111176176, -...   \n",
       "         5a championship series  [[-0.059961386, 0.0440411158, -0.0295248628, 0...   \n",
       "         911                     [[-0.0297710318, 0.00756559148, 0.00346088805,...   \n",
       "         a cold war              [[-0.0481121317, 0.0955681279, 0.00663438067, ...   \n",
       "...                                                                            ...   \n",
       "product  ziploc                  [[-0.0109394677, 0.0796035081, -0.00845626649,...   \n",
       "         zoom                    [[-0.0750853047, 0.0770440996, -0.0180662386, ...   \n",
       "         zoom and                [[-0.0261818618, 0.0623469502, 0.0101112816, -...   \n",
       "         zouk                    [[-0.0174199827, 0.000472159358, -0.0066477721...   \n",
       "         zumba                   [[-0.000552972138, 0.00241767056, 0.0020816833...   \n",
       "\n",
       "                                                                               key  \\\n",
       "ent_type entity                                                                      \n",
       "event     fields2value1970       [hillsborofreepress_Infinity_Fitness_has_offic...   \n",
       "          super bowl             [theenterpriserecord_Five_things_Patrick_Willi...   \n",
       "         5a championship series  [aurorasentinel_Baseball:_2021_Class_5A_region...   \n",
       "         911                     [deseretnews_How_pride_in_2002_Winter_Olympics...   \n",
       "         a cold war              [thedailyrepublic_Army’s_roots_reach_back_to_n...   \n",
       "...                                                                            ...   \n",
       "product  ziploc                  [thetimescourier_East_Ellijay_traffic_stop_res...   \n",
       "         zoom                    [theenterpriserecord_OLLI_hosting_summer_class...   \n",
       "         zoom and                [summitdailynews_Wildfire_season_is_here:_Are_...   \n",
       "         zouk                    [lasvegasreviewjournal_Madison_Beer,_DJ_Snake,...   \n",
       "         zumba                   [thedailyrepublic_Zumba_marks_20_years_of_danc...   \n",
       "\n",
       "                                 articleNum  \n",
       "ent_type entity                              \n",
       "event     fields2value1970                6  \n",
       "          super bowl                      9  \n",
       "         5a championship series           7  \n",
       "         911                             11  \n",
       "         a cold war                      23  \n",
       "...                                     ...  \n",
       "product  ziploc                           7  \n",
       "         zoom                           431  \n",
       "         zoom and                         6  \n",
       "         zouk                             9  \n",
       "         zumba                           48  \n",
       "\n",
       "[112774 rows x 3 columns]"
      ]
     },
     "execution_count": 649,
     "metadata": {},
     "output_type": "execute_result"
    }
   ],
   "source": [
    "groupedLean"
   ]
  },
  {
   "cell_type": "code",
   "execution_count": 80,
   "metadata": {},
   "outputs": [
    {
     "data": {
      "text/html": [
       "<div>\n",
       "<style scoped>\n",
       "    .dataframe tbody tr th:only-of-type {\n",
       "        vertical-align: middle;\n",
       "    }\n",
       "\n",
       "    .dataframe tbody tr th {\n",
       "        vertical-align: top;\n",
       "    }\n",
       "\n",
       "    .dataframe thead th {\n",
       "        text-align: right;\n",
       "    }\n",
       "</style>\n",
       "<table border=\"1\" class=\"dataframe\">\n",
       "  <thead>\n",
       "    <tr style=\"text-align: right;\">\n",
       "      <th></th>\n",
       "      <th></th>\n",
       "      <th>key</th>\n",
       "      <th>embedding</th>\n",
       "    </tr>\n",
       "    <tr>\n",
       "      <th>ent_type</th>\n",
       "      <th>entity</th>\n",
       "      <th></th>\n",
       "      <th></th>\n",
       "    </tr>\n",
       "  </thead>\n",
       "  <tbody>\n",
       "    <tr>\n",
       "      <th rowspan=\"3\" valign=\"top\">event</th>\n",
       "      <th>fields2value1970</th>\n",
       "      <td>[(hillsborofreepress_Infinity_Fitness_has_offi...</td>\n",
       "      <td>[([-0.00773029588, -0.00490123546, 0.017931459...</td>\n",
       "    </tr>\n",
       "    <tr>\n",
       "      <th>super bowl</th>\n",
       "      <td>[(theenterpriserecord_Five_things_Patrick_Will...</td>\n",
       "      <td>[([-0.0758472532, 0.0570456721, 0.0111176176, ...</td>\n",
       "    </tr>\n",
       "    <tr>\n",
       "      <th>5a championship series</th>\n",
       "      <td>[(aurorasentinel_Baseball:_2021_Class_5A_regio...</td>\n",
       "      <td>[([-0.059961386, 0.0440411158, -0.0295248628, ...</td>\n",
       "    </tr>\n",
       "  </tbody>\n",
       "</table>\n",
       "</div>"
      ],
      "text/plain": [
       "                                                                               key  \\\n",
       "ent_type entity                                                                      \n",
       "event     fields2value1970       [(hillsborofreepress_Infinity_Fitness_has_offi...   \n",
       "          super bowl             [(theenterpriserecord_Five_things_Patrick_Will...   \n",
       "         5a championship series  [(aurorasentinel_Baseball:_2021_Class_5A_regio...   \n",
       "\n",
       "                                                                         embedding  \n",
       "ent_type entity                                                                     \n",
       "event     fields2value1970       [([-0.00773029588, -0.00490123546, 0.017931459...  \n",
       "          super bowl             [([-0.0758472532, 0.0570456721, 0.0111176176, ...  \n",
       "         5a championship series  [([-0.059961386, 0.0440411158, -0.0295248628, ...  "
      ]
     },
     "execution_count": 80,
     "metadata": {},
     "output_type": "execute_result"
    }
   ],
   "source": [
    "def getPairwise(inList): \n",
    "    return [(item1, item2) for item2 in inList for item1 in inList]\n",
    "\n",
    "\n",
    "#work with a small df first \n",
    "testDf = groupedLean[[\"key\", \"embedding\"]].head(2000)\n",
    "\n",
    "testDf[\"embedding\"] = testDf[\"embedding\"].apply(getPairwise)\n",
    "testDf[\"key\"] = testDf[\"key\"].apply(getPairwise)\n",
    "\n",
    "exploded = testDf.apply(pd.Series.explode).drop_duplicates(subset=[\"key\"])\n",
    "testDf.head(3)\n"
   ]
  },
  {
   "cell_type": "code",
   "execution_count": 82,
   "metadata": {},
   "outputs": [
    {
     "data": {
      "text/plain": [
       "(4424296, 2)"
      ]
     },
     "execution_count": 82,
     "metadata": {},
     "output_type": "execute_result"
    }
   ],
   "source": [
    "exploded.shape"
   ]
  },
  {
   "cell_type": "code",
   "execution_count": 104,
   "metadata": {},
   "outputs": [
    {
     "data": {
      "application/vnd.jupyter.widget-view+json": {
       "model_id": "e513ac2b7efb4a93b8356416d70652eb",
       "version_major": 2,
       "version_minor": 0
      },
      "text/plain": [
       "  0%|          | 0/10 [00:02<?, ?it/s]"
      ]
     },
     "metadata": {},
     "output_type": "display_data"
    }
   ],
   "source": [
    "from tqdm.notebook import tqdm \n",
    "from multiprocessing import Pool \n",
    "\n",
    "def getCos(inList): \n",
    "    return 1 - distance.cosine(inList[0], inList[1])\n",
    "\n",
    "def getCosSeries(inSeries): \n",
    "    return inSeries.apply(getCos)\n",
    "\n",
    "#tqdm.pandas()\n",
    "#exploded.head(1000000)[\"embedding\"].progress_map(getCos)\n",
    "\n",
    "testDf = exploded\n",
    "testEmbeddings = testDf[\"embedding\"]\n",
    "\n",
    "with Pool(12) as pool: \n",
    "    splitList = np.array_split(testEmbeddings, 10)\n",
    "    similarityArrs = list(tqdm(pool.imap(getCosSeries, splitList), total=10))\n",
    "    similarity = pd.concat(similarityArrs)\n",
    "\n",
    "testDf[\"similarity\"] = similarity"
   ]
  },
  {
   "cell_type": "code",
   "execution_count": 112,
   "metadata": {},
   "outputs": [
    {
     "data": {
      "text/plain": [
       "(\"dailyherald_'Pure_business'_at_Biden-Putin_summit:_No_hugs,_no_brickbats\",\n",
       " 'waterburyrepublicanamerican_‘Pure_business’_at_Biden-Putin_summit:_No_hugs,_no_brickbats')"
      ]
     },
     "execution_count": 112,
     "metadata": {},
     "output_type": "execute_result"
    }
   ],
   "source": [
    "sanity = testDf[testDf[\"similarity\"] >= .7]\n",
    "sanity[\"key\"][203]"
   ]
  },
  {
   "cell_type": "markdown",
   "metadata": {},
   "source": [
    "# Version to run as script on server!"
   ]
  },
  {
   "cell_type": "code",
   "execution_count": 13,
   "metadata": {},
   "outputs": [
    {
     "name": "stderr",
     "output_type": "stream",
     "text": [
      "/opt/anaconda/lib/python3.8/site-packages/IPython/core/interactiveshell.py:3071: DtypeWarning: Columns (2,3,7,10,11,12,13,14,17,18,19,20,21,22,23,24,25,26,27,28,29,30,31,32,33,34,39,40,41,42) have mixed types.Specify dtype option on import or set low_memory=False.\n",
      "  has_raised = await self.run_ast_nodes(code_ast.body, cell_name,\n"
     ]
    },
    {
     "name": "stdout",
     "output_type": "stream",
     "text": [
      "Input data shape: (308837, 48)\n",
      "parsing\n",
      "parsed\n",
      "formatted\n",
      "Shape after grouping: (921, 3)\n",
      "Exploded size: (55110, 2)\n"
     ]
    },
    {
     "data": {
      "application/vnd.jupyter.widget-view+json": {
       "model_id": "0f147e6b5f8b49879e745d6d31241caf",
       "version_major": 2,
       "version_minor": 0
      },
      "text/plain": [
       "  0%|          | 0/10 [00:00<?, ?it/s]"
      ]
     },
     "metadata": {},
     "output_type": "display_data"
    },
    {
     "ename": "KeyboardInterrupt",
     "evalue": "",
     "output_type": "error",
     "traceback": [
      "\u001b[0;31m---------------------------------------------------------------------------\u001b[0m",
      "\u001b[0;31mKeyboardInterrupt\u001b[0m                         Traceback (most recent call last)",
      "\u001b[0;32m<ipython-input-13-fc80f1fb3a10>\u001b[0m in \u001b[0;36m<module>\u001b[0;34m\u001b[0m\n\u001b[1;32m     88\u001b[0m \u001b[0mexploded\u001b[0m\u001b[0;34m[\u001b[0m\u001b[0;34m\"similarity\"\u001b[0m\u001b[0;34m]\u001b[0m \u001b[0;34m=\u001b[0m \u001b[0msimilarity\u001b[0m\u001b[0;34m\u001b[0m\u001b[0;34m\u001b[0m\u001b[0m\n\u001b[1;32m     89\u001b[0m \u001b[0;34m\u001b[0m\u001b[0m\n\u001b[0;32m---> 90\u001b[0;31m \u001b[0mexploded\u001b[0m\u001b[0;34m.\u001b[0m\u001b[0mto_csv\u001b[0m\u001b[0;34m(\u001b[0m\u001b[0moutputPath\u001b[0m\u001b[0;34m,\u001b[0m \u001b[0msep\u001b[0m\u001b[0;34m=\u001b[0m\u001b[0;34m\"\\t\"\u001b[0m\u001b[0;34m,\u001b[0m \u001b[0mquoting\u001b[0m\u001b[0;34m=\u001b[0m\u001b[0mcsv\u001b[0m\u001b[0;34m.\u001b[0m\u001b[0mQUOTE_NONNUMERIC\u001b[0m\u001b[0;34m)\u001b[0m\u001b[0;34m\u001b[0m\u001b[0;34m\u001b[0m\u001b[0m\n\u001b[0m",
      "\u001b[0;32m/opt/anaconda/lib/python3.8/site-packages/pandas/core/generic.py\u001b[0m in \u001b[0;36mto_csv\u001b[0;34m(self, path_or_buf, sep, na_rep, float_format, columns, header, index, index_label, mode, encoding, compression, quoting, quotechar, line_terminator, chunksize, date_format, doublequote, escapechar, decimal, errors)\u001b[0m\n\u001b[1;32m   3168\u001b[0m             \u001b[0mdecimal\u001b[0m\u001b[0;34m=\u001b[0m\u001b[0mdecimal\u001b[0m\u001b[0;34m,\u001b[0m\u001b[0;34m\u001b[0m\u001b[0;34m\u001b[0m\u001b[0m\n\u001b[1;32m   3169\u001b[0m         )\n\u001b[0;32m-> 3170\u001b[0;31m         \u001b[0mformatter\u001b[0m\u001b[0;34m.\u001b[0m\u001b[0msave\u001b[0m\u001b[0;34m(\u001b[0m\u001b[0;34m)\u001b[0m\u001b[0;34m\u001b[0m\u001b[0;34m\u001b[0m\u001b[0m\n\u001b[0m\u001b[1;32m   3171\u001b[0m \u001b[0;34m\u001b[0m\u001b[0m\n\u001b[1;32m   3172\u001b[0m         \u001b[0;32mif\u001b[0m \u001b[0mpath_or_buf\u001b[0m \u001b[0;32mis\u001b[0m \u001b[0;32mNone\u001b[0m\u001b[0;34m:\u001b[0m\u001b[0;34m\u001b[0m\u001b[0;34m\u001b[0m\u001b[0m\n",
      "\u001b[0;32m/opt/anaconda/lib/python3.8/site-packages/pandas/io/formats/csvs.py\u001b[0m in \u001b[0;36msave\u001b[0;34m(self)\u001b[0m\n\u001b[1;32m    204\u001b[0m             )\n\u001b[1;32m    205\u001b[0m \u001b[0;34m\u001b[0m\u001b[0m\n\u001b[0;32m--> 206\u001b[0;31m             \u001b[0mself\u001b[0m\u001b[0;34m.\u001b[0m\u001b[0m_save\u001b[0m\u001b[0;34m(\u001b[0m\u001b[0;34m)\u001b[0m\u001b[0;34m\u001b[0m\u001b[0;34m\u001b[0m\u001b[0m\n\u001b[0m\u001b[1;32m    207\u001b[0m \u001b[0;34m\u001b[0m\u001b[0m\n\u001b[1;32m    208\u001b[0m         \u001b[0;32mfinally\u001b[0m\u001b[0;34m:\u001b[0m\u001b[0;34m\u001b[0m\u001b[0;34m\u001b[0m\u001b[0m\n",
      "\u001b[0;32m/opt/anaconda/lib/python3.8/site-packages/pandas/io/formats/csvs.py\u001b[0m in \u001b[0;36m_save\u001b[0;34m(self)\u001b[0m\n\u001b[1;32m    326\u001b[0m                 \u001b[0;32mbreak\u001b[0m\u001b[0;34m\u001b[0m\u001b[0;34m\u001b[0m\u001b[0m\n\u001b[1;32m    327\u001b[0m \u001b[0;34m\u001b[0m\u001b[0m\n\u001b[0;32m--> 328\u001b[0;31m             \u001b[0mself\u001b[0m\u001b[0;34m.\u001b[0m\u001b[0m_save_chunk\u001b[0m\u001b[0;34m(\u001b[0m\u001b[0mstart_i\u001b[0m\u001b[0;34m,\u001b[0m \u001b[0mend_i\u001b[0m\u001b[0;34m)\u001b[0m\u001b[0;34m\u001b[0m\u001b[0;34m\u001b[0m\u001b[0m\n\u001b[0m\u001b[1;32m    329\u001b[0m \u001b[0;34m\u001b[0m\u001b[0m\n\u001b[1;32m    330\u001b[0m     \u001b[0;32mdef\u001b[0m \u001b[0m_save_chunk\u001b[0m\u001b[0;34m(\u001b[0m\u001b[0mself\u001b[0m\u001b[0;34m,\u001b[0m \u001b[0mstart_i\u001b[0m\u001b[0;34m:\u001b[0m \u001b[0mint\u001b[0m\u001b[0;34m,\u001b[0m \u001b[0mend_i\u001b[0m\u001b[0;34m:\u001b[0m \u001b[0mint\u001b[0m\u001b[0;34m)\u001b[0m \u001b[0;34m->\u001b[0m \u001b[0;32mNone\u001b[0m\u001b[0;34m:\u001b[0m\u001b[0;34m\u001b[0m\u001b[0;34m\u001b[0m\u001b[0m\n",
      "\u001b[0;32m/opt/anaconda/lib/python3.8/site-packages/pandas/io/formats/csvs.py\u001b[0m in \u001b[0;36m_save_chunk\u001b[0;34m(self, start_i, end_i)\u001b[0m\n\u001b[1;32m    360\u001b[0m         )\n\u001b[1;32m    361\u001b[0m \u001b[0;34m\u001b[0m\u001b[0m\n\u001b[0;32m--> 362\u001b[0;31m         \u001b[0mlibwriters\u001b[0m\u001b[0;34m.\u001b[0m\u001b[0mwrite_csv_rows\u001b[0m\u001b[0;34m(\u001b[0m\u001b[0mself\u001b[0m\u001b[0;34m.\u001b[0m\u001b[0mdata\u001b[0m\u001b[0;34m,\u001b[0m \u001b[0mix\u001b[0m\u001b[0;34m,\u001b[0m \u001b[0mself\u001b[0m\u001b[0;34m.\u001b[0m\u001b[0mnlevels\u001b[0m\u001b[0;34m,\u001b[0m \u001b[0mself\u001b[0m\u001b[0;34m.\u001b[0m\u001b[0mcols\u001b[0m\u001b[0;34m,\u001b[0m \u001b[0mself\u001b[0m\u001b[0;34m.\u001b[0m\u001b[0mwriter\u001b[0m\u001b[0;34m)\u001b[0m\u001b[0;34m\u001b[0m\u001b[0;34m\u001b[0m\u001b[0m\n\u001b[0m",
      "\u001b[0;32mpandas/_libs/writers.pyx\u001b[0m in \u001b[0;36mpandas._libs.writers.write_csv_rows\u001b[0;34m()\u001b[0m\n",
      "\u001b[0;32m/opt/anaconda/lib/python3.8/site-packages/numpy/core/arrayprint.py\u001b[0m in \u001b[0;36m_array_repr_implementation\u001b[0;34m(arr, max_line_width, precision, suppress_small, array2string)\u001b[0m\n\u001b[1;32m   1486\u001b[0m         \u001b[0mlst\u001b[0m \u001b[0;34m=\u001b[0m \u001b[0mrepr\u001b[0m\u001b[0;34m(\u001b[0m\u001b[0marr\u001b[0m\u001b[0;34m.\u001b[0m\u001b[0mitem\u001b[0m\u001b[0;34m(\u001b[0m\u001b[0;34m)\u001b[0m\u001b[0;34m)\u001b[0m\u001b[0;34m\u001b[0m\u001b[0;34m\u001b[0m\u001b[0m\n\u001b[1;32m   1487\u001b[0m     \u001b[0;32melif\u001b[0m \u001b[0marr\u001b[0m\u001b[0;34m.\u001b[0m\u001b[0msize\u001b[0m \u001b[0;34m>\u001b[0m \u001b[0;36m0\u001b[0m \u001b[0;32mor\u001b[0m \u001b[0marr\u001b[0m\u001b[0;34m.\u001b[0m\u001b[0mshape\u001b[0m \u001b[0;34m==\u001b[0m \u001b[0;34m(\u001b[0m\u001b[0;36m0\u001b[0m\u001b[0;34m,\u001b[0m\u001b[0;34m)\u001b[0m\u001b[0;34m:\u001b[0m\u001b[0;34m\u001b[0m\u001b[0;34m\u001b[0m\u001b[0m\n\u001b[0;32m-> 1488\u001b[0;31m         lst = array2string(arr, max_line_width, precision, suppress_small,\n\u001b[0m\u001b[1;32m   1489\u001b[0m                            ', ', prefix, suffix=suffix)\n\u001b[1;32m   1490\u001b[0m     \u001b[0;32melse\u001b[0m\u001b[0;34m:\u001b[0m  \u001b[0;31m# show zero-length shape unless it is (0,)\u001b[0m\u001b[0;34m\u001b[0m\u001b[0;34m\u001b[0m\u001b[0m\n",
      "\u001b[0;32m/opt/anaconda/lib/python3.8/site-packages/numpy/core/arrayprint.py\u001b[0m in \u001b[0;36marray2string\u001b[0;34m(a, max_line_width, precision, suppress_small, separator, prefix, style, formatter, threshold, edgeitems, sign, floatmode, suffix, legacy)\u001b[0m\n\u001b[1;32m    734\u001b[0m         \u001b[0;32mreturn\u001b[0m \u001b[0;34m\"[]\"\u001b[0m\u001b[0;34m\u001b[0m\u001b[0;34m\u001b[0m\u001b[0m\n\u001b[1;32m    735\u001b[0m \u001b[0;34m\u001b[0m\u001b[0m\n\u001b[0;32m--> 736\u001b[0;31m     \u001b[0;32mreturn\u001b[0m \u001b[0m_array2string\u001b[0m\u001b[0;34m(\u001b[0m\u001b[0ma\u001b[0m\u001b[0;34m,\u001b[0m \u001b[0moptions\u001b[0m\u001b[0;34m,\u001b[0m \u001b[0mseparator\u001b[0m\u001b[0;34m,\u001b[0m \u001b[0mprefix\u001b[0m\u001b[0;34m)\u001b[0m\u001b[0;34m\u001b[0m\u001b[0;34m\u001b[0m\u001b[0m\n\u001b[0m\u001b[1;32m    737\u001b[0m \u001b[0;34m\u001b[0m\u001b[0m\n\u001b[1;32m    738\u001b[0m \u001b[0;34m\u001b[0m\u001b[0m\n",
      "\u001b[0;32m/opt/anaconda/lib/python3.8/site-packages/numpy/core/arrayprint.py\u001b[0m in \u001b[0;36mwrapper\u001b[0;34m(self, *args, **kwargs)\u001b[0m\n\u001b[1;32m    511\u001b[0m             \u001b[0mrepr_running\u001b[0m\u001b[0;34m.\u001b[0m\u001b[0madd\u001b[0m\u001b[0;34m(\u001b[0m\u001b[0mkey\u001b[0m\u001b[0;34m)\u001b[0m\u001b[0;34m\u001b[0m\u001b[0;34m\u001b[0m\u001b[0m\n\u001b[1;32m    512\u001b[0m             \u001b[0;32mtry\u001b[0m\u001b[0;34m:\u001b[0m\u001b[0;34m\u001b[0m\u001b[0;34m\u001b[0m\u001b[0m\n\u001b[0;32m--> 513\u001b[0;31m                 \u001b[0;32mreturn\u001b[0m \u001b[0mf\u001b[0m\u001b[0;34m(\u001b[0m\u001b[0mself\u001b[0m\u001b[0;34m,\u001b[0m \u001b[0;34m*\u001b[0m\u001b[0margs\u001b[0m\u001b[0;34m,\u001b[0m \u001b[0;34m**\u001b[0m\u001b[0mkwargs\u001b[0m\u001b[0;34m)\u001b[0m\u001b[0;34m\u001b[0m\u001b[0;34m\u001b[0m\u001b[0m\n\u001b[0m\u001b[1;32m    514\u001b[0m             \u001b[0;32mfinally\u001b[0m\u001b[0;34m:\u001b[0m\u001b[0;34m\u001b[0m\u001b[0;34m\u001b[0m\u001b[0m\n\u001b[1;32m    515\u001b[0m                 \u001b[0mrepr_running\u001b[0m\u001b[0;34m.\u001b[0m\u001b[0mdiscard\u001b[0m\u001b[0;34m(\u001b[0m\u001b[0mkey\u001b[0m\u001b[0;34m)\u001b[0m\u001b[0;34m\u001b[0m\u001b[0;34m\u001b[0m\u001b[0m\n",
      "\u001b[0;32m/opt/anaconda/lib/python3.8/site-packages/numpy/core/arrayprint.py\u001b[0m in \u001b[0;36m_array2string\u001b[0;34m(a, options, separator, prefix)\u001b[0m\n\u001b[1;32m    544\u001b[0m     \u001b[0mnext_line_prefix\u001b[0m \u001b[0;34m+=\u001b[0m \u001b[0;34m\" \"\u001b[0m\u001b[0;34m*\u001b[0m\u001b[0mlen\u001b[0m\u001b[0;34m(\u001b[0m\u001b[0mprefix\u001b[0m\u001b[0;34m)\u001b[0m\u001b[0;34m\u001b[0m\u001b[0;34m\u001b[0m\u001b[0m\n\u001b[1;32m    545\u001b[0m \u001b[0;34m\u001b[0m\u001b[0m\n\u001b[0;32m--> 546\u001b[0;31m     lst = _formatArray(a, format_function, options['linewidth'],\n\u001b[0m\u001b[1;32m    547\u001b[0m                        \u001b[0mnext_line_prefix\u001b[0m\u001b[0;34m,\u001b[0m \u001b[0mseparator\u001b[0m\u001b[0;34m,\u001b[0m \u001b[0moptions\u001b[0m\u001b[0;34m[\u001b[0m\u001b[0;34m'edgeitems'\u001b[0m\u001b[0;34m]\u001b[0m\u001b[0;34m,\u001b[0m\u001b[0;34m\u001b[0m\u001b[0;34m\u001b[0m\u001b[0m\n\u001b[1;32m    548\u001b[0m                        summary_insert, options['legacy'])\n",
      "\u001b[0;32m/opt/anaconda/lib/python3.8/site-packages/numpy/core/arrayprint.py\u001b[0m in \u001b[0;36m_formatArray\u001b[0;34m(a, format_function, line_width, next_line_prefix, separator, edge_items, summary_insert, legacy)\u001b[0m\n\u001b[1;32m    887\u001b[0m     \u001b[0;32mtry\u001b[0m\u001b[0;34m:\u001b[0m\u001b[0;34m\u001b[0m\u001b[0;34m\u001b[0m\u001b[0m\n\u001b[1;32m    888\u001b[0m         \u001b[0;31m# invoke the recursive part with an initial index and prefix\u001b[0m\u001b[0;34m\u001b[0m\u001b[0;34m\u001b[0m\u001b[0;34m\u001b[0m\u001b[0m\n\u001b[0;32m--> 889\u001b[0;31m         return recurser(index=(),\n\u001b[0m\u001b[1;32m    890\u001b[0m                         \u001b[0mhanging_indent\u001b[0m\u001b[0;34m=\u001b[0m\u001b[0mnext_line_prefix\u001b[0m\u001b[0;34m,\u001b[0m\u001b[0;34m\u001b[0m\u001b[0;34m\u001b[0m\u001b[0m\n\u001b[1;32m    891\u001b[0m                         curr_width=line_width)\n",
      "\u001b[0;32m/opt/anaconda/lib/python3.8/site-packages/numpy/core/arrayprint.py\u001b[0m in \u001b[0;36mrecurser\u001b[0;34m(index, hanging_indent, curr_width)\u001b[0m\n\u001b[1;32m    843\u001b[0m \u001b[0;34m\u001b[0m\u001b[0m\n\u001b[1;32m    844\u001b[0m             \u001b[0;32mfor\u001b[0m \u001b[0mi\u001b[0m \u001b[0;32min\u001b[0m \u001b[0mrange\u001b[0m\u001b[0;34m(\u001b[0m\u001b[0mtrailing_items\u001b[0m\u001b[0;34m,\u001b[0m \u001b[0;36m1\u001b[0m\u001b[0;34m,\u001b[0m \u001b[0;34m-\u001b[0m\u001b[0;36m1\u001b[0m\u001b[0;34m)\u001b[0m\u001b[0;34m:\u001b[0m\u001b[0;34m\u001b[0m\u001b[0;34m\u001b[0m\u001b[0m\n\u001b[0;32m--> 845\u001b[0;31m                 \u001b[0mword\u001b[0m \u001b[0;34m=\u001b[0m \u001b[0mrecurser\u001b[0m\u001b[0;34m(\u001b[0m\u001b[0mindex\u001b[0m \u001b[0;34m+\u001b[0m \u001b[0;34m(\u001b[0m\u001b[0;34m-\u001b[0m\u001b[0mi\u001b[0m\u001b[0;34m,\u001b[0m\u001b[0;34m)\u001b[0m\u001b[0;34m,\u001b[0m \u001b[0mnext_hanging_indent\u001b[0m\u001b[0;34m,\u001b[0m \u001b[0mnext_width\u001b[0m\u001b[0;34m)\u001b[0m\u001b[0;34m\u001b[0m\u001b[0;34m\u001b[0m\u001b[0m\n\u001b[0m\u001b[1;32m    846\u001b[0m                 s, line = _extendLine_pretty(\n\u001b[1;32m    847\u001b[0m                     s, line, word, elem_width, hanging_indent, legacy)\n",
      "\u001b[0;32m/opt/anaconda/lib/python3.8/site-packages/numpy/core/arrayprint.py\u001b[0m in \u001b[0;36mrecurser\u001b[0;34m(index, hanging_indent, curr_width)\u001b[0m\n\u001b[1;32m    797\u001b[0m \u001b[0;34m\u001b[0m\u001b[0m\n\u001b[1;32m    798\u001b[0m         \u001b[0;32mif\u001b[0m \u001b[0maxes_left\u001b[0m \u001b[0;34m==\u001b[0m \u001b[0;36m0\u001b[0m\u001b[0;34m:\u001b[0m\u001b[0;34m\u001b[0m\u001b[0;34m\u001b[0m\u001b[0m\n\u001b[0;32m--> 799\u001b[0;31m             \u001b[0;32mreturn\u001b[0m \u001b[0mformat_function\u001b[0m\u001b[0;34m(\u001b[0m\u001b[0ma\u001b[0m\u001b[0;34m[\u001b[0m\u001b[0mindex\u001b[0m\u001b[0;34m]\u001b[0m\u001b[0;34m)\u001b[0m\u001b[0;34m\u001b[0m\u001b[0;34m\u001b[0m\u001b[0m\n\u001b[0m\u001b[1;32m    800\u001b[0m \u001b[0;34m\u001b[0m\u001b[0m\n\u001b[1;32m    801\u001b[0m         \u001b[0;31m# when recursing, add a space to align with the [ added, and reduce the\u001b[0m\u001b[0;34m\u001b[0m\u001b[0;34m\u001b[0m\u001b[0;34m\u001b[0m\u001b[0m\n",
      "\u001b[0;32m/opt/anaconda/lib/python3.8/site-packages/numpy/core/arrayprint.py\u001b[0m in \u001b[0;36m__call__\u001b[0;34m(self, x)\u001b[0m\n\u001b[1;32m   1028\u001b[0m \u001b[0;34m\u001b[0m\u001b[0m\n\u001b[1;32m   1029\u001b[0m         \u001b[0;32mif\u001b[0m \u001b[0mself\u001b[0m\u001b[0;34m.\u001b[0m\u001b[0mexp_format\u001b[0m\u001b[0;34m:\u001b[0m\u001b[0;34m\u001b[0m\u001b[0;34m\u001b[0m\u001b[0m\n\u001b[0;32m-> 1030\u001b[0;31m             return dragon4_scientific(x,\n\u001b[0m\u001b[1;32m   1031\u001b[0m                                       \u001b[0mprecision\u001b[0m\u001b[0;34m=\u001b[0m\u001b[0mself\u001b[0m\u001b[0;34m.\u001b[0m\u001b[0mprecision\u001b[0m\u001b[0;34m,\u001b[0m\u001b[0;34m\u001b[0m\u001b[0;34m\u001b[0m\u001b[0m\n\u001b[1;32m   1032\u001b[0m                                       \u001b[0mmin_digits\u001b[0m\u001b[0;34m=\u001b[0m\u001b[0mself\u001b[0m\u001b[0;34m.\u001b[0m\u001b[0mmin_digits\u001b[0m\u001b[0;34m,\u001b[0m\u001b[0;34m\u001b[0m\u001b[0;34m\u001b[0m\u001b[0m\n",
      "\u001b[0;31mKeyboardInterrupt\u001b[0m: "
     ]
    }
   ],
   "source": [
    "import pandas as pd\n",
    "import numpy as np\n",
    "import csv\n",
    "import re\n",
    "from scipy.spatial import distance \n",
    "from tqdm import tqdm \n",
    "from multiprocessing import Pool \n",
    "\n",
    "#Output path for the dataframe after filtering and getting cosine similarity of filtered pairs \n",
    "outputPath = \"/home/blitt/projects/localNews/data/interim/similarityAnalysis/articlePairsCosineSim.tsv\"\n",
    "\n",
    "#read in data \n",
    "df = pd.read_csv(\"/shared/3/projects/benlitterer/localNews/NetworkMVP/dataWithEmbeddings.tsv\", sep=\"\\t\", converters={\"embedding\":lambda x: np.array(x.strip(\"[]\").split(), dtype=float)})\n",
    "\n",
    "print(\"Input data shape: \" + str(df.shape))\n",
    "\n",
    "df = df[[\"key\", \"topics\", \"embedding\"]]\n",
    "\n",
    "print(\"parsing\")\n",
    "\n",
    "def cleanList(inList): \n",
    "    return [str(re.sub(\"[^a-zA-Z0-9 ]\", \"\", item).lower()) for item in inList]\n",
    "\n",
    "def parseList(inStr): \n",
    "    split = inStr.split(\"\\'), (\\'\")\n",
    "    return [cleanList(item.split(\"', '\")) for item in split]\n",
    "\n",
    "#parse topics from string to actual list of tuples \n",
    "df[\"topics\"] = df[\"topics\"].apply(parseList)\n",
    "\n",
    "print(\"parsed\")\n",
    "\n",
    "#test out idea for creating reverse mapping \n",
    "df = df.dropna(subset=[\"topics\"])\n",
    "\n",
    "#bring each tuple into its own row \n",
    "df = df.explode(\"topics\")\n",
    "\n",
    "#bring each tuple entry into its own column \n",
    "#split ent_type, entity pairs to columns \n",
    "df[[\"ent_type\",\"entity\"]] = pd.DataFrame(df[\"topics\"].tolist(), index=df.index)\n",
    "\n",
    "print(\"formatted\") \n",
    "\n",
    "#keep only the entity types that may be interesting \n",
    "toKeep = [\"org\",\"event\", \"person\", \"work_of_art\", \"product\"]\n",
    "df = df[df[\"ent_type\"].isin(toKeep)]\n",
    "\n",
    "#the data grouped into entity clusters \n",
    "grouped = df[[\"embedding\", \"ent_type\", \"entity\", \"key\"]].groupby(by=[\"ent_type\", \"entity\"]).agg(list)\n",
    "\n",
    "#get the cluster length \n",
    "grouped[\"articleNum\"] = grouped[\"key\"].apply(len)\n",
    "\n",
    "#filter out named entities that are too common, since they likely aren't that meaningful/specific \n",
    "groupedLean = grouped[(grouped[\"articleNum\"] > 5) & (grouped[\"articleNum\"] < 1000)]\n",
    "\n",
    "print(\"Shape after grouping: \" + str(groupedLean.shape))\n",
    "\n",
    "def getPairwise(inList): \n",
    "    return [(item1, item2) for item2 in inList for item1 in inList]\n",
    "\n",
    "#we only needed the articleNum column for filtering \n",
    "df = groupedLean[[\"key\", \"embedding\"]]\n",
    "\n",
    "#get all of the pairs for a given list of articles and a given list of embeddings \n",
    "df[\"embedding\"] = df[\"embedding\"].apply(getPairwise)\n",
    "df[\"key\"] = df[\"key\"].apply(getPairwise)\n",
    "\n",
    "#\"explode\" the pairs into a seperate row (this is when we have a TON of data)\n",
    "exploded = df.apply(pd.Series.explode).drop_duplicates(subset=[\"key\"])\n",
    "\n",
    "print(\"Exploded size: \" + str(exploded.shape))\n",
    "\n",
    "def getCos(inList): \n",
    "    return 1 - distance.cosine(inList[0], inList[1])\n",
    "\n",
    "def getCosSeries(inSeries): \n",
    "    return inSeries.apply(getCos)\n",
    "\n",
    "embeddings = exploded[\"embedding\"]\n",
    "\n",
    "with Pool(12) as pool: \n",
    "    splitList = np.array_split(embeddings, 10)\n",
    "    similarityArrs = list(tqdm(pool.imap(getCosSeries, splitList), total=10))\n",
    "    similarity = pd.concat(similarityArrs)\n",
    "\n",
    "exploded[\"similarity\"] = similarity\n",
    "\n",
    "print(\"writing\")\n",
    "exploded[[\"key\", \"similarity\"]].to_csv(outputPath, sep=\"\\t\", quoting=csv.QUOTE_NONNUMERIC)\n",
    "print(\"written\")"
   ]
  }
 ],
 "metadata": {
  "kernelspec": {
   "display_name": "Python 3",
   "language": "python",
   "name": "python3"
  },
  "language_info": {
   "codemirror_mode": {
    "name": "ipython",
    "version": 3
   },
   "file_extension": ".py",
   "mimetype": "text/x-python",
   "name": "python",
   "nbconvert_exporter": "python",
   "pygments_lexer": "ipython3",
   "version": "3.8.5"
  }
 },
 "nbformat": 4,
 "nbformat_minor": 4
}
